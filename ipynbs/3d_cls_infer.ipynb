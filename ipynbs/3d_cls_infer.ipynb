{
 "cells": [
  {
   "cell_type": "code",
   "execution_count": 1,
   "id": "c5643715",
   "metadata": {
    "tags": []
   },
   "outputs": [],
   "source": [
    "import os\n",
    "# os.environ['CUDA_VISIBLE_DEVICES'] = '3'\n",
    "# os.environ['CUDA_DEVICE_ORDER'] = 'PCI_BUS_ID'"
   ]
  },
  {
   "cell_type": "code",
   "execution_count": 122,
   "id": "b365d766",
   "metadata": {
    "scrolled": true,
    "tags": []
   },
   "outputs": [],
   "source": [
    "import sys\n",
    "sys.path.append('../src/')\n",
    "\n",
    "import numpy as np\n",
    "import matplotlib.pyplot as plt\n",
    "import pandas as pd\n",
    "import cv2\n",
    "\n",
    "from zoo import ResNet3dCSN2P1D\n",
    "\n",
    "import wandb\n",
    "import pytorch_lightning as pl\n",
    "from pytorch_lightning.loggers import WandbLogger\n",
    "from pytorch_lightning.callbacks import LearningRateMonitor\n",
    "from pytorch_lightning.callbacks import ModelCheckpoint\n",
    "\n",
    "import torch\n",
    "from torch.utils.data import Dataset, DataLoader, WeightedRandomSampler\n",
    "import torch.nn.functional as F\n",
    "\n",
    "import SimpleITK as sitk\n",
    "from src.datasets.cls_dataset import ClassifierDataset\n",
    "# from src.datasets.seg_dataset import read_folder_sitk\n",
    "\n",
    "from src.aug.seg_aug import SameResAugsAlbu\n",
    "from src.metrics.cls_metric import Metric\n",
    "from src.losses.seg_loss import SegFastLossCalculator\n",
    "from src.metrics.seg_metrics import multiclass_dice_coefficient\n",
    "import glob"
   ]
  },
  {
   "cell_type": "code",
   "execution_count": 123,
   "id": "95dabba4",
   "metadata": {
    "tags": []
   },
   "outputs": [],
   "source": [
    "from dataclasses import dataclass"
   ]
  },
  {
   "cell_type": "code",
   "execution_count": 124,
   "id": "895ff12a",
   "metadata": {
    "tags": []
   },
   "outputs": [],
   "source": [
    "ROOT = 'data'"
   ]
  },
  {
   "cell_type": "code",
   "execution_count": 125,
   "id": "a10f161b-8a69-4f6e-b21e-84a503ef1ffb",
   "metadata": {
    "tags": []
   },
   "outputs": [],
   "source": [
    "df = pd.read_csv(f\"{ROOT}/train_spleen.csv\")\n",
    "# pids = np.array(os.listdir(f\"{ROOT}/liver_dataset/liver_crops\"), dtype=int)\n",
    "# print(df.shape)\n",
    "# df = df[df.patient_id.apply(lambda x: True if x in pids else False)]\n",
    "# print(df.shape)\n",
    "# df = df.reset_index()\n",
    "# df.to_csv(f\"{ROOT}/train_liver.csv\")"
   ]
  },
  {
   "cell_type": "code",
   "execution_count": 271,
   "id": "a6ce8bed",
   "metadata": {
    "tags": []
   },
   "outputs": [],
   "source": [
    "@dataclass\n",
    "class CFG:\n",
    "    # dataset\n",
    "    path_to_images: str = f\"{ROOT}/spleen_dataset/spleen_crops\"\n",
    "    path_to_meta_csv: str = f\"{ROOT}/train_spleen.csv\"\n",
    "    fold: int = 4\n",
    "    shape: tuple = (128, 128, 64) # whd\n",
    "    target: str = 'multi'\n",
    "    num_workes: int = 6\n",
    "    group: str = \"Egor\"\n",
    "    description: str = '''baseline adamw+plateuo only 1 scan weighted loss'''\n",
    "    \n",
    "    # training\n",
    "    num_classes: int = 3\n",
    "    batch_size: int = 8\n",
    "    wandb_project: str = 'RSNA_classification_spleen'\n",
    "    default_root_dir: str = 'cls'\n",
    "    checkpoints_dir: str = 'cls/checkpoints'\n",
    "    lr: float = 3e-4\n",
    "    weight_decay: float = 1e-2\n",
    "    max_epochs: int = 300\n",
    "\n",
    "# Note: you need to define `ROOT` somewhere above the dataclass for the f-strings to work."
   ]
  },
  {
   "cell_type": "code",
   "execution_count": 272,
   "id": "cb3cdfd6",
   "metadata": {
    "tags": []
   },
   "outputs": [],
   "source": [
    "CFG = CFG()"
   ]
  },
  {
   "cell_type": "code",
   "execution_count": 273,
   "id": "67002af8",
   "metadata": {
    "tags": []
   },
   "outputs": [],
   "source": [
    "# import torch\n",
    "# from torch.utils.data import DataLoader, WeightedRandomSampler\n",
    "\n",
    "# def make_binary_balanced_sampler(labels):\n",
    "#     \"\"\"Create a sampler for balanced sampling.\"\"\"\n",
    "#     class_counts = {}\n",
    "#     for label in labels:\n",
    "#         class_counts[label] = class_counts.get(label, 0) + 1\n",
    "\n",
    "#     num_samples = len(labels)\n",
    "#     weights = [1.0 / class_counts[label] for label in labels]\n",
    "\n",
    "#     sampler = WeightedRandomSampler(weights, num_samples)\n",
    "#     return sampler"
   ]
  },
  {
   "cell_type": "code",
   "execution_count": 274,
   "id": "bb50000f",
   "metadata": {
    "tags": []
   },
   "outputs": [],
   "source": [
    "train_dataset = ClassifierDataset(\n",
    "    mode = \"train\",\n",
    "    target=CFG.target,\n",
    "    fold = CFG.fold,\n",
    "    path_to_images = CFG.path_to_images,\n",
    "    path_to_meta_csv = CFG.path_to_meta_csv,\n",
    "    shape = CFG.shape\n",
    ")"
   ]
  },
  {
   "cell_type": "code",
   "execution_count": 275,
   "id": "fe55f37d",
   "metadata": {
    "tags": []
   },
   "outputs": [],
   "source": [
    "val_dataset = ClassifierDataset(\n",
    "    mode = \"eval\",\n",
    "    target=CFG.target,\n",
    "    fold = CFG.fold,\n",
    "    path_to_images = CFG.path_to_images,\n",
    "    path_to_meta_csv = CFG.path_to_meta_csv,\n",
    "    shape = CFG.shape\n",
    ")"
   ]
  },
  {
   "cell_type": "code",
   "execution_count": 276,
   "id": "72e71768-69a0-4c32-a30d-52c4d2eafb07",
   "metadata": {
    "tags": []
   },
   "outputs": [],
   "source": [
    "test_dataset = ClassifierDataset(\n",
    "    mode = \"test\",\n",
    "    target=CFG.target,\n",
    "    fold = CFG.fold,\n",
    "    path_to_images = CFG.path_to_images,\n",
    "    path_to_meta_csv = CFG.path_to_meta_csv,\n",
    "    shape = CFG.shape\n",
    ")"
   ]
  },
  {
   "cell_type": "code",
   "execution_count": 277,
   "id": "623d9a7f",
   "metadata": {
    "scrolled": true,
    "tags": []
   },
   "outputs": [],
   "source": [
    "# organ = 'spleen'\n",
    "# available = np.array(os.listdir(f'/mnt/nvme13TB/RAW_DATASETS/rsna-2023/{organ}_crops/'), int)\n",
    "# meta[meta.patient_id.isin(available)].to_csv(f'/mnt/nvme13TB/RAW_DATASETS/rsna-2023/train_{organ}.csv', index=False)"
   ]
  },
  {
   "cell_type": "code",
   "execution_count": 278,
   "id": "72b945fd",
   "metadata": {
    "tags": []
   },
   "outputs": [],
   "source": [
    "batch_size = CFG.batch_size\n",
    "train_sampler = None"
   ]
  },
  {
   "cell_type": "code",
   "execution_count": 279,
   "id": "706ecf34",
   "metadata": {
    "tags": []
   },
   "outputs": [],
   "source": [
    "targets = train_dataset.meta[[\"healthy\", \"low\", \"high\"]].values.argmax(1)"
   ]
  },
  {
   "cell_type": "code",
   "execution_count": 280,
   "id": "9545ef33",
   "metadata": {
    "tags": []
   },
   "outputs": [],
   "source": [
    "class_counts = np.bincount(targets)"
   ]
  },
  {
   "cell_type": "code",
   "execution_count": 281,
   "id": "3f5e21f4",
   "metadata": {
    "tags": []
   },
   "outputs": [],
   "source": [
    "class_weights = 1. / class_counts\n",
    "weights = class_weights[targets]\n",
    "sampler = WeightedRandomSampler(weights, len(weights))"
   ]
  },
  {
   "cell_type": "code",
   "execution_count": 282,
   "id": "6d15413e",
   "metadata": {
    "tags": []
   },
   "outputs": [],
   "source": [
    "train_loader = DataLoader(train_dataset, batch_size=batch_size, sampler=sampler, shuffle=False, num_workers=CFG.num_workes)\n",
    "val_loader = DataLoader(val_dataset, batch_size=1, shuffle=False, num_workers=CFG.num_workes)\n",
    "test_loader = DataLoader(test_dataset, batch_size=1, shuffle=False, num_workers=CFG.num_workes)"
   ]
  },
  {
   "cell_type": "code",
   "execution_count": 283,
   "id": "0f055178",
   "metadata": {
    "scrolled": true,
    "tags": []
   },
   "outputs": [
    {
     "name": "stdout",
     "output_type": "stream",
     "text": [
      "Batch 0:\n",
      "Keys dict_keys(['image', 'label', 'patient_id'])\n",
      "Images shape torch.Size([1, 3, 128, 128, 64])\n",
      "tensor([[0, 0, 1]])\n",
      "CPU times: user 7.49 ms, sys: 321 ms, total: 328 ms\n",
      "Wall time: 617 ms\n"
     ]
    }
   ],
   "source": [
    "%%time\n",
    "for batch_idx, batch in enumerate(val_loader):\n",
    "    print(f\"Batch {batch_idx}:\")\n",
    "    print(f\"Keys {batch.keys()}\")\n",
    "    print(f\"Images shape {batch['image'].shape}\")\n",
    "    print(batch['label'])\n",
    "    break"
   ]
  },
  {
   "cell_type": "code",
   "execution_count": 284,
   "id": "5d30f01c",
   "metadata": {
    "tags": []
   },
   "outputs": [],
   "source": [
    "from torch import nn\n",
    "\n",
    "from zoo import ResNet3dCSN\n",
    "from zoo.utils import _initialize_weights\n",
    "\n",
    "\n",
    "class ClassifierResNet3dCSN2P1D(nn.Module):\n",
    "    def __init__(\n",
    "        self,\n",
    "        encoder=\"r50ir\",\n",
    "        pool=\"avg\",\n",
    "        norm_eval=False,\n",
    "        num_classes=1,\n",
    "        head_dropout=0.2,\n",
    "    ) -> None:\n",
    "        super().__init__()\n",
    "\n",
    "        self.head = nn.Sequential(\n",
    "            nn.Linear(2048, 1024),\n",
    "            nn.GELU(),\n",
    "            nn.Dropout(head_dropout),\n",
    "            nn.Linear(1024, num_classes),\n",
    "        )\n",
    "        self.avg_pool = (\n",
    "            nn.AdaptiveAvgPool3d((1, 1, 1))\n",
    "            if pool == \"avg\"\n",
    "            else nn.AdaptiveMaxPool3d((1, 1, 1))\n",
    "        )\n",
    "        self.dropout = nn.Dropout(0.5)\n",
    "        _initialize_weights(self)\n",
    "\n",
    "        self.backbone = ResNet3dCSN(\n",
    "            pretrained2d=False,\n",
    "            pretrained=None,\n",
    "            depth=int(encoder[1:-2]),\n",
    "            with_pool2=False,\n",
    "            bottleneck_mode=encoder[-2:],\n",
    "            norm_eval=norm_eval,\n",
    "            zero_init_residual=False,\n",
    "        )\n",
    "\n",
    "    def forward(self, x):\n",
    "        if x.size(1) == 1:\n",
    "            x = x.repeat(1, 3, 1, 1, 1)[:, :, :, :, :]\n",
    "        x = self.backbone(x)[-1]\n",
    "        x = self.avg_pool(x)\n",
    "        x = self.dropout(x)\n",
    "        x = x.flatten(1)\n",
    "        x = self.head(x)\n",
    "        return x\n"
   ]
  },
  {
   "cell_type": "code",
   "execution_count": 285,
   "id": "b248b2ee",
   "metadata": {
    "tags": []
   },
   "outputs": [],
   "source": [
    "import torch.nn.functional as F\n",
    "from sklearn.metrics import f1_score\n",
    "\n",
    "class LitClassifier3d(pl.LightningModule):\n",
    "\n",
    "    def __init__(self, config, num_classes, encoder=\"r50ir\", pool='avg', pretrain='', **kwargs):\n",
    "        super().__init__()\n",
    "        self.args = config\n",
    "        self.learning_rate = config.lr\n",
    "        self.save_hyperparameters()            \n",
    "        self.model = ClassifierResNet3dCSN2P1D(encoder=encoder, num_classes=num_classes, pool=pool)\n",
    "        if pretrain:\n",
    "            self.model.load_state_dict(torch.load(pretrain), strict=False)\n",
    "            print(f'resumed from {pretrain}')\n",
    "        \n",
    "        if num_classes == 1:\n",
    "            self.loss_fn = nn.BCEWithLogitsLoss() \n",
    "        else:\n",
    "            self.loss_fn = nn.CrossEntropyLoss(weight=torch.FloatTensor([1.0, 2.0, 4.0]), label_smoothing=0.1)\n",
    "#             self.loss_fn = nn.CrossEntropyLoss()\n",
    "\n",
    "    def forward(self, batch):\n",
    "        return self.model(batch['image'])\n",
    "    \n",
    "    def compute_f1(self, logits, labels):\n",
    "        if self.hparams.num_classes == 1:\n",
    "            preds = torch.sigmoid(logits)\n",
    "            preds = (preds > 0.5).squeeze().long()  # Convert to binary\n",
    "            labels = labels.long()\n",
    "        else:\n",
    "            preds = torch.argmax(logits, dim=1).long()\n",
    "            labels = torch.argmax(labels, dim=1).long()\n",
    "\n",
    "        return f1_score(labels.cpu().numpy(), preds.cpu().numpy(), average='macro')\n",
    "    \n",
    "\n",
    "    def training_step(self, batch, batch_idx):\n",
    "        logits = self.model(batch['image']).float()\n",
    "        labels = batch['label'].float()\n",
    "        if self.hparams.num_classes == 1:\n",
    "            logits = logits.squeeze()\n",
    "        loss = self.loss_fn(logits, labels)\n",
    "\n",
    "        self.log(\"train_loss\", loss, on_step=True, on_epoch=True, prog_bar=True, logger=True)\n",
    "        return loss\n",
    "\n",
    "    def validation_step(self, batch, batch_idx):\n",
    "        logits = self.model(batch['image']).float()\n",
    "        labels = batch['label'].float()\n",
    "        if self.hparams.num_classes == 1:\n",
    "            logits = logits.squeeze()\n",
    "        loss = self.loss_fn(logits, labels)\n",
    "    \n",
    "        f1 = self.compute_f1(logits, labels)\n",
    "\n",
    "        self.log(\"val_loss\", loss, on_step=True, on_epoch=True, prog_bar=True, logger=True)\n",
    "        self.log(\"val_macro_f1\", f1, on_step=True, on_epoch=True, prog_bar=True, logger=True)\n",
    "\n",
    "    \n",
    "    def configure_optimizers(self):\n",
    "        optimizer = torch.optim.AdamW(self.model.parameters(), lr=self.learning_rate, weight_decay=1e-2)\n",
    "        lr_scheduler = {\n",
    "                        'scheduler': torch.optim.lr_scheduler.ReduceLROnPlateau(optimizer, 'min',\n",
    "                                                                                factor=0.5,\n",
    "                                                                                patience=8,\n",
    "                                                                                threshold=0.07,),\n",
    "                        'interval': 'epoch',\n",
    "                        'frequency': 1,\n",
    "                        'monitor': \"train_loss\",\n",
    "                        'name': 'lr/reduce_on_plateau'\n",
    "                        }\n",
    "        return [optimizer], [lr_scheduler]"
   ]
  },
  {
   "cell_type": "code",
   "execution_count": 286,
   "id": "49ef447c",
   "metadata": {
    "tags": []
   },
   "outputs": [],
   "source": [
    "# pretrain = 'weights/vmz_ipcsn_ig65m_pretrained_r152_32x2x1_58e_kinetics400_rgb_20210617-c3be9793.pth'\n",
    "# pretrain = 'weights/ircsn_ig65m_pretrained_r152_32x2x1_58e_kinetics400_rgb_20200803-fc66ce8d.pth'"
   ]
  },
  {
   "cell_type": "code",
   "execution_count": 287,
   "id": "10f38103",
   "metadata": {
    "tags": []
   },
   "outputs": [],
   "source": [
    "# encoder_name = \"r152ir\"\n",
    "# # encoder_name = \"r152ip\"\n",
    "# pool = 'max'\n",
    "# num_classes = 3"
   ]
  },
  {
   "cell_type": "code",
   "execution_count": 288,
   "id": "919757e0",
   "metadata": {
    "tags": []
   },
   "outputs": [
    {
     "data": {
      "text/plain": [
       "(128, 128, 64)"
      ]
     },
     "execution_count": 288,
     "metadata": {},
     "output_type": "execute_result"
    }
   ],
   "source": [
    "CFG.shape"
   ]
  },
  {
   "cell_type": "code",
   "execution_count": 289,
   "id": "ac36d449",
   "metadata": {
    "tags": []
   },
   "outputs": [],
   "source": [
    "# wandb_name = f'kidneys_{encoder_name}_fold2_patience8_shape_192_112_64'"
   ]
  },
  {
   "cell_type": "code",
   "execution_count": 290,
   "id": "c32bfe3d",
   "metadata": {
    "scrolled": true,
    "tags": []
   },
   "outputs": [],
   "source": [
    "# wandb.login()\n",
    "# #8f08ab2acb47b91781c978546c53a881e5c5a3df\n",
    "# wandb_logger = WandbLogger(project = CFG.wandb_project, name=wandb_name, group=CFG.group)\n",
    "\n",
    "# wandb.config.update({k: v for k, v in CFG.__dict__.items() if not k.startswith(\"__\")})"
   ]
  },
  {
   "cell_type": "code",
   "execution_count": 291,
   "id": "9c3c92e7",
   "metadata": {
    "tags": []
   },
   "outputs": [],
   "source": [
    "# model = LitClassifier3d(config = CFG, num_classes=num_classes, encoder = encoder_name, pool=pool, pretrain=pretrain)\n",
    "# lr_monitor = LearningRateMonitor(logging_interval='epoch')"
   ]
  },
  {
   "cell_type": "code",
   "execution_count": 292,
   "id": "9709a247",
   "metadata": {
    "tags": []
   },
   "outputs": [],
   "source": [
    "# checkpoint_callback = ModelCheckpoint(\n",
    "#     dirpath = CFG.checkpoints_dir,\n",
    "#     monitor = 'val_loss',\n",
    "#     save_top_k = 3,\n",
    "#     filename = 'kidneys/' + wandb_name+ '_fold_2_{epoch}-{val_loss:.3f}',\n",
    "#     mode = 'min',\n",
    "#     save_weights_only=True,\n",
    "# )\n"
   ]
  },
  {
   "cell_type": "code",
   "execution_count": 293,
   "id": "ffc5c903",
   "metadata": {
    "tags": []
   },
   "outputs": [
    {
     "name": "stderr",
     "output_type": "stream",
     "text": [
      "GPU available: True (cuda), used: True\n",
      "TPU available: False, using: 0 TPU cores\n",
      "IPU available: False, using: 0 IPUs\n",
      "HPU available: False, using: 0 HPUs\n"
     ]
    }
   ],
   "source": [
    "trainer = pl.Trainer(#logger = wandb_logger,\n",
    "                     #default_root_dir = CFG.default_root_dir,\n",
    "                     accelerator = 'cuda',\n",
    "                     #amp_backend=\"apex\",\n",
    "                     #callbacks = [checkpoint_callback, lr_monitor],\n",
    "                     #max_epochs = CFG.max_epochs,\n",
    "                     #check_val_every_n_epoch = 1,\n",
    "                     )\n",
    "\n",
    "# trainer.fit(model, train_dataloaders = train_loader, val_dataloaders = val_loader)"
   ]
  },
  {
   "cell_type": "code",
   "execution_count": 294,
   "id": "63ab7061",
   "metadata": {
    "tags": []
   },
   "outputs": [],
   "source": [
    "# model2 = LitClassifier3d.load_from_checkpoint('cls/checkpoints/spleen/spleen_r152ir_fold2_patience15_shape_128_128_64_fold_2_epoch=79-val_loss=1.152.ckpt', map_location = 'cpu', config=CFG)\n",
    "# model2 = LitClassifier3d.load_from_checkpoint('cls/checkpoints/spleen/r152ir_shape:(128, 128, 96)_fold_0_epoch=33-val_loss=0.445.ckpt', config=CFG)"
   ]
  },
  {
   "cell_type": "code",
   "execution_count": 295,
   "id": "49d01efa",
   "metadata": {},
   "outputs": [
    {
     "data": {
      "text/plain": [
       "'spleen_r152ir_fold2_patience15_shape_128_128_64_fold_2_epoch=93-val_loss=1.172.ckpt'"
      ]
     },
     "execution_count": 295,
     "metadata": {},
     "output_type": "execute_result"
    }
   ],
   "source": [
    "'kidneys_r152ir_fold2_patience8_shape_192_112_64_fold_2_epoch=61-val_loss=0.952.ckpt'\n",
    "'kidneys_r152ir_fold2_patience8_shape_192_112_64_fold_2_epoch=84-val_loss=0.956.ckpt'\n",
    "'kidneys_r152ir_fold2_patience8_shape_192_112_64_fold_2_epoch=85-val_loss=0.957.ckpt'\n",
    "    \n",
    "'kidneys_r152ir_fold1_patience8_shape_192_112_64_fold_2_epoch=80-val_loss=0.960.ckpt'\n",
    "'kidneys_r152ir_fold1_patience10_rerun_shape_192_112_64_fold_1_epoch=54-val_loss=0.974.ckpt' \n",
    "'kidneys_r152ir_fold1_patience8_shape_192_112_64_fold_2_epoch=76-val_loss=0.964.ckpt'  \n",
    "\n",
    "\n",
    "'kidneys_r152ir_fold4_patienceinf_192_112_64_fold_4_epoch=130-val_loss=0.911.ckpt'\n",
    "'kidneys_r152ir_fold4_patienceinf_192_112_64_fold_4_epoch=178-val_loss=0.911.ckpt'\n",
    "'kidneys_r152ir_fold4_patienceinf_192_112_64_fold_4_epoch=203-val_loss=0.914.ckpt'\n",
    "\n",
    "\n",
    "'spleen_r152ir_fold0_patience10_shape_128_128_64_fold_0_not_1_epoch=87-val_loss=1.146.ckpt'\n",
    "'spleen_r152ir_fold0_patience10_shape_128_128_64_fold_0_not_1_epoch=91-val_loss=1.154.ckpt'\n",
    "'spleen_r152ir_fold0_patience10_shape_128_128_64_fold_0_not_1_epoch=75-val_loss=1.137.ckpt'\n",
    "\n",
    "'spleen_r152ir_fold1_patience15_shape_128_128_64_fold_1_epoch=167-val_loss=1.179.ckpt'\n",
    "'spleen_r152ir_fold1_patience15_shape_128_128_64_fold_1_epoch=174-val_loss=1.176.ckpt'\n",
    "'spleen_r152ir_fold1_patience15_shape_128_128_64_fold_1_epoch=175-val_loss=1.177.ckpt'\n",
    "\n",
    "'spleen_r152ir_fold2_patience15_shape_128_128_64_fold_2_epoch=143-val_loss=1.179.ckpt'\n",
    "'spleen_r152ir_fold2_patience15_shape_128_128_64_fold_2_epoch=79-val_loss=1.152.ckpt'\n",
    "'spleen_r152ir_fold2_patience15_shape_128_128_64_fold_2_epoch=93-val_loss=1.172.ckpt'"
   ]
  },
  {
   "cell_type": "code",
   "execution_count": 296,
   "id": "9875dcaf",
   "metadata": {
    "tags": []
   },
   "outputs": [],
   "source": [
    "# torch.save(model2.model.state_dict(), 'weights/spleen/spleen_fold2.pt')"
   ]
  },
  {
   "cell_type": "code",
   "execution_count": 297,
   "id": "a872547d",
   "metadata": {
    "tags": []
   },
   "outputs": [],
   "source": [
    "m = ClassifierResNet3dCSN2P1D(encoder=\"r152ir\", num_classes=3, pool='max').to('cuda')\n",
    "m = m.eval()"
   ]
  },
  {
   "cell_type": "code",
   "execution_count": 298,
   "id": "0a4459ba",
   "metadata": {
    "tags": []
   },
   "outputs": [
    {
     "data": {
      "text/plain": [
       "<All keys matched successfully>"
      ]
     },
     "execution_count": 298,
     "metadata": {},
     "output_type": "execute_result"
    }
   ],
   "source": [
    "m.load_state_dict(torch.load('weights/spleen/spleen_fold4.pt'))"
   ]
  },
  {
   "cell_type": "code",
   "execution_count": 299,
   "id": "4e6b50c8",
   "metadata": {
    "tags": []
   },
   "outputs": [],
   "source": [
    "preds = []\n",
    "for i, batch in enumerate(val_loader):\n",
    "    # print(i)\n",
    "    p = m(batch['image'].to('cuda')).softmax(1).detach().cpu().numpy()\n",
    "    # print(p)\n",
    "    preds.extend(p)"
   ]
  },
  {
   "cell_type": "code",
   "execution_count": 300,
   "id": "8c173f67-b5ff-4720-96b2-8a5150b924aa",
   "metadata": {
    "tags": []
   },
   "outputs": [],
   "source": [
    "gts = []\n",
    "for batch in val_loader:\n",
    "    # p = m(batch['image'].to('cuda')).detach().cpu().numpy()\n",
    "    # gts.extend(p)\n",
    "    gts.extend(batch['label'].detach().cpu().numpy())"
   ]
  },
  {
   "cell_type": "code",
   "execution_count": 301,
   "id": "5db955ba",
   "metadata": {
    "tags": []
   },
   "outputs": [],
   "source": [
    "gts_ = np.array(gts).copy()\n",
    "preds_ = np.array(preds).copy()"
   ]
  },
  {
   "cell_type": "code",
   "execution_count": 302,
   "id": "bf603a97",
   "metadata": {
    "tags": []
   },
   "outputs": [
    {
     "data": {
      "text/plain": [
       "True"
      ]
     },
     "execution_count": 302,
     "metadata": {},
     "output_type": "execute_result"
    }
   ],
   "source": [
    "gts_.shape == preds_.shape"
   ]
  },
  {
   "cell_type": "code",
   "execution_count": 303,
   "id": "b23bd1ea",
   "metadata": {
    "tags": []
   },
   "outputs": [],
   "source": [
    "# 1: \"liver\",\n",
    "# 2: \"spleen\",\n",
    "# 3: \"kidney\",\n",
    "# 4: \"bowel\",\n",
    "# 5: \"extravasation\","
   ]
  },
  {
   "cell_type": "code",
   "execution_count": 304,
   "id": "4c72aa19",
   "metadata": {
    "tags": []
   },
   "outputs": [],
   "source": [
    "metric = Metric(label=2)"
   ]
  },
  {
   "cell_type": "code",
   "execution_count": 305,
   "id": "bc668207",
   "metadata": {
    "tags": []
   },
   "outputs": [
    {
     "data": {
      "text/plain": [
       "0.6589861570902424"
      ]
     },
     "execution_count": 305,
     "metadata": {},
     "output_type": "execute_result"
    }
   ],
   "source": [
    "metric.get_score(gts_, preds_[:])"
   ]
  },
  {
   "cell_type": "code",
   "execution_count": 306,
   "id": "3edc1eb8",
   "metadata": {
    "tags": []
   },
   "outputs": [
    {
     "name": "stderr",
     "output_type": "stream",
     "text": [
      "[I 2023-10-15 18:38:18,315] A new study created in memory with name: no-name-ba57042d-6d40-40cd-baf9-8be6e92a02cd\n",
      "[I 2023-10-15 18:38:18,321] Trial 0 finished with value: 0.7119782054647048 and parameters: {'f0': 3.27, 'f1': 0.77, 'f2': 2.13}. Best is trial 0 with value: 0.7119782054647048.\n",
      "[I 2023-10-15 18:38:18,324] Trial 1 finished with value: 0.7474586374079514 and parameters: {'f0': 1.1, 'f1': 4.8, 'f2': 0.61}. Best is trial 0 with value: 0.7119782054647048.\n",
      "[I 2023-10-15 18:38:18,327] Trial 2 finished with value: 0.7619283923096237 and parameters: {'f0': 1.6300000000000001, 'f1': 2.35, 'f2': 4.5}. Best is trial 0 with value: 0.7119782054647048.\n",
      "[I 2023-10-15 18:38:18,331] Trial 3 finished with value: 0.7228218557719338 and parameters: {'f0': 3.2, 'f1': 0.73, 'f2': 2.68}. Best is trial 0 with value: 0.7119782054647048.\n",
      "[I 2023-10-15 18:38:18,334] Trial 4 finished with value: 1.448583494574049 and parameters: {'f0': 0.17, 'f1': 3.47, 'f2': 2.5100000000000002}. Best is trial 0 with value: 0.7119782054647048.\n",
      "[I 2023-10-15 18:38:18,338] Trial 5 finished with value: 0.6590457668255277 and parameters: {'f0': 4.5, 'f1': 3.96, 'f2': 4.29}. Best is trial 5 with value: 0.6590457668255277.\n",
      "[I 2023-10-15 18:38:18,341] Trial 6 finished with value: 2.328186929325977 and parameters: {'f0': 0.06, 'f1': 0.53, 'f2': 4.94}. Best is trial 5 with value: 0.6590457668255277.\n",
      "[I 2023-10-15 18:38:18,344] Trial 7 finished with value: 0.9301823598795096 and parameters: {'f0': 0.86, 'f1': 2.21, 'f2': 4.88}. Best is trial 5 with value: 0.6590457668255277.\n",
      "[I 2023-10-15 18:38:18,347] Trial 8 finished with value: 0.7029523909911571 and parameters: {'f0': 1.16, 'f1': 0.58, 'f2': 0.2}. Best is trial 5 with value: 0.6590457668255277.\n",
      "[I 2023-10-15 18:38:18,350] Trial 9 finished with value: 0.6727122947405647 and parameters: {'f0': 2.11, 'f1': 4.3, 'f2': 2.33}. Best is trial 5 with value: 0.6590457668255277.\n",
      "[I 2023-10-15 18:38:18,361] Trial 10 finished with value: 0.658957685062818 and parameters: {'f0': 5.0, 'f1': 3.38, 'f2': 3.88}. Best is trial 10 with value: 0.658957685062818.\n",
      "[I 2023-10-15 18:38:18,373] Trial 11 finished with value: 0.6574643247038368 and parameters: {'f0': 5.0, 'f1': 3.42, 'f2': 3.71}. Best is trial 11 with value: 0.6574643247038368.\n",
      "[I 2023-10-15 18:38:18,385] Trial 12 finished with value: 0.6590929261099407 and parameters: {'f0': 4.98, 'f1': 3.16, 'f2': 3.5500000000000003}. Best is trial 11 with value: 0.6574643247038368.\n",
      "[I 2023-10-15 18:38:18,397] Trial 13 finished with value: 0.6597733504119966 and parameters: {'f0': 4.09, 'f1': 3.06, 'f2': 3.59}. Best is trial 11 with value: 0.6574643247038368.\n",
      "[I 2023-10-15 18:38:18,409] Trial 14 finished with value: 0.6807192215850624 and parameters: {'f0': 3.66, 'f1': 1.71, 'f2': 3.34}. Best is trial 11 with value: 0.6574643247038368.\n",
      "[I 2023-10-15 18:38:18,421] Trial 15 finished with value: 0.66678527268625 and parameters: {'f0': 4.66, 'f1': 3.7, 'f2': 1.32}. Best is trial 11 with value: 0.6574643247038368.\n",
      "[I 2023-10-15 18:38:18,434] Trial 16 finished with value: 0.6834893872403219 and parameters: {'f0': 2.81, 'f1': 5.0, 'f2': 4.05}. Best is trial 11 with value: 0.6574643247038368.\n",
      "[I 2023-10-15 18:38:18,446] Trial 17 finished with value: 0.684004288579929 and parameters: {'f0': 4.12, 'f1': 1.59, 'f2': 3.13}. Best is trial 11 with value: 0.6574643247038368.\n",
      "[I 2023-10-15 18:38:18,458] Trial 18 finished with value: 0.6691075833605589 and parameters: {'f0': 5.0, 'f1': 2.66, 'f2': 3.99}. Best is trial 11 with value: 0.6574643247038368.\n",
      "[I 2023-10-15 18:38:18,471] Trial 19 finished with value: 0.6517858478551107 and parameters: {'f0': 4.0, 'f1': 4.42, 'f2': 1.73}. Best is trial 19 with value: 0.6517858478551107.\n",
      "[I 2023-10-15 18:38:18,484] Trial 20 finished with value: 0.6549606144342714 and parameters: {'f0': 3.92, 'f1': 4.36, 'f2': 1.51}. Best is trial 19 with value: 0.6517858478551107.\n",
      "[I 2023-10-15 18:38:18,496] Trial 21 finished with value: 0.6525461703322988 and parameters: {'f0': 4.01, 'f1': 4.13, 'f2': 1.6600000000000001}. Best is trial 19 with value: 0.6517858478551107.\n",
      "[I 2023-10-15 18:38:18,509] Trial 22 finished with value: 0.6527946818015873 and parameters: {'f0': 3.8200000000000003, 'f1': 4.16, 'f2': 1.58}. Best is trial 19 with value: 0.6517858478551107.\n",
      "[I 2023-10-15 18:38:18,522] Trial 23 finished with value: 0.652150965779562 and parameters: {'f0': 3.56, 'f1': 4.37, 'f2': 1.59}. Best is trial 19 with value: 0.6517858478551107.\n",
      "[I 2023-10-15 18:38:18,536] Trial 24 finished with value: 0.6690036009139005 and parameters: {'f0': 3.2600000000000002, 'f1': 4.53, 'f2': 0.98}. Best is trial 19 with value: 0.6517858478551107.\n",
      "[I 2023-10-15 18:38:18,549] Trial 25 finished with value: 0.651947285701409 and parameters: {'f0': 2.64, 'f1': 3.9, 'f2': 1.94}. Best is trial 19 with value: 0.6517858478551107.\n",
      "[I 2023-10-15 18:38:18,563] Trial 26 finished with value: 0.6599361431926962 and parameters: {'f0': 2.49, 'f1': 4.64, 'f2': 1.93}. Best is trial 19 with value: 0.6517858478551107.\n",
      "[I 2023-10-15 18:38:18,576] Trial 27 finished with value: 0.660098478047369 and parameters: {'f0': 2.74, 'f1': 3.85, 'f2': 1.03}. Best is trial 19 with value: 0.6517858478551107.\n",
      "[I 2023-10-15 18:38:18,590] Trial 28 finished with value: 0.6520098215989679 and parameters: {'f0': 3.5, 'f1': 4.58, 'f2': 2.9}. Best is trial 19 with value: 0.6517858478551107.\n",
      "[I 2023-10-15 18:38:18,604] Trial 29 finished with value: 0.6928955907865214 and parameters: {'f0': 2.06, 'f1': 4.99, 'f2': 2.85}. Best is trial 19 with value: 0.6517858478551107.\n",
      "[I 2023-10-15 18:38:18,618] Trial 30 finished with value: 0.6495561012317669 and parameters: {'f0': 3.0300000000000002, 'f1': 2.83, 'f2': 2.13}. Best is trial 30 with value: 0.6495561012317669.\n",
      "[I 2023-10-15 18:38:18,633] Trial 31 finished with value: 0.8849749181631535 and parameters: {'f0': 3.12, 'f1': 0.11, 'f2': 2.11}. Best is trial 30 with value: 0.6495561012317669.\n",
      "[I 2023-10-15 18:38:18,647] Trial 32 finished with value: 0.6495624718506 and parameters: {'f0': 2.91, 'f1': 2.68, 'f2': 2.02}. Best is trial 30 with value: 0.6495561012317669.\n",
      "[I 2023-10-15 18:38:18,661] Trial 33 finished with value: 0.6566478319257983 and parameters: {'f0': 2.24, 'f1': 2.79, 'f2': 2.18}. Best is trial 30 with value: 0.6495561012317669.\n",
      "[I 2023-10-15 18:38:18,676] Trial 34 finished with value: 0.6593884111936928 and parameters: {'f0': 2.91, 'f1': 1.76, 'f2': 1.9100000000000001}. Best is trial 30 with value: 0.6495561012317669.\n",
      "[I 2023-10-15 18:38:18,691] Trial 35 finished with value: 0.6558688843609491 and parameters: {'f0': 1.69, 'f1': 2.14, 'f2': 0.67}. Best is trial 30 with value: 0.6495561012317669.\n",
      "[I 2023-10-15 18:38:18,716] Trial 36 finished with value: 0.6826370872559502 and parameters: {'f0': 2.5, 'f1': 1.29, 'f2': 2.6}. Best is trial 30 with value: 0.6495561012317669.\n",
      "[I 2023-10-15 18:38:18,732] Trial 37 finished with value: 0.6536497634991429 and parameters: {'f0': 1.85, 'f1': 2.97, 'f2': 1.25}. Best is trial 30 with value: 0.6495561012317669.\n",
      "[I 2023-10-15 18:38:18,748] Trial 38 finished with value: 0.6624958144828597 and parameters: {'f0': 4.37, 'f1': 2.46, 'f2': 1.8900000000000001}. Best is trial 30 with value: 0.6495561012317669.\n",
      "[I 2023-10-15 18:38:18,763] Trial 39 finished with value: 0.6588300872836055 and parameters: {'f0': 2.48, 'f1': 3.73, 'f2': 2.43}. Best is trial 30 with value: 0.6495561012317669.\n",
      "[I 2023-10-15 18:38:18,779] Trial 40 finished with value: 0.690529713507867 and parameters: {'f0': 3.06, 'f1': 2.09, 'f2': 0.5700000000000001}. Best is trial 30 with value: 0.6495561012317669.\n",
      "[I 2023-10-15 18:38:18,795] Trial 41 finished with value: 0.6530320031312445 and parameters: {'f0': 3.43, 'f1': 4.65, 'f2': 2.92}. Best is trial 30 with value: 0.6495561012317669.\n",
      "[I 2023-10-15 18:38:18,812] Trial 42 finished with value: 0.6496353955869169 and parameters: {'f0': 3.47, 'f1': 4.05, 'f2': 2.64}. Best is trial 30 with value: 0.6495561012317669.\n",
      "[I 2023-10-15 18:38:18,828] Trial 43 finished with value: 0.6482135187065333 and parameters: {'f0': 3.33, 'f1': 3.99, 'f2': 2.21}. Best is trial 43 with value: 0.6482135187065333.\n",
      "[I 2023-10-15 18:38:18,844] Trial 44 finished with value: 0.6481294940957124 and parameters: {'f0': 3.33, 'f1': 3.6, 'f2': 2.2600000000000002}. Best is trial 44 with value: 0.6481294940957124.\n",
      "[I 2023-10-15 18:38:18,861] Trial 45 finished with value: 0.6482955379135681 and parameters: {'f0': 3.2800000000000002, 'f1': 3.5100000000000002, 'f2': 2.2600000000000002}. Best is trial 44 with value: 0.6481294940957124.\n",
      "[I 2023-10-15 18:38:18,877] Trial 46 finished with value: 0.6486689218867202 and parameters: {'f0': 3.04, 'f1': 3.49, 'f2': 2.17}. Best is trial 44 with value: 0.6481294940957124.\n",
      "[I 2023-10-15 18:38:18,893] Trial 47 finished with value: 0.6484899435266009 and parameters: {'f0': 3.27, 'f1': 3.5500000000000003, 'f2': 2.3000000000000003}. Best is trial 44 with value: 0.6481294940957124.\n",
      "[I 2023-10-15 18:38:18,910] Trial 48 finished with value: 0.6493792878523487 and parameters: {'f0': 3.2800000000000002, 'f1': 3.2600000000000002, 'f2': 2.38}. Best is trial 44 with value: 0.6481294940957124.\n",
      "[I 2023-10-15 18:38:18,926] Trial 49 finished with value: 0.6482626959232681 and parameters: {'f0': 3.72, 'f1': 3.5300000000000002, 'f2': 2.29}. Best is trial 44 with value: 0.6481294940957124.\n",
      "[I 2023-10-15 18:38:18,943] Trial 50 finished with value: 0.6534126922963036 and parameters: {'f0': 3.72, 'f1': 3.61, 'f2': 3.18}. Best is trial 44 with value: 0.6481294940957124.\n",
      "[I 2023-10-15 18:38:18,960] Trial 51 finished with value: 0.6483297561236757 and parameters: {'f0': 3.3200000000000003, 'f1': 3.48, 'f2': 2.2800000000000002}. Best is trial 44 with value: 0.6481294940957124.\n",
      "[I 2023-10-15 18:38:18,976] Trial 52 finished with value: 0.6518835153277743 and parameters: {'f0': 4.3100000000000005, 'f1': 3.25, 'f2': 2.36}. Best is trial 44 with value: 0.6481294940957124.\n",
      "[I 2023-10-15 18:38:18,994] Trial 53 finished with value: 0.6483651506841381 and parameters: {'f0': 3.31, 'f1': 3.5100000000000002, 'f2': 2.29}. Best is trial 44 with value: 0.6481294940957124.\n",
      "[I 2023-10-15 18:38:19,010] Trial 54 finished with value: 1.1143708341465879 and parameters: {'f0': 0.37, 'f1': 3.7600000000000002, 'f2': 2.75}. Best is trial 44 with value: 0.6481294940957124.\n",
      "[I 2023-10-15 18:38:19,027] Trial 55 finished with value: 0.6518024941402819 and parameters: {'f0': 3.74, 'f1': 3.06, 'f2': 2.64}. Best is trial 44 with value: 0.6481294940957124.\n",
      "[I 2023-10-15 18:38:19,045] Trial 56 finished with value: 0.649881633784463 and parameters: {'f0': 3.39, 'f1': 3.31, 'f2': 2.5100000000000002}. Best is trial 44 with value: 0.6481294940957124.\n",
      "[I 2023-10-15 18:38:19,062] Trial 57 finished with value: 0.649517685713876 and parameters: {'f0': 3.5700000000000003, 'f1': 4.15, 'f2': 1.77}. Best is trial 44 with value: 0.6481294940957124.\n",
      "[I 2023-10-15 18:38:19,079] Trial 58 finished with value: 0.6503473408133653 and parameters: {'f0': 4.71, 'f1': 3.97, 'f2': 3.11}. Best is trial 44 with value: 0.6481294940957124.\n",
      "[I 2023-10-15 18:38:19,097] Trial 59 finished with value: 0.6605831124860253 and parameters: {'f0': 4.19, 'f1': 3.42, 'f2': 1.3800000000000001}. Best is trial 44 with value: 0.6481294940957124.\n",
      "[I 2023-10-15 18:38:19,115] Trial 60 finished with value: 0.6511027069850233 and parameters: {'f0': 3.74, 'f1': 3.12, 'f2': 1.79}. Best is trial 44 with value: 0.6481294940957124.\n",
      "[I 2023-10-15 18:38:19,132] Trial 61 finished with value: 0.6481104253646539 and parameters: {'f0': 3.23, 'f1': 3.52, 'f2': 2.19}. Best is trial 61 with value: 0.6481104253646539.\n",
      "[I 2023-10-15 18:38:19,149] Trial 62 finished with value: 0.648404842151561 and parameters: {'f0': 3.88, 'f1': 3.61, 'f2': 2.23}. Best is trial 61 with value: 0.6481104253646539.\n",
      "[I 2023-10-15 18:38:19,167] Trial 63 finished with value: 0.6496109077161808 and parameters: {'f0': 3.21, 'f1': 3.73, 'f2': 2.44}. Best is trial 61 with value: 0.6481104253646539.\n",
      "[I 2023-10-15 18:38:19,184] Trial 64 finished with value: 0.6612448105256394 and parameters: {'f0': 2.72, 'f1': 4.24, 'f2': 2.79}. Best is trial 61 with value: 0.6481104253646539.\n",
      "[I 2023-10-15 18:38:19,201] Trial 65 finished with value: 0.6478234536441593 and parameters: {'f0': 3.38, 'f1': 3.92, 'f2': 2.05}. Best is trial 65 with value: 0.6478234536441593.\n",
      "[I 2023-10-15 18:38:19,219] Trial 66 finished with value: 0.647893799895898 and parameters: {'f0': 3.65, 'f1': 3.85, 'f2': 2.0300000000000002}. Best is trial 65 with value: 0.6478234536441593.\n",
      "[I 2023-10-15 18:38:19,237] Trial 67 finished with value: 0.6477574042093712 and parameters: {'f0': 3.6, 'f1': 3.9, 'f2': 2.06}. Best is trial 67 with value: 0.6477574042093712.\n",
      "[I 2023-10-15 18:38:19,255] Trial 68 finished with value: 0.6536033017836405 and parameters: {'f0': 3.59, 'f1': 3.9, 'f2': 1.44}. Best is trial 67 with value: 0.6477574042093712.\n",
      "[I 2023-10-15 18:38:19,274] Trial 69 finished with value: 0.6482902227491706 and parameters: {'f0': 3.86, 'f1': 4.04, 'f2': 2.04}. Best is trial 67 with value: 0.6477574042093712.\n",
      "[I 2023-10-15 18:38:19,292] Trial 70 finished with value: 0.6539490993378402 and parameters: {'f0': 4.04, 'f1': 4.79, 'f2': 1.6500000000000001}. Best is trial 67 with value: 0.6477574042093712.\n",
      "[I 2023-10-15 18:38:19,310] Trial 71 finished with value: 0.6483755900211541 and parameters: {'f0': 3.91, 'f1': 4.04, 'f2': 2.05}. Best is trial 67 with value: 0.6477574042093712.\n",
      "[I 2023-10-15 18:38:19,329] Trial 72 finished with value: 0.6514439099144174 and parameters: {'f0': 4.21, 'f1': 4.44, 'f2': 1.83}. Best is trial 67 with value: 0.6477574042093712.\n",
      "[I 2023-10-15 18:38:19,348] Trial 73 finished with value: 0.6692371257450652 and parameters: {'f0': 4.5200000000000005, 'f1': 4.26, 'f2': 1.19}. Best is trial 67 with value: 0.6477574042093712.\n",
      "[I 2023-10-15 18:38:19,367] Trial 74 finished with value: 0.6480849842426197 and parameters: {'f0': 3.64, 'f1': 3.87, 'f2': 1.97}. Best is trial 67 with value: 0.6477574042093712.\n",
      "[I 2023-10-15 18:38:19,386] Trial 75 finished with value: 0.6484969615143189 and parameters: {'f0': 3.64, 'f1': 3.87, 'f2': 2.5500000000000003}. Best is trial 67 with value: 0.6477574042093712.\n",
      "[I 2023-10-15 18:38:19,404] Trial 76 finished with value: 0.6489385776099128 and parameters: {'f0': 3.12, 'f1': 3.83, 'f2': 1.69}. Best is trial 67 with value: 0.6477574042093712.\n",
      "[I 2023-10-15 18:38:19,423] Trial 77 finished with value: 0.6493487916296813 and parameters: {'f0': 2.84, 'f1': 3.65, 'f2': 2.02}. Best is trial 67 with value: 0.6477574042093712.\n",
      "[I 2023-10-15 18:38:19,441] Trial 78 finished with value: 0.6486613786025657 and parameters: {'f0': 3.46, 'f1': 4.15, 'f2': 1.8800000000000001}. Best is trial 67 with value: 0.6477574042093712.\n",
      "[I 2023-10-15 18:38:19,460] Trial 79 finished with value: 0.6484176797933335 and parameters: {'f0': 2.91, 'f1': 3.33, 'f2': 1.56}. Best is trial 67 with value: 0.6477574042093712.\n",
      "[I 2023-10-15 18:38:19,479] Trial 80 finished with value: 0.6690133157970052 and parameters: {'f0': 3.66, 'f1': 4.28, 'f2': 4.51}. Best is trial 67 with value: 0.6477574042093712.\n",
      "[I 2023-10-15 18:38:19,498] Trial 81 finished with value: 0.6482276244159849 and parameters: {'f0': 3.79, 'f1': 4.07, 'f2': 2.02}. Best is trial 67 with value: 0.6477574042093712.\n",
      "[I 2023-10-15 18:38:19,517] Trial 82 finished with value: 0.6481711227379016 and parameters: {'f0': 3.79, 'f1': 4.45, 'f2': 2.14}. Best is trial 67 with value: 0.6477574042093712.\n",
      "[I 2023-10-15 18:38:19,536] Trial 83 finished with value: 0.6485986809351939 and parameters: {'f0': 4.0, 'f1': 4.4, 'f2': 2.07}. Best is trial 67 with value: 0.6477574042093712.\n",
      "[I 2023-10-15 18:38:19,555] Trial 84 finished with value: 0.6501709414245939 and parameters: {'f0': 3.52, 'f1': 4.74, 'f2': 1.94}. Best is trial 67 with value: 0.6477574042093712.\n",
      "[I 2023-10-15 18:38:19,574] Trial 85 finished with value: 0.6506584869232184 and parameters: {'f0': 3.16, 'f1': 4.51, 'f2': 2.15}. Best is trial 67 with value: 0.6477574042093712.\n",
      "[I 2023-10-15 18:38:19,593] Trial 86 finished with value: 0.6488492784630745 and parameters: {'f0': 3.8000000000000003, 'f1': 4.92, 'f2': 2.43}. Best is trial 67 with value: 0.6477574042093712.\n",
      "[I 2023-10-15 18:38:19,613] Trial 87 finished with value: 0.6493112501304473 and parameters: {'f0': 3.44, 'f1': 3.96, 'f2': 1.72}. Best is trial 67 with value: 0.6477574042093712.\n",
      "[I 2023-10-15 18:38:19,632] Trial 88 finished with value: 0.6576201337813381 and parameters: {'f0': 3.0, 'f1': 3.7600000000000002, 'f2': 2.99}. Best is trial 67 with value: 0.6477574042093712.\n",
      "[I 2023-10-15 18:38:19,652] Trial 89 finished with value: 0.6478985687511813 and parameters: {'f0': 4.11, 'f1': 4.09, 'f2': 2.5300000000000002}. Best is trial 67 with value: 0.6477574042093712.\n",
      "[I 2023-10-15 18:38:19,672] Trial 90 finished with value: 0.7337500878210116 and parameters: {'f0': 1.34, 'f1': 4.22, 'f2': 2.52}. Best is trial 67 with value: 0.6477574042093712.\n",
      "[I 2023-10-15 18:38:19,691] Trial 91 finished with value: 0.6484551093277109 and parameters: {'f0': 4.11, 'f1': 4.04, 'f2': 2.17}. Best is trial 67 with value: 0.6477574042093712.\n",
      "[I 2023-10-15 18:38:19,717] Trial 92 finished with value: 0.6488997207835374 and parameters: {'f0': 3.96, 'f1': 3.85, 'f2': 2.0100000000000002}. Best is trial 67 with value: 0.6477574042093712.\n",
      "[I 2023-10-15 18:38:19,737] Trial 93 finished with value: 0.6484585103102226 and parameters: {'f0': 4.43, 'f1': 4.11, 'f2': 2.7}. Best is trial 67 with value: 0.6477574042093712.\n",
      "[I 2023-10-15 18:38:19,758] Trial 94 finished with value: 0.6478355735488193 and parameters: {'f0': 4.18, 'f1': 4.33, 'f2': 2.36}. Best is trial 67 with value: 0.6477574042093712.\n",
      "[I 2023-10-15 18:38:19,780] Trial 95 finished with value: 0.6477113374760616 and parameters: {'f0': 4.29, 'f1': 4.6000000000000005, 'f2': 2.48}. Best is trial 95 with value: 0.6477113374760616.\n",
      "[I 2023-10-15 18:38:19,801] Trial 96 finished with value: 0.6492433782798664 and parameters: {'f0': 4.78, 'f1': 4.64, 'f2': 2.36}. Best is trial 95 with value: 0.6477113374760616.\n",
      "[I 2023-10-15 18:38:19,821] Trial 97 finished with value: 0.6480720920311662 and parameters: {'f0': 4.51, 'f1': 4.3500000000000005, 'f2': 2.64}. Best is trial 95 with value: 0.6477113374760616.\n",
      "[I 2023-10-15 18:38:19,842] Trial 98 finished with value: 0.6477550413479983 and parameters: {'f0': 4.25, 'f1': 4.34, 'f2': 2.6}. Best is trial 95 with value: 0.6477113374760616.\n",
      "[I 2023-10-15 18:38:19,863] Trial 99 finished with value: 0.6478427757391227 and parameters: {'f0': 4.5600000000000005, 'f1': 4.89, 'f2': 2.97}. Best is trial 95 with value: 0.6477113374760616.\n",
      "[I 2023-10-15 18:38:19,885] Trial 100 finished with value: 0.6490459280310693 and parameters: {'f0': 4.59, 'f1': 4.68, 'f2': 3.3000000000000003}. Best is trial 95 with value: 0.6477113374760616.\n",
      "[I 2023-10-15 18:38:19,906] Trial 101 finished with value: 0.6486285003194759 and parameters: {'f0': 4.28, 'f1': 4.36, 'f2': 2.98}. Best is trial 95 with value: 0.6477113374760616.\n",
      "[I 2023-10-15 18:38:19,929] Trial 102 finished with value: 0.6478131340587295 and parameters: {'f0': 4.8500000000000005, 'f1': 4.88, 'f2': 2.85}. Best is trial 95 with value: 0.6477113374760616.\n",
      "[I 2023-10-15 18:38:19,951] Trial 103 finished with value: 0.6479045133393542 and parameters: {'f0': 4.78, 'f1': 4.9, 'f2': 3.0700000000000003}. Best is trial 95 with value: 0.6477113374760616.\n",
      "[I 2023-10-15 18:38:19,974] Trial 104 finished with value: 0.6493329832721813 and parameters: {'f0': 4.91, 'f1': 4.9, 'f2': 3.56}. Best is trial 95 with value: 0.6477113374760616.\n",
      "[I 2023-10-15 18:38:19,997] Trial 105 finished with value: 0.6478652077764764 and parameters: {'f0': 4.8500000000000005, 'f1': 4.86, 'f2': 2.8000000000000003}. Best is trial 95 with value: 0.6477113374760616.\n",
      "[I 2023-10-15 18:38:20,019] Trial 106 finished with value: 0.6486313991947216 and parameters: {'f0': 4.8500000000000005, 'f1': 4.87, 'f2': 3.35}. Best is trial 95 with value: 0.6477113374760616.\n",
      "[I 2023-10-15 18:38:20,041] Trial 107 finished with value: 0.6480024651991724 and parameters: {'f0': 4.69, 'f1': 4.58, 'f2': 2.86}. Best is trial 95 with value: 0.6477113374760616.\n",
      "[I 2023-10-15 18:38:20,064] Trial 108 finished with value: 0.6482940842222508 and parameters: {'f0': 4.4, 'f1': 4.99, 'f2': 3.04}. Best is trial 95 with value: 0.6477113374760616.\n",
      "[I 2023-10-15 18:38:20,087] Trial 109 finished with value: 0.6484803345477017 and parameters: {'f0': 4.61, 'f1': 4.76, 'f2': 3.19}. Best is trial 95 with value: 0.6477113374760616.\n",
      "[I 2023-10-15 18:38:20,109] Trial 110 finished with value: 0.6478665480299077 and parameters: {'f0': 4.86, 'f1': 4.8500000000000005, 'f2': 2.83}. Best is trial 95 with value: 0.6477113374760616.\n",
      "[I 2023-10-15 18:38:20,133] Trial 111 finished with value: 0.6481219631487537 and parameters: {'f0': 4.75, 'f1': 4.5600000000000005, 'f2': 2.75}. Best is trial 95 with value: 0.6477113374760616.\n",
      "[I 2023-10-15 18:38:20,155] Trial 112 finished with value: 0.6480400335617315 and parameters: {'f0': 4.93, 'f1': 4.8, 'f2': 2.83}. Best is trial 95 with value: 0.6477113374760616.\n",
      "[I 2023-10-15 18:38:20,177] Trial 113 finished with value: 0.6489790440470172 and parameters: {'f0': 4.8500000000000005, 'f1': 4.86, 'f2': 3.44}. Best is trial 95 with value: 0.6477113374760616.\n",
      "[I 2023-10-15 18:38:20,199] Trial 114 finished with value: 0.6487818884194326 and parameters: {'f0': 4.3, 'f1': 5.0, 'f2': 3.09}. Best is trial 95 with value: 0.6477113374760616.\n",
      "[I 2023-10-15 18:38:20,222] Trial 115 finished with value: 0.6488982007908638 and parameters: {'f0': 5.0, 'f1': 4.66, 'f2': 2.61}. Best is trial 95 with value: 0.6477113374760616.\n",
      "[I 2023-10-15 18:38:20,244] Trial 116 finished with value: 0.6482877480551003 and parameters: {'f0': 4.59, 'f1': 4.5, 'f2': 2.48}. Best is trial 95 with value: 0.6477113374760616.\n",
      "[I 2023-10-15 18:38:20,267] Trial 117 finished with value: 0.6484777507543122 and parameters: {'f0': 4.18, 'f1': 4.74, 'f2': 2.94}. Best is trial 95 with value: 0.6477113374760616.\n",
      "[I 2023-10-15 18:38:20,290] Trial 118 finished with value: 0.6476334822934091 and parameters: {'f0': 4.47, 'f1': 4.8500000000000005, 'f2': 2.71}. Best is trial 118 with value: 0.6476334822934091.\n",
      "[I 2023-10-15 18:38:20,313] Trial 119 finished with value: 0.6477477667502343 and parameters: {'f0': 4.47, 'f1': 4.57, 'f2': 2.73}. Best is trial 118 with value: 0.6476334822934091.\n",
      "[I 2023-10-15 18:38:20,336] Trial 120 finished with value: 0.647638383308016 and parameters: {'f0': 4.45, 'f1': 4.8100000000000005, 'f2': 2.73}. Best is trial 118 with value: 0.6476334822934091.\n",
      "[I 2023-10-15 18:38:20,359] Trial 121 finished with value: 0.6476609146978292 and parameters: {'f0': 4.45, 'f1': 4.8, 'f2': 2.77}. Best is trial 118 with value: 0.6476334822934091.\n",
      "[I 2023-10-15 18:38:20,383] Trial 122 finished with value: 0.6477308985422136 and parameters: {'f0': 4.47, 'f1': 4.59, 'f2': 2.73}. Best is trial 118 with value: 0.6476334822934091.\n",
      "[I 2023-10-15 18:38:20,406] Trial 123 finished with value: 0.6476994728820415 and parameters: {'f0': 4.46, 'f1': 4.62, 'f2': 2.72}. Best is trial 118 with value: 0.6476334822934091.\n",
      "[I 2023-10-15 18:38:20,429] Trial 124 finished with value: 0.647722942724515 and parameters: {'f0': 4.47, 'f1': 4.59, 'f2': 2.71}. Best is trial 118 with value: 0.6476334822934091.\n",
      "[I 2023-10-15 18:38:20,451] Trial 125 finished with value: 0.6476946055407591 and parameters: {'f0': 4.43, 'f1': 4.59, 'f2': 2.69}. Best is trial 118 with value: 0.6476334822934091.\n",
      "[I 2023-10-15 18:38:20,475] Trial 126 finished with value: 0.6476731939970467 and parameters: {'f0': 4.43, 'f1': 4.65, 'f2': 2.72}. Best is trial 118 with value: 0.6476334822934091.\n",
      "[I 2023-10-15 18:38:20,497] Trial 127 finished with value: 0.6476926330803928 and parameters: {'f0': 4.42, 'f1': 4.6000000000000005, 'f2': 2.71}. Best is trial 118 with value: 0.6476334822934091.\n",
      "[I 2023-10-15 18:38:20,519] Trial 128 finished with value: 0.6477013728949949 and parameters: {'f0': 4.43, 'f1': 4.6000000000000005, 'f2': 2.72}. Best is trial 118 with value: 0.6476334822934091.\n",
      "[I 2023-10-15 18:38:20,542] Trial 129 finished with value: 0.6477031023502312 and parameters: {'f0': 4.42, 'f1': 4.57, 'f2': 2.69}. Best is trial 118 with value: 0.6476334822934091.\n",
      "[I 2023-10-15 18:38:20,564] Trial 130 finished with value: 0.647715090311731 and parameters: {'f0': 4.43, 'f1': 4.58, 'f2': 2.72}. Best is trial 118 with value: 0.6476334822934091.\n",
      "[I 2023-10-15 18:38:20,588] Trial 131 finished with value: 0.6477098749103151 and parameters: {'f0': 4.44, 'f1': 4.58, 'f2': 2.7}. Best is trial 118 with value: 0.6476334822934091.\n",
      "[I 2023-10-15 18:38:20,610] Trial 132 finished with value: 0.6476514214422431 and parameters: {'f0': 4.36, 'f1': 4.66, 'f2': 2.69}. Best is trial 118 with value: 0.6476334822934091.\n",
      "[I 2023-10-15 18:38:20,632] Trial 133 finished with value: 0.6476335580710251 and parameters: {'f0': 4.36, 'f1': 4.68, 'f2': 2.64}. Best is trial 118 with value: 0.6476334822934091.\n",
      "[I 2023-10-15 18:38:20,655] Trial 134 finished with value: 0.647719648682769 and parameters: {'f0': 4.36, 'f1': 4.48, 'f2': 2.64}. Best is trial 118 with value: 0.6476334822934091.\n",
      "[I 2023-10-15 18:38:20,676] Trial 135 finished with value: 0.6479774522365477 and parameters: {'f0': 4.3500000000000005, 'f1': 4.73, 'f2': 2.9}. Best is trial 118 with value: 0.6476334822934091.\n",
      "[I 2023-10-15 18:38:20,699] Trial 136 finished with value: 0.6477065981534673 and parameters: {'f0': 4.37, 'f1': 4.69, 'f2': 2.5300000000000002}. Best is trial 118 with value: 0.6476334822934091.\n",
      "[I 2023-10-15 18:38:20,722] Trial 137 finished with value: 0.6480846871280896 and parameters: {'f0': 4.63, 'f1': 4.72, 'f2': 2.52}. Best is trial 118 with value: 0.6476334822934091.\n",
      "[I 2023-10-15 18:38:20,744] Trial 138 finished with value: 0.6478227530032481 and parameters: {'f0': 4.29, 'f1': 4.44, 'f2': 2.43}. Best is trial 118 with value: 0.6476334822934091.\n",
      "[I 2023-10-15 18:38:20,766] Trial 139 finished with value: 0.6479759014787014 and parameters: {'f0': 4.67, 'f1': 4.69, 'f2': 2.61}. Best is trial 118 with value: 0.6476334822934091.\n",
      "[I 2023-10-15 18:38:20,789] Trial 140 finished with value: 0.6486582957344473 and parameters: {'f0': 4.09, 'f1': 4.48, 'f2': 2.92}. Best is trial 118 with value: 0.6476334822934091.\n",
      "[I 2023-10-15 18:38:20,810] Trial 141 finished with value: 0.6476529748698999 and parameters: {'f0': 4.38, 'f1': 4.65, 'f2': 2.69}. Best is trial 118 with value: 0.6476334822934091.\n",
      "[I 2023-10-15 18:38:20,833] Trial 142 finished with value: 0.6476936349428268 and parameters: {'f0': 4.3500000000000005, 'f1': 4.78, 'f2': 2.5500000000000003}. Best is trial 118 with value: 0.6476334822934091.\n",
      "[I 2023-10-15 18:38:20,855] Trial 143 finished with value: 0.6477564697831613 and parameters: {'f0': 4.53, 'f1': 4.78, 'f2': 2.59}. Best is trial 118 with value: 0.6476334822934091.\n",
      "[I 2023-10-15 18:38:20,878] Trial 144 finished with value: 0.7116179637034016 and parameters: {'f0': 4.37, 'f1': 1.08, 'f2': 3.19}. Best is trial 118 with value: 0.6476334822934091.\n",
      "[I 2023-10-15 18:38:20,900] Trial 145 finished with value: 0.6479348185379007 and parameters: {'f0': 4.21, 'f1': 4.68, 'f2': 2.79}. Best is trial 118 with value: 0.6476334822934091.\n",
      "[I 2023-10-15 18:38:20,923] Trial 146 finished with value: 0.6476374231709294 and parameters: {'f0': 4.42, 'f1': 4.8100000000000005, 'f2': 2.66}. Best is trial 118 with value: 0.6476334822934091.\n",
      "[I 2023-10-15 18:38:20,945] Trial 147 finished with value: 0.6479884704111167 and parameters: {'f0': 4.65, 'f1': 4.97, 'f2': 2.5500000000000003}. Best is trial 118 with value: 0.6476334822934091.\n",
      "[I 2023-10-15 18:38:20,967] Trial 148 finished with value: 0.6480048210336306 and parameters: {'f0': 4.04, 'f1': 4.79, 'f2': 2.4}. Best is trial 118 with value: 0.6476334822934091.\n",
      "[I 2023-10-15 18:38:20,988] Trial 149 finished with value: 0.6482861372748093 and parameters: {'f0': 4.18, 'f1': 4.68, 'f2': 2.89}. Best is trial 118 with value: 0.6476334822934091.\n",
      "[I 2023-10-15 18:38:21,010] Trial 150 finished with value: 0.647641690949594 and parameters: {'f0': 4.4, 'f1': 4.8, 'f2': 2.64}. Best is trial 118 with value: 0.6476334822934091.\n",
      "[I 2023-10-15 18:38:21,033] Trial 151 finished with value: 0.6476454083923759 and parameters: {'f0': 4.51, 'f1': 4.8, 'f2': 2.69}. Best is trial 118 with value: 0.6476334822934091.\n",
      "[I 2023-10-15 18:38:21,055] Trial 152 finished with value: 0.6476841399516924 and parameters: {'f0': 4.55, 'f1': 4.78, 'f2': 2.67}. Best is trial 118 with value: 0.6476334822934091.\n",
      "[I 2023-10-15 18:38:21,079] Trial 153 finished with value: 0.647668590315878 and parameters: {'f0': 4.54, 'f1': 4.8100000000000005, 'f2': 2.81}. Best is trial 118 with value: 0.6476334822934091.\n",
      "[I 2023-10-15 18:38:21,101] Trial 154 finished with value: 0.6479841586662134 and parameters: {'f0': 4.54, 'f1': 4.8100000000000005, 'f2': 3.0100000000000002}. Best is trial 118 with value: 0.6476334822934091.\n",
      "[I 2023-10-15 18:38:21,123] Trial 155 finished with value: 0.6476580614573338 and parameters: {'f0': 4.72, 'f1': 4.99, 'f2': 2.8000000000000003}. Best is trial 118 with value: 0.6476334822934091.\n",
      "[I 2023-10-15 18:38:21,146] Trial 156 finished with value: 0.6476553288828807 and parameters: {'f0': 4.71, 'f1': 4.96, 'f2': 2.82}. Best is trial 118 with value: 0.6476334822934091.\n",
      "[I 2023-10-15 18:38:21,169] Trial 157 finished with value: 0.6476617319875262 and parameters: {'f0': 4.74, 'f1': 5.0, 'f2': 2.81}. Best is trial 118 with value: 0.6476334822934091.\n",
      "[I 2023-10-15 18:38:21,192] Trial 158 finished with value: 0.6476446783681555 and parameters: {'f0': 4.72, 'f1': 5.0, 'f2': 2.85}. Best is trial 118 with value: 0.6476334822934091.\n",
      "[I 2023-10-15 18:38:21,214] Trial 159 finished with value: 0.647650274563967 and parameters: {'f0': 4.71, 'f1': 4.97, 'f2': 2.84}. Best is trial 118 with value: 0.6476334822934091.\n",
      "[I 2023-10-15 18:38:21,237] Trial 160 finished with value: 0.6476484249266848 and parameters: {'f0': 4.73, 'f1': 5.0, 'f2': 2.84}. Best is trial 118 with value: 0.6476334822934091.\n",
      "[I 2023-10-15 18:38:21,260] Trial 161 finished with value: 0.6476617752708854 and parameters: {'f0': 4.74, 'f1': 4.97, 'f2': 2.86}. Best is trial 118 with value: 0.6476334822934091.\n",
      "[I 2023-10-15 18:38:21,283] Trial 162 finished with value: 0.6478766370055253 and parameters: {'f0': 4.73, 'f1': 4.99, 'f2': 3.08}. Best is trial 118 with value: 0.6476334822934091.\n",
      "[I 2023-10-15 18:38:21,305] Trial 163 finished with value: 0.6476670812684234 and parameters: {'f0': 4.7700000000000005, 'f1': 4.99, 'f2': 2.86}. Best is trial 118 with value: 0.6476334822934091.\n",
      "[I 2023-10-15 18:38:21,328] Trial 164 finished with value: 0.647681740455064 and parameters: {'f0': 4.7700000000000005, 'f1': 4.99, 'f2': 2.93}. Best is trial 118 with value: 0.6476334822934091.\n",
      "[I 2023-10-15 18:38:21,352] Trial 165 finished with value: 0.6483997222184684 and parameters: {'f0': 4.7, 'f1': 4.93, 'f2': 3.25}. Best is trial 118 with value: 0.6476334822934091.\n",
      "[I 2023-10-15 18:38:21,375] Trial 166 finished with value: 0.6479045252663299 and parameters: {'f0': 4.67, 'f1': 4.91, 'f2': 3.0500000000000003}. Best is trial 118 with value: 0.6476334822934091.\n",
      "[I 2023-10-15 18:38:21,398] Trial 167 finished with value: 0.6476745049595419 and parameters: {'f0': 4.7700000000000005, 'f1': 4.99, 'f2': 2.83}. Best is trial 118 with value: 0.6476334822934091.\n",
      "[I 2023-10-15 18:38:21,422] Trial 168 finished with value: 0.6477905551368863 and parameters: {'f0': 4.65, 'f1': 4.88, 'f2': 2.97}. Best is trial 118 with value: 0.6476334822934091.\n",
      "[I 2023-10-15 18:38:21,445] Trial 169 finished with value: 0.6478871158147175 and parameters: {'f0': 4.92, 'f1': 4.9, 'f2': 2.85}. Best is trial 118 with value: 0.6476334822934091.\n",
      "[I 2023-10-15 18:38:21,469] Trial 170 finished with value: 0.6479522213366431 and parameters: {'f0': 4.79, 'f1': 5.0, 'f2': 3.14}. Best is trial 118 with value: 0.6476334822934091.\n",
      "[I 2023-10-15 18:38:21,493] Trial 171 finished with value: 0.6476678777317438 and parameters: {'f0': 4.61, 'f1': 4.84, 'f2': 2.82}. Best is trial 118 with value: 0.6476334822934091.\n",
      "[I 2023-10-15 18:38:21,517] Trial 172 finished with value: 0.648005174645218 and parameters: {'f0': 5.0, 'f1': 4.87, 'f2': 2.92}. Best is trial 118 with value: 0.6476334822934091.\n",
      "[I 2023-10-15 18:38:21,539] Trial 173 finished with value: 0.6476724727998933 and parameters: {'f0': 4.61, 'f1': 4.83, 'f2': 2.82}. Best is trial 118 with value: 0.6476334822934091.\n",
      "[I 2023-10-15 18:38:21,562] Trial 174 finished with value: 0.6477564010506822 and parameters: {'f0': 4.73, 'f1': 5.0, 'f2': 3.0100000000000002}. Best is trial 118 with value: 0.6476334822934091.\n",
      "[I 2023-10-15 18:38:21,586] Trial 175 finished with value: 0.6477772538420475 and parameters: {'f0': 4.57, 'f1': 4.82, 'f2': 2.6}. Best is trial 118 with value: 0.6476334822934091.\n",
      "[I 2023-10-15 18:38:21,609] Trial 176 finished with value: 0.8295144017243341 and parameters: {'f0': 0.76, 'f1': 1.96, 'f2': 2.9}. Best is trial 118 with value: 0.6476334822934091.\n",
      "[I 2023-10-15 18:38:21,632] Trial 177 finished with value: 0.8545304556238156 and parameters: {'f0': 4.83, 'f1': 0.22, 'f2': 2.81}. Best is trial 118 with value: 0.6476334822934091.\n",
      "[I 2023-10-15 18:38:21,655] Trial 178 finished with value: 0.6478173638818675 and parameters: {'f0': 4.66, 'f1': 4.91, 'f2': 3.0}. Best is trial 118 with value: 0.6476334822934091.\n",
      "[I 2023-10-15 18:38:21,678] Trial 179 finished with value: 0.6489132820506957 and parameters: {'f0': 4.87, 'f1': 4.73, 'f2': 2.47}. Best is trial 118 with value: 0.6476334822934091.\n",
      "[I 2023-10-15 18:38:21,701] Trial 180 finished with value: 0.6476362926517598 and parameters: {'f0': 4.59, 'f1': 4.91, 'f2': 2.79}. Best is trial 118 with value: 0.6476334822934091.\n",
      "[I 2023-10-15 18:38:21,724] Trial 181 finished with value: 0.647640837922072 and parameters: {'f0': 4.61, 'f1': 4.9, 'f2': 2.79}. Best is trial 118 with value: 0.6476334822934091.\n",
      "[I 2023-10-15 18:38:21,748] Trial 182 finished with value: 0.6478945795556755 and parameters: {'f0': 4.73, 'f1': 5.0, 'f2': 2.63}. Best is trial 118 with value: 0.6476334822934091.\n",
      "[I 2023-10-15 18:38:21,772] Trial 183 finished with value: 0.6477769640247205 and parameters: {'f0': 4.53, 'f1': 4.91, 'f2': 2.92}. Best is trial 118 with value: 0.6476334822934091.\n",
      "[I 2023-10-15 18:38:21,796] Trial 184 finished with value: 0.6481683504474532 and parameters: {'f0': 4.93, 'f1': 4.74, 'f2': 2.79}. Best is trial 118 with value: 0.6476334822934091.\n",
      "[I 2023-10-15 18:38:21,819] Trial 185 finished with value: 0.6476914753668748 and parameters: {'f0': 4.28, 'f1': 4.8100000000000005, 'f2': 2.6}. Best is trial 118 with value: 0.6476334822934091.\n",
      "[I 2023-10-15 18:38:21,844] Trial 186 finished with value: 0.6476990043270056 and parameters: {'f0': 4.69, 'f1': 4.91, 'f2': 2.74}. Best is trial 118 with value: 0.6476334822934091.\n",
      "[I 2023-10-15 18:38:21,867] Trial 187 finished with value: 0.6477237432004145 and parameters: {'f0': 4.53, 'f1': 5.0, 'f2': 2.88}. Best is trial 118 with value: 0.6476334822934091.\n",
      "[I 2023-10-15 18:38:21,890] Trial 188 finished with value: 0.6803611092573755 and parameters: {'f0': 2.36, 'f1': 4.74, 'f2': 3.0700000000000003}. Best is trial 118 with value: 0.6476334822934091.\n",
      "[I 2023-10-15 18:38:21,914] Trial 189 finished with value: 0.6480666987959509 and parameters: {'f0': 4.8100000000000005, 'f1': 4.88, 'f2': 2.63}. Best is trial 118 with value: 0.6476334822934091.\n",
      "[I 2023-10-15 18:38:21,940] Trial 190 finished with value: 0.6480800817249264 and parameters: {'f0': 4.6000000000000005, 'f1': 4.72, 'f2': 2.5}. Best is trial 118 with value: 0.6476334822934091.\n",
      "[I 2023-10-15 18:38:21,964] Trial 191 finished with value: 0.6476915054110668 and parameters: {'f0': 4.66, 'f1': 4.83, 'f2': 2.7800000000000002}. Best is trial 118 with value: 0.6476334822934091.\n",
      "[I 2023-10-15 18:38:21,988] Trial 192 finished with value: 0.64764160888982 and parameters: {'f0': 4.58, 'f1': 4.91, 'f2': 2.81}. Best is trial 118 with value: 0.6476334822934091.\n",
      "[I 2023-10-15 18:38:22,011] Trial 193 finished with value: 0.6478761383460225 and parameters: {'f0': 4.49, 'f1': 4.91, 'f2': 2.95}. Best is trial 118 with value: 0.6476334822934091.\n",
      "[I 2023-10-15 18:38:22,036] Trial 194 finished with value: 0.9973301543617935 and parameters: {'f0': 4.72, 'f1': 4.79, 'f2': 0.05}. Best is trial 118 with value: 0.6476334822934091.\n",
      "[I 2023-10-15 18:38:22,059] Trial 195 finished with value: 0.647857514041847 and parameters: {'f0': 4.28, 'f1': 5.0, 'f2': 2.65}. Best is trial 118 with value: 0.6476334822934091.\n",
      "[I 2023-10-15 18:38:22,083] Trial 196 finished with value: 0.6476351870656121 and parameters: {'f0': 4.55, 'f1': 4.92, 'f2': 2.7800000000000002}. Best is trial 118 with value: 0.6476334822934091.\n",
      "[I 2023-10-15 18:38:22,107] Trial 197 finished with value: 0.6477043817216407 and parameters: {'f0': 4.53, 'f1': 4.69, 'f2': 2.77}. Best is trial 118 with value: 0.6476334822934091.\n",
      "[I 2023-10-15 18:38:22,132] Trial 198 finished with value: 0.6476982412277174 and parameters: {'f0': 4.6000000000000005, 'f1': 4.84, 'f2': 2.68}. Best is trial 118 with value: 0.6476334822934091.\n",
      "[I 2023-10-15 18:38:22,157] Trial 199 finished with value: 0.648124794698525 and parameters: {'f0': 4.33, 'f1': 4.89, 'f2': 2.38}. Best is trial 118 with value: 0.6476334822934091.\n",
      "[I 2023-10-15 18:38:22,181] Trial 200 finished with value: 0.6476797572038188 and parameters: {'f0': 4.38, 'f1': 4.72, 'f2': 2.56}. Best is trial 118 with value: 0.6476334822934091.\n",
      "[I 2023-10-15 18:38:22,206] Trial 201 finished with value: 0.6477305455669886 and parameters: {'f0': 4.8100000000000005, 'f1': 4.93, 'f2': 2.85}. Best is trial 118 with value: 0.6476334822934091.\n",
      "[I 2023-10-15 18:38:22,229] Trial 202 finished with value: 0.6476435733111365 and parameters: {'f0': 4.5, 'f1': 4.8100000000000005, 'f2': 2.7600000000000002}. Best is trial 118 with value: 0.6476334822934091.\n",
      "[I 2023-10-15 18:38:22,254] Trial 203 finished with value: 0.6476528291434236 and parameters: {'f0': 4.5, 'f1': 4.76, 'f2': 2.75}. Best is trial 118 with value: 0.6476334822934091.\n",
      "[I 2023-10-15 18:38:22,278] Trial 204 finished with value: 0.6476439449891188 and parameters: {'f0': 4.49, 'f1': 4.79, 'f2': 2.75}. Best is trial 118 with value: 0.6476334822934091.\n",
      "[I 2023-10-15 18:38:22,301] Trial 205 finished with value: 0.6476838967505476 and parameters: {'f0': 4.5, 'f1': 4.68, 'f2': 2.68}. Best is trial 118 with value: 0.6476334822934091.\n",
      "[I 2023-10-15 18:38:22,326] Trial 206 finished with value: 0.6478520313457485 and parameters: {'f0': 4.22, 'f1': 4.78, 'f2': 2.74}. Best is trial 118 with value: 0.6476334822934091.\n",
      "[I 2023-10-15 18:38:22,350] Trial 207 finished with value: 0.6477087148258068 and parameters: {'f0': 4.36, 'f1': 4.51, 'f2': 2.57}. Best is trial 118 with value: 0.6476334822934091.\n",
      "[I 2023-10-15 18:38:22,375] Trial 208 finished with value: 0.6479952321108856 and parameters: {'f0': 4.49, 'f1': 4.8, 'f2': 2.46}. Best is trial 118 with value: 0.6476334822934091.\n",
      "[I 2023-10-15 18:38:22,400] Trial 209 finished with value: 0.648036609870344 and parameters: {'f0': 4.59, 'f1': 4.66, 'f2': 2.99}. Best is trial 118 with value: 0.6476334822934091.\n",
      "[I 2023-10-15 18:38:22,424] Trial 210 finished with value: 0.6476504410568761 and parameters: {'f0': 4.45, 'f1': 4.82, 'f2': 2.64}. Best is trial 118 with value: 0.6476334822934091.\n",
      "[I 2023-10-15 18:38:22,447] Trial 211 finished with value: 0.6476430409585685 and parameters: {'f0': 4.45, 'f1': 4.79, 'f2': 2.65}. Best is trial 118 with value: 0.6476334822934091.\n",
      "[I 2023-10-15 18:38:22,470] Trial 212 finished with value: 0.6476907164354763 and parameters: {'f0': 4.3500000000000005, 'f1': 4.87, 'f2': 2.61}. Best is trial 118 with value: 0.6476334822934091.\n",
      "[I 2023-10-15 18:38:22,495] Trial 213 finished with value: 0.6476406833024727 and parameters: {'f0': 4.45, 'f1': 4.73, 'f2': 2.69}. Best is trial 118 with value: 0.6476334822934091.\n",
      "[I 2023-10-15 18:38:22,519] Trial 214 finished with value: 0.6476586953965845 and parameters: {'f0': 4.28, 'f1': 4.68, 'f2': 2.66}. Best is trial 118 with value: 0.6476334822934091.\n",
      "[I 2023-10-15 18:38:22,543] Trial 215 finished with value: 0.6477566244952466 and parameters: {'f0': 4.15, 'f1': 4.75, 'f2': 2.56}. Best is trial 118 with value: 0.6476334822934091.\n",
      "[I 2023-10-15 18:38:22,567] Trial 216 finished with value: 0.6480132175111231 and parameters: {'f0': 4.5, 'f1': 4.82, 'f2': 2.46}. Best is trial 118 with value: 0.6476334822934091.\n",
      "[I 2023-10-15 18:38:22,590] Trial 217 finished with value: 0.647687972534306 and parameters: {'f0': 4.42, 'f1': 4.63, 'f2': 2.73}. Best is trial 118 with value: 0.6476334822934091.\n",
      "[I 2023-10-15 18:38:22,614] Trial 218 finished with value: 0.6479489561501903 and parameters: {'f0': 4.59, 'f1': 4.51, 'f2': 2.68}. Best is trial 118 with value: 0.6476334822934091.\n",
      "[I 2023-10-15 18:38:22,639] Trial 219 finished with value: 0.6478058748512981 and parameters: {'f0': 4.46, 'f1': 4.74, 'f2': 2.52}. Best is trial 118 with value: 0.6476334822934091.\n",
      "[I 2023-10-15 18:38:22,663] Trial 220 finished with value: 0.6481776203951589 and parameters: {'f0': 4.2700000000000005, 'f1': 4.86, 'f2': 2.91}. Best is trial 118 with value: 0.6476334822934091.\n",
      "[I 2023-10-15 18:38:22,688] Trial 221 finished with value: 0.647638438543867 and parameters: {'f0': 4.59, 'f1': 4.89, 'f2': 2.77}. Best is trial 118 with value: 0.6476334822934091.\n",
      "[I 2023-10-15 18:38:22,712] Trial 222 finished with value: 0.6476382579172008 and parameters: {'f0': 4.58, 'f1': 4.89, 'f2': 2.75}. Best is trial 118 with value: 0.6476334822934091.\n",
      "[I 2023-10-15 18:38:22,735] Trial 223 finished with value: 0.6476387928913625 and parameters: {'f0': 4.38, 'f1': 4.78, 'f2': 2.64}. Best is trial 118 with value: 0.6476334822934091.\n",
      "[I 2023-10-15 18:38:22,759] Trial 224 finished with value: 0.694109997132991 and parameters: {'f0': 1.98, 'f1': 4.86, 'f2': 2.7600000000000002}. Best is trial 118 with value: 0.6476334822934091.\n",
      "[I 2023-10-15 18:38:22,784] Trial 225 finished with value: 0.6477592459231595 and parameters: {'f0': 4.57, 'f1': 4.7700000000000005, 'f2': 2.62}. Best is trial 118 with value: 0.6476334822934091.\n",
      "[I 2023-10-15 18:38:22,810] Trial 226 finished with value: 0.647660196945806 and parameters: {'f0': 4.48, 'f1': 4.88, 'f2': 2.65}. Best is trial 118 with value: 0.6476334822934091.\n",
      "[I 2023-10-15 18:38:22,834] Trial 227 finished with value: 0.6646714696074029 and parameters: {'f0': 4.61, 'f1': 2.38, 'f2': 2.77}. Best is trial 118 with value: 0.6476334822934091.\n",
      "[I 2023-10-15 18:38:22,859] Trial 228 finished with value: 0.6479603835660827 and parameters: {'f0': 4.38, 'f1': 4.73, 'f2': 2.91}. Best is trial 118 with value: 0.6476334822934091.\n",
      "[I 2023-10-15 18:38:22,884] Trial 229 finished with value: 0.647757915191462 and parameters: {'f0': 4.55, 'f1': 4.9, 'f2': 2.6}. Best is trial 118 with value: 0.6476334822934091.\n",
      "[I 2023-10-15 18:38:22,909] Trial 230 finished with value: 0.6483265101074424 and parameters: {'f0': 4.43, 'f1': 4.79, 'f2': 2.34}. Best is trial 118 with value: 0.6476334822934091.\n",
      "[I 2023-10-15 18:38:22,934] Trial 231 finished with value: 0.6477389685468666 and parameters: {'f0': 4.33, 'f1': 4.64, 'f2': 2.7600000000000002}. Best is trial 118 with value: 0.6476334822934091.\n",
      "[I 2023-10-15 18:38:22,959] Trial 232 finished with value: 0.6476758099881127 and parameters: {'f0': 4.48, 'f1': 4.67, 'f2': 2.68}. Best is trial 118 with value: 0.6476334822934091.\n",
      "[I 2023-10-15 18:38:22,984] Trial 233 finished with value: 0.6645929744043969 and parameters: {'f0': 4.23, 'f1': 4.84, 'f2': 4.84}. Best is trial 118 with value: 0.6476334822934091.\n",
      "[I 2023-10-15 18:38:23,008] Trial 234 finished with value: 0.6480470556306125 and parameters: {'f0': 4.63, 'f1': 4.74, 'f2': 2.5300000000000002}. Best is trial 118 with value: 0.6476334822934091.\n",
      "[I 2023-10-15 18:38:23,034] Trial 235 finished with value: 0.6476841069943403 and parameters: {'f0': 4.37, 'f1': 4.88, 'f2': 2.71}. Best is trial 118 with value: 0.6476334822934091.\n",
      "[I 2023-10-15 18:38:23,059] Trial 236 finished with value: 0.6478474087266238 and parameters: {'f0': 4.5200000000000005, 'f1': 4.62, 'f2': 2.86}. Best is trial 118 with value: 0.6476334822934091.\n",
      "[I 2023-10-15 18:38:23,084] Trial 237 finished with value: 0.6476743714887565 and parameters: {'f0': 4.41, 'f1': 4.91, 'f2': 2.65}. Best is trial 118 with value: 0.6476334822934091.\n",
      "[I 2023-10-15 18:38:23,109] Trial 238 finished with value: 0.6477157500759076 and parameters: {'f0': 4.64, 'f1': 4.7700000000000005, 'f2': 2.77}. Best is trial 118 with value: 0.6476334822934091.\n",
      "[I 2023-10-15 18:38:23,134] Trial 239 finished with value: 0.647791585281968 and parameters: {'f0': 4.3, 'f1': 4.5200000000000005, 'f2': 2.44}. Best is trial 118 with value: 0.6476334822934091.\n",
      "[I 2023-10-15 18:38:23,159] Trial 240 finished with value: 0.6478389121152175 and parameters: {'f0': 4.5200000000000005, 'f1': 4.92, 'f2': 2.95}. Best is trial 118 with value: 0.6476334822934091.\n",
      "[I 2023-10-15 18:38:23,184] Trial 241 finished with value: 0.6476402228048043 and parameters: {'f0': 4.64, 'f1': 5.0, 'f2': 2.85}. Best is trial 118 with value: 0.6476334822934091.\n",
      "[I 2023-10-15 18:38:23,208] Trial 242 finished with value: 0.6477039419668802 and parameters: {'f0': 4.65, 'f1': 4.82, 'f2': 2.85}. Best is trial 118 with value: 0.6476334822934091.\n",
      "[I 2023-10-15 18:38:23,234] Trial 243 finished with value: 0.6476502326555559 and parameters: {'f0': 4.55, 'f1': 4.93, 'f2': 2.7}. Best is trial 118 with value: 0.6476334822934091.\n",
      "[I 2023-10-15 18:38:23,259] Trial 244 finished with value: 0.6476392166545145 and parameters: {'f0': 4.58, 'f1': 5.0, 'f2': 2.7600000000000002}. Best is trial 118 with value: 0.6476334822934091.\n",
      "[I 2023-10-15 18:38:23,285] Trial 245 finished with value: 0.6478958606210112 and parameters: {'f0': 4.61, 'f1': 5.0, 'f2': 2.57}. Best is trial 118 with value: 0.6476334822934091.\n",
      "[I 2023-10-15 18:38:23,310] Trial 246 finished with value: 0.6476473505762582 and parameters: {'f0': 4.65, 'f1': 5.0, 'f2': 2.87}. Best is trial 118 with value: 0.6476334822934091.\n",
      "[I 2023-10-15 18:38:23,335] Trial 247 finished with value: 0.647842058469085 and parameters: {'f0': 4.66, 'f1': 4.93, 'f2': 3.02}. Best is trial 118 with value: 0.6476334822934091.\n",
      "[I 2023-10-15 18:38:23,361] Trial 248 finished with value: 0.6476743621399461 and parameters: {'f0': 4.57, 'f1': 4.92, 'f2': 2.86}. Best is trial 118 with value: 0.6476334822934091.\n",
      "[I 2023-10-15 18:38:23,385] Trial 249 finished with value: 0.6476863086263749 and parameters: {'f0': 4.7, 'f1': 5.0, 'f2': 2.94}. Best is trial 118 with value: 0.6476334822934091.\n",
      "[I 2023-10-15 18:38:23,412] Trial 250 finished with value: 0.6515295462921376 and parameters: {'f0': 4.5600000000000005, 'f1': 5.0, 'f2': 3.7800000000000002}. Best is trial 118 with value: 0.6476334822934091.\n",
      "[I 2023-10-15 18:38:23,438] Trial 251 finished with value: 0.6476510426633691 and parameters: {'f0': 4.46, 'f1': 4.87, 'f2': 2.7600000000000002}. Best is trial 118 with value: 0.6476334822934091.\n",
      "[I 2023-10-15 18:38:23,465] Trial 252 finished with value: 0.6477836740733369 and parameters: {'f0': 4.84, 'f1': 4.9, 'f2': 2.85}. Best is trial 118 with value: 0.6476334822934091.\n",
      "[I 2023-10-15 18:38:23,490] Trial 253 finished with value: 0.6478862069853102 and parameters: {'f0': 4.71, 'f1': 4.8100000000000005, 'f2': 2.65}. Best is trial 118 with value: 0.6476334822934091.\n",
      "[I 2023-10-15 18:38:23,516] Trial 254 finished with value: 0.6476489533080382 and parameters: {'f0': 4.61, 'f1': 4.87, 'f2': 2.79}. Best is trial 118 with value: 0.6476334822934091.\n",
      "[I 2023-10-15 18:38:23,542] Trial 255 finished with value: 0.6945141900704069 and parameters: {'f0': 4.64, 'f1': 1.43, 'f2': 3.14}. Best is trial 118 with value: 0.6476334822934091.\n",
      "[I 2023-10-15 18:38:23,570] Trial 256 finished with value: 0.6477643018958801 and parameters: {'f0': 4.78, 'f1': 4.91, 'f2': 2.97}. Best is trial 118 with value: 0.6476334822934091.\n",
      "[I 2023-10-15 18:38:23,595] Trial 257 finished with value: 2.1994167409416714 and parameters: {'f0': 0.05, 'f1': 2.86, 'f2': 2.83}. Best is trial 118 with value: 0.6476334822934091.\n",
      "[I 2023-10-15 18:38:23,622] Trial 258 finished with value: 0.6476333726844756 and parameters: {'f0': 4.54, 'f1': 4.92, 'f2': 2.7600000000000002}. Best is trial 258 with value: 0.6476333726844756.\n",
      "[I 2023-10-15 18:38:23,649] Trial 259 finished with value: 0.6476452070957893 and parameters: {'f0': 4.58, 'f1': 4.8500000000000005, 'f2': 2.7600000000000002}. Best is trial 258 with value: 0.6476333726844756.\n",
      "[I 2023-10-15 18:38:23,675] Trial 260 finished with value: 0.6476524137725186 and parameters: {'f0': 4.54, 'f1': 4.8100000000000005, 'f2': 2.7800000000000002}. Best is trial 258 with value: 0.6476333726844756.\n",
      "[I 2023-10-15 18:38:23,702] Trial 261 finished with value: 0.6606677753062775 and parameters: {'f0': 4.44, 'f1': 2.6, 'f2': 2.93}. Best is trial 258 with value: 0.6476333726844756.\n",
      "[I 2023-10-15 18:38:23,728] Trial 262 finished with value: 0.6480231933678854 and parameters: {'f0': 4.62, 'f1': 4.75, 'f2': 2.5300000000000002}. Best is trial 258 with value: 0.6476333726844756.\n",
      "[I 2023-10-15 18:38:23,755] Trial 263 finished with value: 0.6476374756452062 and parameters: {'f0': 4.51, 'f1': 4.8500000000000005, 'f2': 2.7600000000000002}. Best is trial 258 with value: 0.6476333726844756.\n",
      "[I 2023-10-15 18:38:23,781] Trial 264 finished with value: 0.6482782521113131 and parameters: {'f0': 4.42, 'f1': 5.0, 'f2': 3.0500000000000003}. Best is trial 258 with value: 0.6476333726844756.\n",
      "[I 2023-10-15 18:38:23,807] Trial 265 finished with value: 0.6476571368681432 and parameters: {'f0': 4.51, 'f1': 4.74, 'f2': 2.72}. Best is trial 258 with value: 0.6476333726844756.\n",
      "[I 2023-10-15 18:38:23,832] Trial 266 finished with value: 0.6477237394664825 and parameters: {'f0': 4.3, 'f1': 4.87, 'f2': 2.59}. Best is trial 258 with value: 0.6476333726844756.\n",
      "[I 2023-10-15 18:38:23,859] Trial 267 finished with value: 0.6477651738028803 and parameters: {'f0': 4.71, 'f1': 4.83, 'f2': 2.92}. Best is trial 258 with value: 0.6476333726844756.\n",
      "[I 2023-10-15 18:38:23,885] Trial 268 finished with value: 0.6476697144461233 and parameters: {'f0': 4.4, 'f1': 4.7, 'f2': 2.74}. Best is trial 258 with value: 0.6476333726844756.\n",
      "[I 2023-10-15 18:38:23,913] Trial 269 finished with value: 0.6476840287694007 and parameters: {'f0': 4.5200000000000005, 'f1': 5.0, 'f2': 2.83}. Best is trial 258 with value: 0.6476333726844756.\n",
      "[I 2023-10-15 18:38:23,940] Trial 270 finished with value: 0.6480759353388391 and parameters: {'f0': 4.8100000000000005, 'f1': 4.91, 'f2': 2.62}. Best is trial 258 with value: 0.6476333726844756.\n",
      "[I 2023-10-15 18:38:23,965] Trial 271 finished with value: 0.6477804933044625 and parameters: {'f0': 4.18, 'f1': 4.8, 'f2': 2.52}. Best is trial 258 with value: 0.6476333726844756.\n",
      "[I 2023-10-15 18:38:23,993] Trial 272 finished with value: 0.6478309374634881 and parameters: {'f0': 4.63, 'f1': 4.71, 'f2': 2.9}. Best is trial 258 with value: 0.6476333726844756.\n",
      "[I 2023-10-15 18:38:24,020] Trial 273 finished with value: 0.7210711758478995 and parameters: {'f0': 1.6300000000000001, 'f1': 5.0, 'f2': 2.7}. Best is trial 258 with value: 0.6476333726844756.\n",
      "[I 2023-10-15 18:38:24,047] Trial 274 finished with value: 0.6484788320472469 and parameters: {'f0': 4.36, 'f1': 4.84, 'f2': 3.0700000000000003}. Best is trial 258 with value: 0.6476333726844756.\n",
      "[I 2023-10-15 18:38:24,075] Trial 275 finished with value: 0.6476515176322426 and parameters: {'f0': 4.49, 'f1': 4.9, 'f2': 2.7800000000000002}. Best is trial 258 with value: 0.6476333726844756.\n",
      "[I 2023-10-15 18:38:24,102] Trial 276 finished with value: 0.6481736470615361 and parameters: {'f0': 4.88, 'f1': 4.67, 'f2': 2.99}. Best is trial 258 with value: 0.6476333726844756.\n",
      "[I 2023-10-15 18:38:24,128] Trial 277 finished with value: 0.6477375561913358 and parameters: {'f0': 4.58, 'f1': 4.79, 'f2': 2.64}. Best is trial 258 with value: 0.6476333726844756.\n",
      "[I 2023-10-15 18:38:24,155] Trial 278 finished with value: 0.6483236941003083 and parameters: {'f0': 4.69, 'f1': 4.91, 'f2': 2.47}. Best is trial 258 with value: 0.6476333726844756.\n",
      "[I 2023-10-15 18:38:24,181] Trial 279 finished with value: 0.6478242710532067 and parameters: {'f0': 4.43, 'f1': 4.78, 'f2': 2.88}. Best is trial 258 with value: 0.6476333726844756.\n",
      "[I 2023-10-15 18:38:24,209] Trial 280 finished with value: 1.118505344069643 and parameters: {'f0': 0.4, 'f1': 4.6000000000000005, 'f2': 2.7600000000000002}. Best is trial 258 with value: 0.6476333726844756.\n",
      "[I 2023-10-15 18:38:24,236] Trial 281 finished with value: 0.6477996468968173 and parameters: {'f0': 4.25, 'f1': 4.91, 'f2': 2.59}. Best is trial 258 with value: 0.6476333726844756.\n",
      "[I 2023-10-15 18:38:24,263] Trial 282 finished with value: 0.6476809395937126 and parameters: {'f0': 4.51, 'f1': 4.7, 'f2': 2.68}. Best is trial 258 with value: 0.6476333726844756.\n",
      "[I 2023-10-15 18:38:24,291] Trial 283 finished with value: 0.6479396714435927 and parameters: {'f0': 4.3500000000000005, 'f1': 5.0, 'f2': 2.85}. Best is trial 258 with value: 0.6476333726844756.\n",
      "[I 2023-10-15 18:38:24,317] Trial 284 finished with value: 0.6477586423359742 and parameters: {'f0': 4.73, 'f1': 4.83, 'f2': 2.77}. Best is trial 258 with value: 0.6476333726844756.\n",
      "[I 2023-10-15 18:38:24,344] Trial 285 finished with value: 0.6479528386328958 and parameters: {'f0': 4.61, 'f1': 4.9, 'f2': 2.54}. Best is trial 258 with value: 0.6476333726844756.\n",
      "[I 2023-10-15 18:38:24,370] Trial 286 finished with value: 0.6479037543326307 and parameters: {'f0': 4.46, 'f1': 4.76, 'f2': 2.93}. Best is trial 258 with value: 0.6476333726844756.\n",
      "[I 2023-10-15 18:38:24,398] Trial 287 finished with value: 0.6539568277351769 and parameters: {'f0': 4.57, 'f1': 5.0, 'f2': 4.11}. Best is trial 258 with value: 0.6476333726844756.\n",
      "[I 2023-10-15 18:38:24,426] Trial 288 finished with value: 0.648082927182667 and parameters: {'f0': 4.74, 'f1': 4.6000000000000005, 'f2': 2.7}. Best is trial 258 with value: 0.6476333726844756.\n",
      "[I 2023-10-15 18:38:24,453] Trial 289 finished with value: 0.6479613451261882 and parameters: {'f0': 4.33, 'f1': 4.84, 'f2': 2.42}. Best is trial 258 with value: 0.6476333726844756.\n",
      "[I 2023-10-15 18:38:24,480] Trial 290 finished with value: 0.647775913647977 and parameters: {'f0': 4.65, 'f1': 4.71, 'f2': 2.81}. Best is trial 258 with value: 0.6476333726844756.\n",
      "[I 2023-10-15 18:38:24,507] Trial 291 finished with value: 0.7575346498125742 and parameters: {'f0': 4.49, 'f1': 0.6, 'f2': 3.0100000000000002}. Best is trial 258 with value: 0.6476333726844756.\n",
      "[I 2023-10-15 18:38:24,534] Trial 292 finished with value: 0.6482614447482378 and parameters: {'f0': 4.88, 'f1': 4.9, 'f2': 2.61}. Best is trial 258 with value: 0.6476333726844756.\n",
      "[I 2023-10-15 18:38:24,563] Trial 293 finished with value: 0.7114233517104169 and parameters: {'f0': 4.41, 'f1': 4.8, 'f2': 0.61}. Best is trial 258 with value: 0.6476333726844756.\n",
      "[I 2023-10-15 18:38:24,590] Trial 294 finished with value: 0.6477326234616114 and parameters: {'f0': 4.8, 'f1': 4.91, 'f2': 2.87}. Best is trial 258 with value: 0.6476333726844756.\n",
      "[I 2023-10-15 18:38:24,617] Trial 295 finished with value: 0.6476508034103997 and parameters: {'f0': 4.59, 'f1': 5.0, 'f2': 2.73}. Best is trial 258 with value: 0.6476333726844756.\n",
      "[I 2023-10-15 18:38:24,644] Trial 296 finished with value: 0.6477461528725088 and parameters: {'f0': 4.11, 'f1': 4.53, 'f2': 2.63}. Best is trial 258 with value: 0.6476333726844756.\n",
      "[I 2023-10-15 18:38:24,671] Trial 297 finished with value: 0.6479312947529966 and parameters: {'f0': 4.24, 'f1': 4.68, 'f2': 2.81}. Best is trial 258 with value: 0.6476333726844756.\n",
      "[I 2023-10-15 18:38:24,699] Trial 298 finished with value: 0.6479046970080935 and parameters: {'f0': 4.54, 'f1': 4.79, 'f2': 2.97}. Best is trial 258 with value: 0.6476333726844756.\n",
      "[I 2023-10-15 18:38:24,725] Trial 299 finished with value: 0.6481571936406282 and parameters: {'f0': 4.69, 'f1': 4.84, 'f2': 2.52}. Best is trial 258 with value: 0.6476333726844756.\n",
      "[I 2023-10-15 18:38:24,752] Trial 300 finished with value: 0.6476406156316228 and parameters: {'f0': 4.42, 'f1': 4.72, 'f2': 2.7}. Best is trial 258 with value: 0.6476333726844756.\n",
      "[I 2023-10-15 18:38:24,780] Trial 301 finished with value: 0.6476808165659639 and parameters: {'f0': 4.33, 'f1': 4.63, 'f2': 2.71}. Best is trial 258 with value: 0.6476333726844756.\n",
      "[I 2023-10-15 18:38:24,807] Trial 302 finished with value: 0.6478245486530182 and parameters: {'f0': 4.42, 'f1': 4.44, 'f2': 2.59}. Best is trial 258 with value: 0.6476333726844756.\n",
      "[I 2023-10-15 18:38:24,835] Trial 303 finished with value: 0.6480948725729675 and parameters: {'f0': 4.44, 'f1': 4.72, 'f2': 2.4}. Best is trial 258 with value: 0.6476333726844756.\n",
      "[I 2023-10-15 18:38:24,863] Trial 304 finished with value: 0.6477507100697457 and parameters: {'f0': 4.24, 'f1': 4.75, 'f2': 2.7}. Best is trial 258 with value: 0.6476333726844756.\n",
      "[I 2023-10-15 18:38:24,892] Trial 305 finished with value: 0.6477574896597509 and parameters: {'f0': 4.51, 'f1': 4.6000000000000005, 'f2': 2.65}. Best is trial 258 with value: 0.6476333726844756.\n",
      "[I 2023-10-15 18:38:24,921] Trial 306 finished with value: 0.6478064359902693 and parameters: {'f0': 4.33, 'f1': 4.84, 'f2': 2.49}. Best is trial 258 with value: 0.6476333726844756.\n",
      "[I 2023-10-15 18:38:24,948] Trial 307 finished with value: 0.6477464578969727 and parameters: {'f0': 4.58, 'f1': 4.68, 'f2': 2.79}. Best is trial 258 with value: 0.6476333726844756.\n",
      "[I 2023-10-15 18:38:24,977] Trial 308 finished with value: 0.7070762661082602 and parameters: {'f0': 4.44, 'f1': 1.12, 'f2': 2.89}. Best is trial 258 with value: 0.6476333726844756.\n",
      "[I 2023-10-15 18:38:25,005] Trial 309 finished with value: 0.6479578774980835 and parameters: {'f0': 4.65, 'f1': 4.91, 'f2': 2.56}. Best is trial 258 with value: 0.6476333726844756.\n",
      "[I 2023-10-15 18:38:25,033] Trial 310 finished with value: 0.6478221026758826 and parameters: {'f0': 4.51, 'f1': 4.53, 'f2': 2.74}. Best is trial 258 with value: 0.6476333726844756.\n",
      "[I 2023-10-15 18:38:25,061] Trial 311 finished with value: 0.6487606398224537 and parameters: {'f0': 4.38, 'f1': 4.78, 'f2': 3.15}. Best is trial 258 with value: 0.6476333726844756.\n",
      "[I 2023-10-15 18:38:25,089] Trial 312 finished with value: 0.647690266153181 and parameters: {'f0': 4.57, 'f1': 4.91, 'f2': 2.66}. Best is trial 258 with value: 0.6476333726844756.\n",
      "[I 2023-10-15 18:38:25,116] Trial 313 finished with value: 0.6482359892963168 and parameters: {'f0': 4.23, 'f1': 4.72, 'f2': 2.91}. Best is trial 258 with value: 0.6476333726844756.\n",
      "[I 2023-10-15 18:38:25,145] Trial 314 finished with value: 0.6476664136190772 and parameters: {'f0': 4.49, 'f1': 4.83, 'f2': 2.8000000000000003}. Best is trial 258 with value: 0.6476333726844756.\n",
      "[I 2023-10-15 18:38:25,173] Trial 315 finished with value: 0.6478227893189031 and parameters: {'f0': 4.65, 'f1': 4.91, 'f2': 3.0}. Best is trial 258 with value: 0.6476333726844756.\n",
      "[I 2023-10-15 18:38:25,202] Trial 316 finished with value: 0.6476634630434289 and parameters: {'f0': 4.36, 'f1': 4.63, 'f2': 2.57}. Best is trial 258 with value: 0.6476333726844756.\n",
      "[I 2023-10-15 18:38:25,229] Trial 317 finished with value: 0.647800996574552 and parameters: {'f0': 4.78, 'f1': 5.0, 'f2': 2.71}. Best is trial 258 with value: 0.6476333726844756.\n",
      "[I 2023-10-15 18:38:25,257] Trial 318 finished with value: 0.6488673375830168 and parameters: {'f0': 4.5600000000000005, 'f1': 4.8, 'f2': 2.29}. Best is trial 258 with value: 0.6476333726844756.\n",
      "[I 2023-10-15 18:38:25,285] Trial 319 finished with value: 0.6477763834692585 and parameters: {'f0': 4.43, 'f1': 4.71, 'f2': 2.84}. Best is trial 258 with value: 0.6476333726844756.\n",
      "[I 2023-10-15 18:38:25,313] Trial 320 finished with value: 0.6480070532095116 and parameters: {'f0': 4.13, 'f1': 4.91, 'f2': 2.47}. Best is trial 258 with value: 0.6476333726844756.\n",
      "[I 2023-10-15 18:38:25,341] Trial 321 finished with value: 0.6658677245287633 and parameters: {'f0': 2.59, 'f1': 4.82, 'f2': 2.63}. Best is trial 258 with value: 0.6476333726844756.\n",
      "[I 2023-10-15 18:38:25,369] Trial 322 finished with value: 0.6477849403641479 and parameters: {'f0': 4.3100000000000005, 'f1': 4.59, 'f2': 2.77}. Best is trial 258 with value: 0.6476333726844756.\n",
      "[I 2023-10-15 18:38:25,397] Trial 323 finished with value: 0.6839058942821828 and parameters: {'f0': 4.62, 'f1': 5.0, 'f2': 0.9500000000000001}. Best is trial 258 with value: 0.6476333726844756.\n",
      "[I 2023-10-15 18:38:25,426] Trial 324 finished with value: 0.6482808222966162 and parameters: {'f0': 4.48, 'f1': 4.73, 'f2': 3.0700000000000003}. Best is trial 258 with value: 0.6476333726844756.\n",
      "[I 2023-10-15 18:38:25,454] Trial 325 finished with value: 0.6477024553022311 and parameters: {'f0': 4.69, 'f1': 4.89, 'f2': 2.9}. Best is trial 258 with value: 0.6476333726844756.\n",
      "[I 2023-10-15 18:38:25,483] Trial 326 finished with value: 0.6476628504126681 and parameters: {'f0': 4.55, 'f1': 4.8100000000000005, 'f2': 2.69}. Best is trial 258 with value: 0.6476333726844756.\n",
      "[I 2023-10-15 18:38:25,511] Trial 327 finished with value: 0.6477529162526027 and parameters: {'f0': 4.39, 'f1': 4.91, 'f2': 2.8000000000000003}. Best is trial 258 with value: 0.6476333726844756.\n",
      "[I 2023-10-15 18:38:25,541] Trial 328 finished with value: 0.648738658060191 and parameters: {'f0': 4.92, 'f1': 4.68, 'f2': 2.57}. Best is trial 258 with value: 0.6476333726844756.\n",
      "[I 2023-10-15 18:38:25,569] Trial 329 finished with value: 0.6690789721411354 and parameters: {'f0': 4.78, 'f1': 2.25, 'f2': 2.94}. Best is trial 258 with value: 0.6476333726844756.\n",
      "[I 2023-10-15 18:38:25,598] Trial 330 finished with value: 0.8288972332281445 and parameters: {'f0': 0.91, 'f1': 4.46, 'f2': 2.7}. Best is trial 258 with value: 0.6476333726844756.\n",
      "[I 2023-10-15 18:38:25,627] Trial 331 finished with value: 0.6479956051904124 and parameters: {'f0': 4.2700000000000005, 'f1': 4.8, 'f2': 2.85}. Best is trial 258 with value: 0.6476333726844756.\n",
      "[I 2023-10-15 18:38:25,657] Trial 332 finished with value: 0.6482451900398719 and parameters: {'f0': 4.65, 'f1': 4.93, 'f2': 2.47}. Best is trial 258 with value: 0.6476333726844756.\n",
      "[I 2023-10-15 18:38:25,687] Trial 333 finished with value: 0.6476843340829261 and parameters: {'f0': 4.49, 'f1': 4.84, 'f2': 2.62}. Best is trial 258 with value: 0.6476333726844756.\n",
      "[I 2023-10-15 18:38:25,717] Trial 334 finished with value: 0.7075242293543381 and parameters: {'f0': 1.47, 'f1': 1.74, 'f2': 2.7600000000000002}. Best is trial 258 with value: 0.6476333726844756.\n",
      "[I 2023-10-15 18:38:25,748] Trial 335 finished with value: 0.6478381382187177 and parameters: {'f0': 4.55, 'f1': 5.0, 'f2': 2.97}. Best is trial 258 with value: 0.6476333726844756.\n",
      "[I 2023-10-15 18:38:25,778] Trial 336 finished with value: 0.6476484049826586 and parameters: {'f0': 4.38, 'f1': 4.64, 'f2': 2.67}. Best is trial 258 with value: 0.6476333726844756.\n",
      "[I 2023-10-15 18:38:25,808] Trial 337 finished with value: 0.6487474045172001 and parameters: {'f0': 4.67, 'f1': 4.76, 'f2': 2.37}. Best is trial 258 with value: 0.6476333726844756.\n",
      "[I 2023-10-15 18:38:25,838] Trial 338 finished with value: 0.6479120548647468 and parameters: {'f0': 4.46, 'f1': 4.54, 'f2': 2.85}. Best is trial 258 with value: 0.6476333726844756.\n",
      "[I 2023-10-15 18:38:25,868] Trial 339 finished with value: 0.647892991412333 and parameters: {'f0': 4.17, 'f1': 4.9, 'f2': 2.5500000000000003}. Best is trial 258 with value: 0.6476333726844756.\n",
      "[I 2023-10-15 18:38:25,898] Trial 340 finished with value: 0.6478751202724781 and parameters: {'f0': 4.76, 'f1': 4.75, 'f2': 2.7600000000000002}. Best is trial 258 with value: 0.6476333726844756.\n",
      "[I 2023-10-15 18:38:25,928] Trial 341 finished with value: 0.6477083472993412 and parameters: {'f0': 4.59, 'f1': 4.8500000000000005, 'f2': 2.66}. Best is trial 258 with value: 0.6476333726844756.\n",
      "[I 2023-10-15 18:38:25,958] Trial 342 finished with value: 0.6487644181514114 and parameters: {'f0': 4.3, 'f1': 4.66, 'f2': 3.09}. Best is trial 258 with value: 0.6476333726844756.\n",
      "[I 2023-10-15 18:38:25,989] Trial 343 finished with value: 0.6478039226493857 and parameters: {'f0': 4.43, 'f1': 5.0, 'f2': 2.85}. Best is trial 258 with value: 0.6476333726844756.\n",
      "[I 2023-10-15 18:38:26,022] Trial 344 finished with value: 0.7385454893309796 and parameters: {'f0': 4.55, 'f1': 4.84, 'f2': 0.45}. Best is trial 258 with value: 0.6476333726844756.\n",
      "[I 2023-10-15 18:38:26,052] Trial 345 finished with value: 0.6478183020240237 and parameters: {'f0': 4.7, 'f1': 4.73, 'f2': 2.75}. Best is trial 258 with value: 0.6476333726844756.\n",
      "[I 2023-10-15 18:38:26,083] Trial 346 finished with value: 0.6482146312581014 and parameters: {'f0': 4.36, 'f1': 4.91, 'f2': 2.99}. Best is trial 258 with value: 0.6476333726844756.\n",
      "[I 2023-10-15 18:38:26,113] Trial 347 finished with value: 0.6484069734273331 and parameters: {'f0': 4.83, 'f1': 4.92, 'f2': 2.5300000000000002}. Best is trial 258 with value: 0.6476333726844756.\n",
      "[I 2023-10-15 18:38:26,143] Trial 348 finished with value: 0.6479929924949316 and parameters: {'f0': 4.51, 'f1': 4.55, 'f2': 2.9}. Best is trial 258 with value: 0.6476333726844756.\n",
      "[I 2023-10-15 18:38:26,173] Trial 349 finished with value: 0.6478353589740307 and parameters: {'f0': 4.64, 'f1': 4.7700000000000005, 'f2': 2.63}. Best is trial 258 with value: 0.6476333726844756.\n",
      "[I 2023-10-15 18:38:26,204] Trial 350 finished with value: 0.6476924103992661 and parameters: {'f0': 4.45, 'f1': 5.0, 'f2': 2.74}. Best is trial 258 with value: 0.6476333726844756.\n",
      "[I 2023-10-15 18:38:26,235] Trial 351 finished with value: 0.6866450780440194 and parameters: {'f0': 2.2800000000000002, 'f1': 4.65, 'f2': 3.24}. Best is trial 258 with value: 0.6476333726844756.\n",
      "[I 2023-10-15 18:38:26,266] Trial 352 finished with value: 0.6476687414324394 and parameters: {'f0': 4.61, 'f1': 4.83, 'f2': 2.81}. Best is trial 258 with value: 0.6476333726844756.\n",
      "[I 2023-10-15 18:38:26,295] Trial 353 finished with value: 0.6477708091345893 and parameters: {'f0': 4.2700000000000005, 'f1': 4.9, 'f2': 2.59}. Best is trial 258 with value: 0.6476333726844756.\n",
      "[I 2023-10-15 18:38:26,327] Trial 354 finished with value: 0.6481044264836747 and parameters: {'f0': 4.5200000000000005, 'f1': 4.74, 'f2': 2.44}. Best is trial 258 with value: 0.6476333726844756.\n",
      "[I 2023-10-15 18:38:26,358] Trial 355 finished with value: 0.6482270342400293 and parameters: {'f0': 4.04, 'f1': 4.82, 'f2': 2.7}. Best is trial 258 with value: 0.6476333726844756.\n",
      "[I 2023-10-15 18:38:26,388] Trial 356 finished with value: 0.6476508199126776 and parameters: {'f0': 4.73, 'f1': 5.0, 'f2': 2.88}. Best is trial 258 with value: 0.6476333726844756.\n",
      "[I 2023-10-15 18:38:26,419] Trial 357 finished with value: 0.6482082330265931 and parameters: {'f0': 4.4, 'f1': 4.68, 'f2': 3.0}. Best is trial 258 with value: 0.6476333726844756.\n",
      "[I 2023-10-15 18:38:26,451] Trial 358 finished with value: 0.6476357153536784 and parameters: {'f0': 4.58, 'f1': 4.9, 'f2': 2.7800000000000002}. Best is trial 258 with value: 0.6476333726844756.\n",
      "[I 2023-10-15 18:38:26,482] Trial 359 finished with value: 0.6525839399858262 and parameters: {'f0': 4.34, 'f1': 3.2, 'f2': 2.65}. Best is trial 258 with value: 0.6476333726844756.\n",
      "[I 2023-10-15 18:38:26,513] Trial 360 finished with value: 0.6479758293015702 and parameters: {'f0': 4.53, 'f1': 4.61, 'f2': 2.5100000000000002}. Best is trial 258 with value: 0.6476333726844756.\n",
      "[I 2023-10-15 18:38:26,542] Trial 361 finished with value: 0.6478943190252133 and parameters: {'f0': 4.19, 'f1': 4.76, 'f2': 2.74}. Best is trial 258 with value: 0.6476333726844756.\n",
      "[I 2023-10-15 18:38:26,573] Trial 362 finished with value: 0.8251285124454857 and parameters: {'f0': 4.49, 'f1': 0.28, 'f2': 2.7800000000000002}. Best is trial 258 with value: 0.6476333726844756.\n",
      "[I 2023-10-15 18:38:26,604] Trial 363 finished with value: 0.674517120430891 and parameters: {'f0': 4.6000000000000005, 'f1': 1.9100000000000001, 'f2': 2.59}. Best is trial 258 with value: 0.6476333726844756.\n",
      "[I 2023-10-15 18:38:26,636] Trial 364 finished with value: 0.6476469815922967 and parameters: {'f0': 4.41, 'f1': 4.84, 'f2': 2.71}. Best is trial 258 with value: 0.6476333726844756.\n",
      "[I 2023-10-15 18:38:26,667] Trial 365 finished with value: 0.6477714800942735 and parameters: {'f0': 4.8100000000000005, 'f1': 4.9, 'f2': 2.81}. Best is trial 258 with value: 0.6476333726844756.\n",
      "[I 2023-10-15 18:38:26,696] Trial 366 finished with value: 0.6476402302794323 and parameters: {'f0': 4.3, 'f1': 4.68, 'f2': 2.64}. Best is trial 258 with value: 0.6476333726844756.\n",
      "[I 2023-10-15 18:38:26,726] Trial 367 finished with value: 0.6477488839877443 and parameters: {'f0': 4.2700000000000005, 'f1': 4.48, 'f2': 2.45}. Best is trial 258 with value: 0.6476333726844756.\n",
      "[I 2023-10-15 18:38:26,757] Trial 368 finished with value: 0.6478009151804639 and parameters: {'f0': 4.33, 'f1': 4.36, 'f2': 2.57}. Best is trial 258 with value: 0.6476333726844756.\n",
      "[I 2023-10-15 18:38:26,787] Trial 369 finished with value: 0.6477040028962652 and parameters: {'f0': 4.43, 'f1': 4.57, 'f2': 2.65}. Best is trial 258 with value: 0.6476333726844756.\n",
      "[I 2023-10-15 18:38:26,819] Trial 370 finished with value: 0.6483430149782637 and parameters: {'f0': 4.2, 'f1': 4.71, 'f2': 2.92}. Best is trial 258 with value: 0.6476333726844756.\n",
      "[I 2023-10-15 18:38:26,850] Trial 371 finished with value: 0.6484730052148046 and parameters: {'f0': 4.59, 'f1': 4.66, 'f2': 2.39}. Best is trial 258 with value: 0.6476333726844756.\n",
      "[I 2023-10-15 18:38:26,881] Trial 372 finished with value: 0.6481127595071505 and parameters: {'f0': 4.99, 'f1': 4.84, 'f2': 2.82}. Best is trial 258 with value: 0.6476333726844756.\n",
      "[I 2023-10-15 18:38:26,912] Trial 373 finished with value: 0.648349646895427 and parameters: {'f0': 3.97, 'f1': 4.74, 'f2': 2.7}. Best is trial 258 with value: 0.6476333726844756.\n",
      "[I 2023-10-15 18:38:26,944] Trial 374 finished with value: 0.6477261863480177 and parameters: {'f0': 4.36, 'f1': 4.91, 'f2': 2.59}. Best is trial 258 with value: 0.6476333726844756.\n",
      "[I 2023-10-15 18:38:26,974] Trial 375 finished with value: 0.6480321242375354 and parameters: {'f0': 4.69, 'f1': 4.59, 'f2': 2.91}. Best is trial 258 with value: 0.6476333726844756.\n",
      "[I 2023-10-15 18:38:27,007] Trial 376 finished with value: 0.6478238462256222 and parameters: {'f0': 4.45, 'f1': 4.8100000000000005, 'f2': 2.5100000000000002}. Best is trial 258 with value: 0.6476333726844756.\n",
      "[I 2023-10-15 18:38:27,038] Trial 377 finished with value: 0.6483257280316632 and parameters: {'f0': 4.11, 'f1': 4.92, 'f2': 2.7800000000000002}. Best is trial 258 with value: 0.6476333726844756.\n",
      "[I 2023-10-15 18:38:27,069] Trial 378 finished with value: 0.6482626095913594 and parameters: {'f0': 4.57, 'f1': 4.65, 'f2': 3.0700000000000003}. Best is trial 258 with value: 0.6476333726844756.\n",
      "[I 2023-10-15 18:38:27,101] Trial 379 finished with value: 0.6882714421987403 and parameters: {'f0': 1.8900000000000001, 'f1': 4.7700000000000005, 'f2': 2.29}. Best is trial 258 with value: 0.6476333726844756.\n",
      "[I 2023-10-15 18:38:27,134] Trial 380 finished with value: 0.6477682484489368 and parameters: {'f0': 4.29, 'f1': 4.92, 'f2': 2.66}. Best is trial 258 with value: 0.6476333726844756.\n",
      "[I 2023-10-15 18:38:27,164] Trial 381 finished with value: 0.6482582655567249 and parameters: {'f0': 4.71, 'f1': 4.44, 'f2': 2.7800000000000002}. Best is trial 258 with value: 0.6476333726844756.\n",
      "[I 2023-10-15 18:38:27,195] Trial 382 finished with value: 0.6478548767689619 and parameters: {'f0': 4.48, 'f1': 4.8500000000000005, 'f2': 2.93}. Best is trial 258 with value: 0.6476333726844756.\n",
      "[I 2023-10-15 18:38:27,225] Trial 383 finished with value: 0.6483560975055391 and parameters: {'f0': 4.88, 'f1': 4.72, 'f2': 2.64}. Best is trial 258 with value: 0.6476333726844756.\n",
      "[I 2023-10-15 18:38:27,256] Trial 384 finished with value: 0.6476354986167218 and parameters: {'f0': 4.63, 'f1': 5.0, 'f2': 2.83}. Best is trial 258 with value: 0.6476333726844756.\n",
      "[I 2023-10-15 18:38:27,287] Trial 385 finished with value: 0.6478002529185795 and parameters: {'f0': 4.66, 'f1': 4.99, 'f2': 3.0100000000000002}. Best is trial 258 with value: 0.6476333726844756.\n",
      "[I 2023-10-15 18:38:27,318] Trial 386 finished with value: 0.6478365014230559 and parameters: {'f0': 4.39, 'f1': 4.94, 'f2': 2.85}. Best is trial 258 with value: 0.6476333726844756.\n",
      "[I 2023-10-15 18:38:27,351] Trial 387 finished with value: 0.6478467554560412 and parameters: {'f0': 4.51, 'f1': 4.84, 'f2': 2.5300000000000002}. Best is trial 258 with value: 0.6476333726844756.\n",
      "[I 2023-10-15 18:38:27,383] Trial 388 finished with value: 0.6478811226692129 and parameters: {'f0': 4.8100000000000005, 'f1': 4.91, 'f2': 2.71}. Best is trial 258 with value: 0.6476333726844756.\n",
      "[I 2023-10-15 18:38:27,415] Trial 389 finished with value: 0.6478134061095703 and parameters: {'f0': 4.72, 'f1': 4.75, 'f2': 2.87}. Best is trial 258 with value: 0.6476333726844756.\n",
      "[I 2023-10-15 18:38:27,447] Trial 390 finished with value: 0.6481524504151797 and parameters: {'f0': 4.58, 'f1': 4.99, 'f2': 3.12}. Best is trial 258 with value: 0.6476333726844756.\n",
      "[I 2023-10-15 18:38:27,478] Trial 391 finished with value: 0.6483746842169338 and parameters: {'f0': 4.23, 'f1': 4.55, 'f2': 2.94}. Best is trial 258 with value: 0.6476333726844756.\n",
      "[I 2023-10-15 18:38:27,510] Trial 392 finished with value: 0.6476674477682989 and parameters: {'f0': 4.45, 'f1': 4.82, 'f2': 2.7800000000000002}. Best is trial 258 with value: 0.6476333726844756.\n",
      "[I 2023-10-15 18:38:27,543] Trial 393 finished with value: 0.6477430483779469 and parameters: {'f0': 4.39, 'f1': 5.0, 'f2': 2.65}. Best is trial 258 with value: 0.6476333726844756.\n",
      "[I 2023-10-15 18:38:27,575] Trial 394 finished with value: 0.6480529503656784 and parameters: {'f0': 4.64, 'f1': 4.68, 'f2': 2.5500000000000003}. Best is trial 258 with value: 0.6476333726844756.\n",
      "[I 2023-10-15 18:38:27,607] Trial 395 finished with value: 0.6476359770135808 and parameters: {'f0': 4.55, 'f1': 4.89, 'f2': 2.73}. Best is trial 258 with value: 0.6476333726844756.\n",
      "[I 2023-10-15 18:38:27,639] Trial 396 finished with value: 0.6478781149781645 and parameters: {'f0': 4.33, 'f1': 4.75, 'f2': 2.43}. Best is trial 258 with value: 0.6476333726844756.\n",
      "[I 2023-10-15 18:38:27,672] Trial 397 finished with value: 0.6476332058442181 and parameters: {'f0': 4.51, 'f1': 4.86, 'f2': 2.72}. Best is trial 397 with value: 0.6476332058442181.\n",
      "[I 2023-10-15 18:38:27,709] Trial 398 finished with value: 0.647731353583889 and parameters: {'f0': 4.5200000000000005, 'f1': 4.87, 'f2': 2.6}. Best is trial 397 with value: 0.6476332058442181.\n",
      "[I 2023-10-15 18:38:27,740] Trial 399 finished with value: 0.6476764722579093 and parameters: {'f0': 4.42, 'f1': 4.62, 'f2': 2.7}. Best is trial 397 with value: 0.6476332058442181.\n",
      "[I 2023-10-15 18:38:27,773] Trial 400 finished with value: 0.6480392585594283 and parameters: {'f0': 4.57, 'f1': 4.9, 'f2': 2.49}. Best is trial 397 with value: 0.6476332058442181.\n",
      "[I 2023-10-15 18:38:27,805] Trial 401 finished with value: 0.6476937577653356 and parameters: {'f0': 4.26, 'f1': 4.79, 'f2': 2.62}. Best is trial 397 with value: 0.6476332058442181.\n",
      "[I 2023-10-15 18:38:27,837] Trial 402 finished with value: 0.6477923821015281 and parameters: {'f0': 4.3500000000000005, 'f1': 4.91, 'f2': 2.79}. Best is trial 397 with value: 0.6476332058442181.\n",
      "[I 2023-10-15 18:38:27,869] Trial 403 finished with value: 0.6476752141596172 and parameters: {'f0': 4.49, 'f1': 4.68, 'f2': 2.71}. Best is trial 397 with value: 0.6476332058442181.\n",
      "[I 2023-10-15 18:38:27,901] Trial 404 finished with value: 0.6477069358414858 and parameters: {'f0': 4.64, 'f1': 4.82, 'f2': 2.86}. Best is trial 397 with value: 0.6476332058442181.\n",
      "[I 2023-10-15 18:38:27,933] Trial 405 finished with value: 0.6480691783480176 and parameters: {'f0': 4.15, 'f1': 5.0, 'f2': 2.59}. Best is trial 397 with value: 0.6476332058442181.\n",
      "[I 2023-10-15 18:38:27,965] Trial 406 finished with value: 0.6854494416469491 and parameters: {'f0': 4.5200000000000005, 'f1': 1.56, 'f2': 2.73}. Best is trial 397 with value: 0.6476332058442181.\n",
      "[I 2023-10-15 18:38:27,996] Trial 407 finished with value: 0.6481580031704229 and parameters: {'f0': 4.41, 'f1': 4.75, 'f2': 2.37}. Best is trial 397 with value: 0.6476332058442181.\n",
      "[I 2023-10-15 18:38:28,029] Trial 408 finished with value: 0.647800520279788 and parameters: {'f0': 4.61, 'f1': 4.9, 'f2': 2.97}. Best is trial 397 with value: 0.6476332058442181.\n",
      "[I 2023-10-15 18:38:28,060] Trial 409 finished with value: 0.6481760059730245 and parameters: {'f0': 4.75, 'f1': 4.5200000000000005, 'f2': 2.82}. Best is trial 397 with value: 0.6476332058442181.\n",
      "[I 2023-10-15 18:38:28,091] Trial 410 finished with value: 0.6476451835216065 and parameters: {'f0': 4.3100000000000005, 'f1': 4.67, 'f2': 2.66}. Best is trial 397 with value: 0.6476332058442181.\n",
      "[I 2023-10-15 18:38:28,123] Trial 411 finished with value: 0.6478383616539675 and parameters: {'f0': 4.46, 'f1': 4.83, 'f2': 2.5100000000000002}. Best is trial 397 with value: 0.6476332058442181.\n",
      "[I 2023-10-15 18:38:28,156] Trial 412 finished with value: 0.6476346386997885 and parameters: {'f0': 4.58, 'f1': 4.91, 'f2': 2.7600000000000002}. Best is trial 397 with value: 0.6476332058442181.\n",
      "[I 2023-10-15 18:38:28,187] Trial 413 finished with value: 0.6476480957148478 and parameters: {'f0': 4.68, 'f1': 5.0, 'f2': 2.88}. Best is trial 397 with value: 0.6476332058442181.\n",
      "[I 2023-10-15 18:38:28,219] Trial 414 finished with value: 0.6480568998776102 and parameters: {'f0': 4.7700000000000005, 'f1': 4.9, 'f2': 2.6}. Best is trial 397 with value: 0.6476332058442181.\n",
      "[I 2023-10-15 18:38:28,254] Trial 415 finished with value: 0.6476669489208687 and parameters: {'f0': 4.58, 'f1': 4.92, 'f2': 2.69}. Best is trial 397 with value: 0.6476332058442181.\n",
      "[I 2023-10-15 18:38:28,286] Trial 416 finished with value: 0.6913855030753361 and parameters: {'f0': 2.1, 'f1': 4.7700000000000005, 'f2': 2.99}. Best is trial 397 with value: 0.6476332058442181.\n",
      "[I 2023-10-15 18:38:28,319] Trial 417 finished with value: 0.6700731120385154 and parameters: {'f0': 4.59, 'f1': 3.02, 'f2': 4.61}. Best is trial 397 with value: 0.6476332058442181.\n",
      "[I 2023-10-15 18:38:28,353] Trial 418 finished with value: 0.6476951977822163 and parameters: {'f0': 4.4, 'f1': 4.86, 'f2': 2.77}. Best is trial 397 with value: 0.6476332058442181.\n",
      "[I 2023-10-15 18:38:28,385] Trial 419 finished with value: 0.7655502514644297 and parameters: {'f0': 1.18, 'f1': 4.71, 'f2': 2.48}. Best is trial 397 with value: 0.6476332058442181.\n",
      "[I 2023-10-15 18:38:28,418] Trial 420 finished with value: 0.6476567509562322 and parameters: {'f0': 4.66, 'f1': 4.92, 'f2': 2.85}. Best is trial 397 with value: 0.6476332058442181.\n",
      "[I 2023-10-15 18:38:28,452] Trial 421 finished with value: 0.6476799740051169 and parameters: {'f0': 4.53, 'f1': 5.0, 'f2': 2.68}. Best is trial 397 with value: 0.6476332058442181.\n",
      "[I 2023-10-15 18:38:28,485] Trial 422 finished with value: 0.6476447108542659 and parameters: {'f0': 4.24, 'f1': 4.61, 'f2': 2.5300000000000002}. Best is trial 397 with value: 0.6476332058442181.\n",
      "[I 2023-10-15 18:38:28,517] Trial 423 finished with value: 0.647893887123883 and parameters: {'f0': 4.83, 'f1': 4.8100000000000005, 'f2': 2.79}. Best is trial 397 with value: 0.6476332058442181.\n",
      "[I 2023-10-15 18:38:28,551] Trial 424 finished with value: 0.6481568460766659 and parameters: {'f0': 4.47, 'f1': 4.75, 'f2': 3.0300000000000002}. Best is trial 397 with value: 0.6476332058442181.\n",
      "[I 2023-10-15 18:38:28,583] Trial 425 finished with value: 0.6477237054438546 and parameters: {'f0': 4.33, 'f1': 4.91, 'f2': 2.62}. Best is trial 397 with value: 0.6476332058442181.\n",
      "[I 2023-10-15 18:38:28,616] Trial 426 finished with value: 0.6477798056734271 and parameters: {'f0': 4.68, 'f1': 4.83, 'f2': 2.94}. Best is trial 397 with value: 0.6476332058442181.\n",
      "[I 2023-10-15 18:38:28,648] Trial 427 finished with value: 0.6477361796106631 and parameters: {'f0': 4.57, 'f1': 4.67, 'f2': 2.74}. Best is trial 397 with value: 0.6476332058442181.\n",
      "[I 2023-10-15 18:38:28,681] Trial 428 finished with value: 0.6478042560760932 and parameters: {'f0': 4.43, 'f1': 4.91, 'f2': 2.87}. Best is trial 397 with value: 0.6476332058442181.\n",
      "[I 2023-10-15 18:38:28,715] Trial 429 finished with value: 0.6491928236665587 and parameters: {'f0': 4.76, 'f1': 4.53, 'f2': 2.38}. Best is trial 397 with value: 0.6476332058442181.\n",
      "[I 2023-10-15 18:38:28,749] Trial 430 finished with value: 0.6476857859054749 and parameters: {'f0': 4.09, 'f1': 4.4, 'f2': 2.57}. Best is trial 397 with value: 0.6476332058442181.\n",
      "[I 2023-10-15 18:38:28,782] Trial 431 finished with value: 0.6476670738964213 and parameters: {'f0': 4.54, 'f1': 4.75, 'f2': 2.72}. Best is trial 397 with value: 0.6476332058442181.\n",
      "[I 2023-10-15 18:38:28,815] Trial 432 finished with value: 0.6479107741236206 and parameters: {'f0': 4.89, 'f1': 4.8500000000000005, 'f2': 2.83}. Best is trial 397 with value: 0.6476332058442181.\n",
      "[I 2023-10-15 18:38:28,849] Trial 433 finished with value: 0.6477969674602211 and parameters: {'f0': 4.33, 'f1': 5.0, 'f2': 2.64}. Best is trial 397 with value: 0.6476332058442181.\n",
      "[I 2023-10-15 18:38:28,883] Trial 434 finished with value: 1.178299219315069 and parameters: {'f0': 0.35000000000000003, 'f1': 4.63, 'f2': 2.7600000000000002}. Best is trial 397 with value: 0.6476332058442181.\n",
      "[I 2023-10-15 18:38:28,916] Trial 435 finished with value: 0.6478140323839608 and parameters: {'f0': 4.62, 'f1': 4.8100000000000005, 'f2': 2.95}. Best is trial 397 with value: 0.6476332058442181.\n",
      "[I 2023-10-15 18:38:28,949] Trial 436 finished with value: 0.6478969517694567 and parameters: {'f0': 4.47, 'f1': 4.9, 'f2': 2.5}. Best is trial 397 with value: 0.6476332058442181.\n",
      "[I 2023-10-15 18:38:28,982] Trial 437 finished with value: 0.6483467931061601 and parameters: {'f0': 4.71, 'f1': 4.72, 'f2': 3.16}. Best is trial 397 with value: 0.6476332058442181.\n",
      "[I 2023-10-15 18:38:29,016] Trial 438 finished with value: 0.6608562954915492 and parameters: {'f0': 2.83, 'f1': 4.92, 'f2': 2.64}. Best is trial 397 with value: 0.6476332058442181.\n",
      "[I 2023-10-15 18:38:29,051] Trial 439 finished with value: 0.6477752976221347 and parameters: {'f0': 4.39, 'f1': 4.82, 'f2': 2.83}. Best is trial 397 with value: 0.6476332058442181.\n",
      "[I 2023-10-15 18:38:29,085] Trial 440 finished with value: 0.6480036233453694 and parameters: {'f0': 4.22, 'f1': 5.0, 'f2': 2.71}. Best is trial 397 with value: 0.6476332058442181.\n",
      "[I 2023-10-15 18:38:29,119] Trial 441 finished with value: 0.7206163490086513 and parameters: {'f0': 4.58, 'f1': 0.9500000000000001, 'f2': 2.89}. Best is trial 397 with value: 0.6476332058442181.\n",
      "[I 2023-10-15 18:38:29,152] Trial 442 finished with value: 0.6577825332537252 and parameters: {'f0': 4.49, 'f1': 2.75, 'f2': 2.57}. Best is trial 397 with value: 0.6476332058442181.\n",
      "[I 2023-10-15 18:38:29,186] Trial 443 finished with value: 0.6478942284376105 and parameters: {'f0': 4.66, 'f1': 4.61, 'f2': 2.77}. Best is trial 397 with value: 0.6476332058442181.\n",
      "[I 2023-10-15 18:38:29,220] Trial 444 finished with value: 0.6588202677791887 and parameters: {'f0': 4.3100000000000005, 'f1': 2.56, 'f2': 2.44}. Best is trial 397 with value: 0.6476332058442181.\n",
      "[I 2023-10-15 18:38:29,253] Trial 445 finished with value: 0.6476396345457077 and parameters: {'f0': 4.44, 'f1': 4.74, 'f2': 2.66}. Best is trial 397 with value: 0.6476332058442181.\n",
      "[I 2023-10-15 18:38:29,286] Trial 446 finished with value: 0.6480656902860001 and parameters: {'f0': 4.55, 'f1': 4.72, 'f2': 3.02}. Best is trial 397 with value: 0.6476332058442181.\n",
      "[I 2023-10-15 18:38:29,320] Trial 447 finished with value: 0.6477480202086598 and parameters: {'f0': 4.39, 'f1': 4.51, 'f2': 2.71}. Best is trial 397 with value: 0.6476332058442181.\n",
      "[I 2023-10-15 18:38:29,356] Trial 448 finished with value: 0.6476713696336576 and parameters: {'f0': 4.78, 'f1': 5.0, 'f2': 2.91}. Best is trial 397 with value: 0.6476332058442181.\n",
      "[I 2023-10-15 18:38:29,392] Trial 449 finished with value: 0.6481822020400205 and parameters: {'f0': 4.16, 'f1': 4.8500000000000005, 'f2': 2.81}. Best is trial 397 with value: 0.6476332058442181.\n",
      "[I 2023-10-15 18:38:29,427] Trial 450 finished with value: 0.6479949122294747 and parameters: {'f0': 4.63, 'f1': 4.67, 'f2': 2.57}. Best is trial 397 with value: 0.6476332058442181.\n",
      "[I 2023-10-15 18:38:29,462] Trial 451 finished with value: 1.0997509865895616 and parameters: {'f0': 4.48, 'f1': 0.02, 'f2': 2.3000000000000003}. Best is trial 397 with value: 0.6476332058442181.\n",
      "[I 2023-10-15 18:38:29,497] Trial 452 finished with value: 0.6477488547815208 and parameters: {'f0': 4.3, 'f1': 4.91, 'f2': 2.66}. Best is trial 397 with value: 0.6476332058442181.\n",
      "[I 2023-10-15 18:38:29,531] Trial 453 finished with value: 0.6476944717973876 and parameters: {'f0': 4.53, 'f1': 4.75, 'f2': 2.81}. Best is trial 397 with value: 0.6476332058442181.\n",
      "[I 2023-10-15 18:38:29,566] Trial 454 finished with value: 0.6477580383976911 and parameters: {'f0': 4.68, 'f1': 4.83, 'f2': 2.92}. Best is trial 397 with value: 0.6476332058442181.\n",
      "[I 2023-10-15 18:38:29,600] Trial 455 finished with value: 0.6484933437793636 and parameters: {'f0': 4.37, 'f1': 4.92, 'f2': 3.08}. Best is trial 397 with value: 0.6476332058442181.\n",
      "[I 2023-10-15 18:38:29,635] Trial 456 finished with value: 0.6477115835560114 and parameters: {'f0': 4.45, 'f1': 4.59, 'f2': 2.71}. Best is trial 397 with value: 0.6476332058442181.\n",
      "[I 2023-10-15 18:38:29,670] Trial 457 finished with value: 0.6490557882149315 and parameters: {'f0': 4.7700000000000005, 'f1': 4.75, 'f2': 3.39}. Best is trial 397 with value: 0.6476332058442181.\n",
      "[I 2023-10-15 18:38:29,705] Trial 458 finished with value: 0.6479464666819841 and parameters: {'f0': 4.61, 'f1': 5.0, 'f2': 2.5500000000000003}. Best is trial 397 with value: 0.6476332058442181.\n",
      "[I 2023-10-15 18:38:29,739] Trial 459 finished with value: 0.6479561562319264 and parameters: {'f0': 4.22, 'f1': 4.86, 'f2': 2.77}. Best is trial 397 with value: 0.6476332058442181.\n",
      "[I 2023-10-15 18:38:29,775] Trial 460 finished with value: 0.6477385512401936 and parameters: {'f0': 4.53, 'f1': 4.67, 'f2': 2.64}. Best is trial 397 with value: 0.6476332058442181.\n",
      "[I 2023-10-15 18:38:29,810] Trial 461 finished with value: 0.6480120447338892 and parameters: {'f0': 4.93, 'f1': 4.8, 'f2': 2.87}. Best is trial 397 with value: 0.6476332058442181.\n",
      "[I 2023-10-15 18:38:29,845] Trial 462 finished with value: 0.6480329991945436 and parameters: {'f0': 4.42, 'f1': 4.88, 'f2': 2.43}. Best is trial 397 with value: 0.6476332058442181.\n",
      "[I 2023-10-15 18:38:29,881] Trial 463 finished with value: 0.6478627251533857 and parameters: {'f0': 4.69, 'f1': 4.7, 'f2': 2.71}. Best is trial 397 with value: 0.6476332058442181.\n",
      "[I 2023-10-15 18:38:29,915] Trial 464 finished with value: 0.6478344428123928 and parameters: {'f0': 4.58, 'f1': 4.92, 'f2': 2.98}. Best is trial 397 with value: 0.6476332058442181.\n",
      "[I 2023-10-15 18:38:29,950] Trial 465 finished with value: 0.6476410429689349 and parameters: {'f0': 4.3, 'f1': 4.57, 'f2': 2.59}. Best is trial 397 with value: 0.6476332058442181.\n",
      "[I 2023-10-15 18:38:29,986] Trial 466 finished with value: 0.6478340567058577 and parameters: {'f0': 4.26, 'f1': 4.26, 'f2': 2.5500000000000003}. Best is trial 397 with value: 0.6476332058442181.\n",
      "[I 2023-10-15 18:38:30,022] Trial 467 finished with value: 0.6476419692170973 and parameters: {'f0': 4.13, 'f1': 4.51, 'f2': 2.48}. Best is trial 397 with value: 0.6476332058442181.\n",
      "[I 2023-10-15 18:38:30,057] Trial 468 finished with value: 0.6479358014724637 and parameters: {'f0': 4.36, 'f1': 4.44, 'f2': 2.8000000000000003}. Best is trial 397 with value: 0.6476332058442181.\n",
      "[I 2023-10-15 18:38:30,093] Trial 469 finished with value: 0.6481679130009197 and parameters: {'f0': 3.93, 'f1': 4.58, 'f2': 2.65}. Best is trial 397 with value: 0.6476332058442181.\n",
      "[I 2023-10-15 18:38:30,128] Trial 470 finished with value: 0.6480821764983667 and parameters: {'f0': 4.84, 'f1': 4.66, 'f2': 2.89}. Best is trial 397 with value: 0.6476332058442181.\n",
      "[I 2023-10-15 18:38:30,163] Trial 471 finished with value: 0.6476679608927842 and parameters: {'f0': 4.49, 'f1': 5.0, 'f2': 2.75}. Best is trial 397 with value: 0.6476332058442181.\n",
      "[I 2023-10-15 18:38:30,199] Trial 472 finished with value: 0.647936091773249 and parameters: {'f0': 4.65, 'f1': 4.75, 'f2': 2.59}. Best is trial 397 with value: 0.6476332058442181.\n",
      "[I 2023-10-15 18:38:30,234] Trial 473 finished with value: 0.6478684082423393 and parameters: {'f0': 4.3100000000000005, 'f1': 4.83, 'f2': 2.82}. Best is trial 397 with value: 0.6476332058442181.\n",
      "[I 2023-10-15 18:38:30,270] Trial 474 finished with value: 0.6481356683527526 and parameters: {'f0': 4.74, 'f1': 4.59, 'f2': 2.67}. Best is trial 397 with value: 0.6476332058442181.\n",
      "[I 2023-10-15 18:38:30,305] Trial 475 finished with value: 0.6479392420016218 and parameters: {'f0': 4.5600000000000005, 'f1': 4.92, 'f2': 3.02}. Best is trial 397 with value: 0.6476332058442181.\n",
      "[I 2023-10-15 18:38:30,341] Trial 476 finished with value: 0.6478707991126791 and parameters: {'f0': 4.44, 'f1': 4.76, 'f2': 2.48}. Best is trial 397 with value: 0.6476332058442181.\n",
      "[I 2023-10-15 18:38:30,376] Trial 477 finished with value: 0.6499562355613059 and parameters: {'f0': 4.03, 'f1': 3.34, 'f2': 2.33}. Best is trial 397 with value: 0.6476332058442181.\n",
      "[I 2023-10-15 18:38:30,411] Trial 478 finished with value: 0.6476671453087888 and parameters: {'f0': 4.49, 'f1': 5.0, 'f2': 2.74}. Best is trial 397 with value: 0.6476332058442181.\n",
      "[I 2023-10-15 18:38:30,445] Trial 479 finished with value: 0.6483894116316059 and parameters: {'f0': 4.2, 'f1': 4.84, 'f2': 2.92}. Best is trial 397 with value: 0.6476332058442181.\n",
      "[I 2023-10-15 18:38:30,481] Trial 480 finished with value: 0.647857173133134 and parameters: {'f0': 4.61, 'f1': 4.71, 'f2': 2.61}. Best is trial 397 with value: 0.6476332058442181.\n",
      "[I 2023-10-15 18:38:30,516] Trial 481 finished with value: 0.6478085942682934 and parameters: {'f0': 4.4, 'f1': 4.9, 'f2': 2.85}. Best is trial 397 with value: 0.6476332058442181.\n",
      "[I 2023-10-15 18:38:30,550] Trial 482 finished with value: 0.6480066459389224 and parameters: {'f0': 4.74, 'f1': 4.64, 'f2': 2.72}. Best is trial 397 with value: 0.6476332058442181.\n",
      "[I 2023-10-15 18:38:30,586] Trial 483 finished with value: 0.647683666206753 and parameters: {'f0': 4.3, 'f1': 4.78, 'f2': 2.56}. Best is trial 397 with value: 0.6476332058442181.\n",
      "[I 2023-10-15 18:38:30,622] Trial 484 finished with value: 0.6476359080385043 and parameters: {'f0': 4.53, 'f1': 4.91, 'f2': 2.77}. Best is trial 397 with value: 0.6476332058442181.\n",
      "[I 2023-10-15 18:38:30,656] Trial 485 finished with value: 0.6476521998455208 and parameters: {'f0': 4.38, 'f1': 4.84, 'f2': 2.67}. Best is trial 397 with value: 0.6476332058442181.\n",
      "[I 2023-10-15 18:38:30,692] Trial 486 finished with value: 0.6562686354222678 and parameters: {'f0': 4.51, 'f1': 2.89, 'f2': 2.43}. Best is trial 397 with value: 0.6476332058442181.\n",
      "[I 2023-10-15 18:38:30,729] Trial 487 finished with value: 0.6638207292355438 and parameters: {'f0': 2.68, 'f1': 4.5200000000000005, 'f2': 2.8000000000000003}. Best is trial 397 with value: 0.6476332058442181.\n",
      "[I 2023-10-15 18:38:30,765] Trial 488 finished with value: 0.6478812140038629 and parameters: {'f0': 4.63, 'f1': 4.92, 'f2': 2.58}. Best is trial 397 with value: 0.6476332058442181.\n",
      "[I 2023-10-15 18:38:30,801] Trial 489 finished with value: 0.6479354334512565 and parameters: {'f0': 4.46, 'f1': 4.7, 'f2': 2.93}. Best is trial 397 with value: 0.6476332058442181.\n",
      "[I 2023-10-15 18:38:30,836] Trial 490 finished with value: 0.647972377336947 and parameters: {'f0': 4.24, 'f1': 5.0, 'f2': 2.72}. Best is trial 397 with value: 0.6476332058442181.\n",
      "[I 2023-10-15 18:38:30,873] Trial 491 finished with value: 0.6480850731312293 and parameters: {'f0': 4.5600000000000005, 'f1': 4.82, 'f2': 3.06}. Best is trial 397 with value: 0.6476332058442181.\n",
      "[I 2023-10-15 18:38:30,909] Trial 492 finished with value: 0.6477799523711755 and parameters: {'f0': 4.37, 'f1': 4.76, 'f2': 2.82}. Best is trial 397 with value: 0.6476332058442181.\n",
      "[I 2023-10-15 18:38:30,946] Trial 493 finished with value: 0.6484049205926304 and parameters: {'f0': 4.7, 'f1': 4.39, 'f2': 2.66}. Best is trial 397 with value: 0.6476332058442181.\n",
      "[I 2023-10-15 18:38:30,981] Trial 494 finished with value: 0.6488685187889658 and parameters: {'f0': 4.8500000000000005, 'f1': 4.61, 'f2': 2.5}. Best is trial 397 with value: 0.6476332058442181.\n",
      "[I 2023-10-15 18:38:31,017] Trial 495 finished with value: 0.6476395774122431 and parameters: {'f0': 4.5, 'f1': 4.9, 'f2': 2.7600000000000002}. Best is trial 397 with value: 0.6476332058442181.\n",
      "[I 2023-10-15 18:38:31,053] Trial 496 finished with value: 0.6477862217911097 and parameters: {'f0': 4.5600000000000005, 'f1': 4.9, 'f2': 2.94}. Best is trial 397 with value: 0.6476332058442181.\n",
      "[I 2023-10-15 18:38:31,088] Trial 497 finished with value: 0.6477315492325753 and parameters: {'f0': 4.47, 'f1': 4.92, 'f2': 2.85}. Best is trial 397 with value: 0.6476332058442181.\n",
      "[I 2023-10-15 18:38:31,125] Trial 498 finished with value: 0.6476617985987793 and parameters: {'f0': 4.66, 'f1': 4.92, 'f2': 2.7600000000000002}. Best is trial 397 with value: 0.6476332058442181.\n",
      "[I 2023-10-15 18:38:31,162] Trial 499 finished with value: 0.6784213977143689 and parameters: {'f0': 2.42, 'f1': 5.0, 'f2': 2.98}. Best is trial 397 with value: 0.6476332058442181.\n",
      "[I 2023-10-15 18:38:31,198] Trial 500 finished with value: 0.6477895235481476 and parameters: {'f0': 4.75, 'f1': 4.82, 'f2': 2.77}. Best is trial 397 with value: 0.6476332058442181.\n",
      "[I 2023-10-15 18:38:31,234] Trial 501 finished with value: 0.691900464958817 and parameters: {'f0': 4.5600000000000005, 'f1': 5.0, 'f2': 0.8300000000000001}. Best is trial 397 with value: 0.6476332058442181.\n",
      "[I 2023-10-15 18:38:31,270] Trial 502 finished with value: 0.6477957083959819 and parameters: {'f0': 4.45, 'f1': 4.83, 'f2': 2.88}. Best is trial 397 with value: 0.6476332058442181.\n",
      "[I 2023-10-15 18:38:31,307] Trial 503 finished with value: 0.6484119523302913 and parameters: {'f0': 4.63, 'f1': 4.74, 'f2': 3.17}. Best is trial 397 with value: 0.6476332058442181.\n",
      "[I 2023-10-15 18:38:31,344] Trial 504 finished with value: 0.6476400870995541 and parameters: {'f0': 4.5, 'f1': 4.9, 'f2': 2.7}. Best is trial 397 with value: 0.6476332058442181.\n",
      "[I 2023-10-15 18:38:31,381] Trial 505 finished with value: 0.6476400259164485 and parameters: {'f0': 4.42, 'f1': 4.84, 'f2': 2.68}. Best is trial 397 with value: 0.6476332058442181.\n",
      "[I 2023-10-15 18:38:31,418] Trial 506 finished with value: 0.6476778200261901 and parameters: {'f0': 4.39, 'f1': 4.91, 'f2': 2.67}. Best is trial 397 with value: 0.6476332058442181.\n",
      "[I 2023-10-15 18:38:31,454] Trial 507 finished with value: 0.6476957554882664 and parameters: {'f0': 4.51, 'f1': 4.84, 'f2': 2.62}. Best is trial 397 with value: 0.6476332058442181.\n",
      "[I 2023-10-15 18:38:31,492] Trial 508 finished with value: 0.6634721697447173 and parameters: {'f0': 3.0300000000000002, 'f1': 2.1, 'f2': 2.75}. Best is trial 397 with value: 0.6476332058442181.\n",
      "[I 2023-10-15 18:38:31,531] Trial 509 finished with value: 0.7746022565429019 and parameters: {'f0': 4.3500000000000005, 'f1': 5.0, 'f2': 0.3}. Best is trial 397 with value: 0.6476332058442181.\n",
      "[I 2023-10-15 18:38:31,568] Trial 510 finished with value: 0.6478503723700145 and parameters: {'f0': 4.51, 'f1': 4.86, 'f2': 2.5300000000000002}. Best is trial 397 with value: 0.6476332058442181.\n",
      "[I 2023-10-15 18:38:31,605] Trial 511 finished with value: 0.6477909705584887 and parameters: {'f0': 4.41, 'f1': 4.7700000000000005, 'f2': 2.85}. Best is trial 397 with value: 0.6476332058442181.\n",
      "[I 2023-10-15 18:38:31,641] Trial 512 finished with value: 0.6477162754375444 and parameters: {'f0': 4.64, 'f1': 4.92, 'f2': 2.68}. Best is trial 397 with value: 0.6476332058442181.\n",
      "[I 2023-10-15 18:38:31,677] Trial 513 finished with value: 0.6631745951512618 and parameters: {'f0': 4.53, 'f1': 4.83, 'f2': 5.0}. Best is trial 397 with value: 0.6476332058442181.\n",
      "[I 2023-10-15 18:38:31,714] Trial 514 finished with value: 0.6478892928674141 and parameters: {'f0': 4.3, 'f1': 5.0, 'f2': 2.75}. Best is trial 397 with value: 0.6476332058442181.\n",
      "[I 2023-10-15 18:38:31,751] Trial 515 finished with value: 0.6481793088575173 and parameters: {'f0': 4.78, 'f1': 4.7, 'f2': 2.62}. Best is trial 397 with value: 0.6476332058442181.\n",
      "[I 2023-10-15 18:38:31,789] Trial 516 finished with value: 0.6478128708237726 and parameters: {'f0': 4.45, 'f1': 4.91, 'f2': 2.89}. Best is trial 397 with value: 0.6476332058442181.\n",
      "[I 2023-10-15 18:38:31,826] Trial 517 finished with value: 0.6483150399919375 and parameters: {'f0': 4.59, 'f1': 4.78, 'f2': 2.42}. Best is trial 397 with value: 0.6476332058442181.\n",
      "[I 2023-10-15 18:38:31,863] Trial 518 finished with value: 0.6481420241824797 and parameters: {'f0': 4.17, 'f1': 4.89, 'f2': 2.79}. Best is trial 397 with value: 0.6476332058442181.\n",
      "[I 2023-10-15 18:38:31,900] Trial 519 finished with value: 0.648017149217352 and parameters: {'f0': 4.69, 'f1': 4.69, 'f2': 3.0}. Best is trial 397 with value: 0.6476332058442181.\n",
      "[I 2023-10-15 18:38:31,938] Trial 520 finished with value: 0.6478919681240812 and parameters: {'f0': 4.4, 'f1': 5.0, 'f2': 2.52}. Best is trial 397 with value: 0.6476332058442181.\n",
      "[I 2023-10-15 18:38:31,976] Trial 521 finished with value: 0.6476572768252551 and parameters: {'f0': 4.54, 'f1': 4.8100000000000005, 'f2': 2.69}. Best is trial 397 with value: 0.6476332058442181.\n",
      "[I 2023-10-15 18:38:32,014] Trial 522 finished with value: 0.6480490946717683 and parameters: {'f0': 4.2700000000000005, 'f1': 4.91, 'f2': 2.85}. Best is trial 397 with value: 0.6476332058442181.\n",
      "[I 2023-10-15 18:38:32,052] Trial 523 finished with value: 0.6501726657750304 and parameters: {'f0': 4.47, 'f1': 3.66, 'f2': 2.6}. Best is trial 397 with value: 0.6476332058442181.\n",
      "[I 2023-10-15 18:38:32,090] Trial 524 finished with value: 0.6477342778446266 and parameters: {'f0': 4.62, 'f1': 4.76, 'f2': 2.7}. Best is trial 397 with value: 0.6476332058442181.\n",
      "[I 2023-10-15 18:38:32,128] Trial 525 finished with value: 0.6480801860870468 and parameters: {'f0': 4.84, 'f1': 4.67, 'f2': 2.93}. Best is trial 397 with value: 0.6476332058442181.\n",
      "[I 2023-10-15 18:38:32,164] Trial 526 finished with value: 0.6477558584043707 and parameters: {'f0': 4.36, 'f1': 4.8500000000000005, 'f2': 2.79}. Best is trial 397 with value: 0.6476332058442181.\n",
      "[I 2023-10-15 18:38:32,203] Trial 527 finished with value: 0.6481281060525503 and parameters: {'f0': 4.7, 'f1': 4.92, 'f2': 2.5300000000000002}. Best is trial 397 with value: 0.6476332058442181.\n",
      "[I 2023-10-15 18:38:32,240] Trial 528 finished with value: 0.6476647673050223 and parameters: {'f0': 4.51, 'f1': 5.0, 'f2': 2.71}. Best is trial 397 with value: 0.6476332058442181.\n",
      "[I 2023-10-15 18:38:32,279] Trial 529 finished with value: 0.6482403489337367 and parameters: {'f0': 4.43, 'f1': 4.7700000000000005, 'f2': 3.04}. Best is trial 397 with value: 0.6476332058442181.\n",
      "[I 2023-10-15 18:38:32,316] Trial 530 finished with value: 0.6478861445790437 and parameters: {'f0': 4.61, 'f1': 4.65, 'f2': 2.62}. Best is trial 397 with value: 0.6476332058442181.\n",
      "[I 2023-10-15 18:38:32,354] Trial 531 finished with value: 0.6479042865905343 and parameters: {'f0': 4.33, 'f1': 4.86, 'f2': 2.85}. Best is trial 397 with value: 0.6476332058442181.\n",
      "[I 2023-10-15 18:38:32,393] Trial 532 finished with value: 0.6478049384969545 and parameters: {'f0': 4.73, 'f1': 4.78, 'f2': 2.7600000000000002}. Best is trial 397 with value: 0.6476332058442181.\n",
      "[I 2023-10-15 18:38:32,431] Trial 533 finished with value: 0.6489573883700519 and parameters: {'f0': 4.93, 'f1': 4.91, 'f2': 2.47}. Best is trial 397 with value: 0.6476332058442181.\n",
      "[I 2023-10-15 18:38:32,469] Trial 534 finished with value: 0.6539995858701627 and parameters: {'f0': 4.55, 'f1': 5.0, 'f2': 4.1}. Best is trial 397 with value: 0.6476332058442181.\n",
      "[I 2023-10-15 18:38:32,507] Trial 535 finished with value: 0.6484691366027201 and parameters: {'f0': 4.18, 'f1': 4.7, 'f2': 2.94}. Best is trial 397 with value: 0.6476332058442181.\n",
      "[I 2023-10-15 18:38:32,546] Trial 536 finished with value: 0.6476614666612912 and parameters: {'f0': 4.46, 'f1': 4.83, 'f2': 2.63}. Best is trial 397 with value: 0.6476332058442181.\n",
      "[I 2023-10-15 18:38:32,583] Trial 537 finished with value: 0.6476452875713395 and parameters: {'f0': 4.62, 'f1': 4.9, 'f2': 2.81}. Best is trial 397 with value: 0.6476332058442181.\n",
      "[I 2023-10-15 18:38:32,621] Trial 538 finished with value: 0.8991282560825115 and parameters: {'f0': 0.68, 'f1': 4.75, 'f2': 2.34}. Best is trial 397 with value: 0.6476332058442181.\n",
      "[I 2023-10-15 18:38:32,659] Trial 539 finished with value: 0.6477505436519728 and parameters: {'f0': 4.2700000000000005, 'f1': 4.84, 'f2': 2.69}. Best is trial 397 with value: 0.6476332058442181.\n",
      "[I 2023-10-15 18:38:32,698] Trial 540 finished with value: 0.647693074719171 and parameters: {'f0': 4.38, 'f1': 4.6000000000000005, 'f2': 2.56}. Best is trial 397 with value: 0.6476332058442181.\n",
      "[I 2023-10-15 18:38:32,736] Trial 541 finished with value: 0.6476957653114276 and parameters: {'f0': 4.53, 'f1': 4.91, 'f2': 2.86}. Best is trial 397 with value: 0.6476332058442181.\n",
      "[I 2023-10-15 18:38:32,774] Trial 542 finished with value: 0.6482497573716376 and parameters: {'f0': 4.78, 'f1': 4.68, 'f2': 3.1}. Best is trial 397 with value: 0.6476332058442181.\n",
      "[I 2023-10-15 18:38:32,812] Trial 543 finished with value: 0.6756168554202104 and parameters: {'f0': 4.67, 'f1': 1.9100000000000001, 'f2': 2.74}. Best is trial 397 with value: 0.6476332058442181.\n",
      "[I 2023-10-15 18:38:32,851] Trial 544 finished with value: 0.6477019584966078 and parameters: {'f0': 4.44, 'f1': 5.0, 'f2': 2.68}. Best is trial 397 with value: 0.6476332058442181.\n",
      "[I 2023-10-15 18:38:32,890] Trial 545 finished with value: 0.6550661753759144 and parameters: {'f0': 4.5600000000000005, 'f1': 3.13, 'f2': 2.96}. Best is trial 397 with value: 0.6476332058442181.\n",
      "[I 2023-10-15 18:38:32,928] Trial 546 finished with value: 0.6595605526765416 and parameters: {'f0': 4.0600000000000005, 'f1': 4.8, 'f2': 4.23}. Best is trial 397 with value: 0.6476332058442181.\n",
      "[I 2023-10-15 18:38:32,966] Trial 547 finished with value: 0.6478211248722143 and parameters: {'f0': 4.34, 'f1': 4.91, 'f2': 2.8000000000000003}. Best is trial 397 with value: 0.6476332058442181.\n",
      "[I 2023-10-15 18:38:33,005] Trial 548 finished with value: 0.6477343377945743 and parameters: {'f0': 4.49, 'f1': 4.76, 'f2': 2.58}. Best is trial 397 with value: 0.6476332058442181.\n",
      "[I 2023-10-15 18:38:33,044] Trial 549 finished with value: 0.6487331399109535 and parameters: {'f0': 4.69, 'f1': 4.49, 'f2': 2.44}. Best is trial 397 with value: 0.6476332058442181.\n",
      "[I 2023-10-15 18:38:33,082] Trial 550 finished with value: 0.6481225080027375 and parameters: {'f0': 4.24, 'f1': 4.64, 'f2': 2.88}. Best is trial 397 with value: 0.6476332058442181.\n",
      "[I 2023-10-15 18:38:33,119] Trial 551 finished with value: 0.6476702066120553 and parameters: {'f0': 4.61, 'f1': 4.84, 'f2': 2.73}. Best is trial 397 with value: 0.6476332058442181.\n",
      "[I 2023-10-15 18:38:33,156] Trial 552 finished with value: 0.6490443616087695 and parameters: {'f0': 4.41, 'f1': 5.0, 'f2': 2.23}. Best is trial 397 with value: 0.6476332058442181.\n",
      "[I 2023-10-15 18:38:33,195] Trial 553 finished with value: 0.7531503562906 and parameters: {'f0': 4.51, 'f1': 0.72, 'f2': 3.93}. Best is trial 397 with value: 0.6476332058442181.\n",
      "[I 2023-10-15 18:38:33,234] Trial 554 finished with value: 0.7004377853639798 and parameters: {'f0': 4.82, 'f1': 1.36, 'f2': 3.2800000000000002}. Best is trial 397 with value: 0.6476332058442181.\n",
      "[I 2023-10-15 18:38:33,272] Trial 555 finished with value: 0.7121306942809399 and parameters: {'f0': 1.69, 'f1': 4.91, 'f2': 2.62}. Best is trial 397 with value: 0.6476332058442181.\n",
      "[I 2023-10-15 18:38:33,312] Trial 556 finished with value: 0.7354408206690571 and parameters: {'f0': 1.48, 'f1': 4.73, 'f2': 2.8000000000000003}. Best is trial 397 with value: 0.6476332058442181.\n",
      "[I 2023-10-15 18:38:33,351] Trial 557 finished with value: 0.6677952236136135 and parameters: {'f0': 4.59, 'f1': 4.83, 'f2': 1.26}. Best is trial 397 with value: 0.6476332058442181.\n",
      "[I 2023-10-15 18:38:33,389] Trial 558 finished with value: 0.6528347530372537 and parameters: {'f0': 3.14, 'f1': 4.5600000000000005, 'f2': 2.52}. Best is trial 397 with value: 0.6476332058442181.\n",
      "[I 2023-10-15 18:38:33,428] Trial 559 finished with value: 0.6483572267965787 and parameters: {'f0': 4.33, 'f1': 4.92, 'f2': 3.0100000000000002}. Best is trial 397 with value: 0.6476332058442181.\n",
      "[I 2023-10-15 18:38:33,467] Trial 560 finished with value: 0.6526525477119708 and parameters: {'f0': 4.72, 'f1': 3.44, 'f2': 2.71}. Best is trial 397 with value: 0.6476332058442181.\n",
      "[I 2023-10-15 18:38:33,507] Trial 561 finished with value: 0.6478729221095186 and parameters: {'f0': 4.43, 'f1': 4.75, 'f2': 2.9}. Best is trial 397 with value: 0.6476332058442181.\n",
      "[I 2023-10-15 18:38:33,547] Trial 562 finished with value: 0.6477255907897848 and parameters: {'f0': 4.55, 'f1': 5.0, 'f2': 2.64}. Best is trial 397 with value: 0.6476332058442181.\n",
      "[I 2023-10-15 18:38:33,585] Trial 563 finished with value: 0.6476900188215033 and parameters: {'f0': 4.66, 'f1': 4.83, 'f2': 2.79}. Best is trial 397 with value: 0.6476332058442181.\n",
      "[I 2023-10-15 18:38:33,624] Trial 564 finished with value: 0.64782100689909 and parameters: {'f0': 4.46, 'f1': 4.65, 'f2': 2.52}. Best is trial 397 with value: 0.6476332058442181.\n",
      "[I 2023-10-15 18:38:33,664] Trial 565 finished with value: 0.6527525921706391 and parameters: {'f0': 4.24, 'f1': 4.91, 'f2': 3.69}. Best is trial 397 with value: 0.6476332058442181.\n",
      "[I 2023-10-15 18:38:33,704] Trial 566 finished with value: 0.6476408758905259 and parameters: {'f0': 4.3500000000000005, 'f1': 4.76, 'f2': 2.66}. Best is trial 397 with value: 0.6476332058442181.\n",
      "[I 2023-10-15 18:38:33,742] Trial 567 finished with value: 0.6527101247290465 and parameters: {'f0': 3.5, 'f1': 4.83, 'f2': 2.91}. Best is trial 397 with value: 0.6476332058442181.\n",
      "[I 2023-10-15 18:38:33,783] Trial 568 finished with value: 0.6477033586409454 and parameters: {'f0': 4.53, 'f1': 4.68, 'f2': 2.75}. Best is trial 397 with value: 0.6476332058442181.\n",
      "[I 2023-10-15 18:38:33,823] Trial 569 finished with value: 0.6479328680278313 and parameters: {'f0': 4.75, 'f1': 4.92, 'f2': 3.09}. Best is trial 397 with value: 0.6476332058442181.\n",
      "[I 2023-10-15 18:38:33,862] Trial 570 finished with value: 0.6484196247745536 and parameters: {'f0': 4.62, 'f1': 4.84, 'f2': 2.41}. Best is trial 397 with value: 0.6476332058442181.\n",
      "[I 2023-10-15 18:38:33,902] Trial 571 finished with value: 0.6482410054277493 and parameters: {'f0': 4.14, 'f1': 4.6000000000000005, 'f2': 2.85}. Best is trial 397 with value: 0.6476332058442181.\n",
      "[I 2023-10-15 18:38:33,943] Trial 572 finished with value: 0.6477049481843102 and parameters: {'f0': 4.41, 'f1': 4.92, 'f2': 2.61}. Best is trial 397 with value: 0.6476332058442181.\n",
      "[I 2023-10-15 18:38:33,983] Trial 573 finished with value: 0.647934983525738 and parameters: {'f0': 4.91, 'f1': 5.0, 'f2': 2.74}. Best is trial 397 with value: 0.6476332058442181.\n",
      "[I 2023-10-15 18:38:34,023] Trial 574 finished with value: 0.6594720320829283 and parameters: {'f0': 4.5, 'f1': 4.73, 'f2': 1.5}. Best is trial 397 with value: 0.6476332058442181.\n",
      "[I 2023-10-15 18:38:34,064] Trial 575 finished with value: 0.6483103743641732 and parameters: {'f0': 4.3, 'f1': 4.82, 'f2': 2.98}. Best is trial 397 with value: 0.6476332058442181.\n",
      "[I 2023-10-15 18:38:34,105] Trial 576 finished with value: 0.6479426774316301 and parameters: {'f0': 4.62, 'f1': 4.72, 'f2': 2.57}. Best is trial 397 with value: 0.6476332058442181.\n",
      "[I 2023-10-15 18:38:34,144] Trial 577 finished with value: 0.6477045064117243 and parameters: {'f0': 4.45, 'f1': 4.92, 'f2': 2.81}. Best is trial 397 with value: 0.6476332058442181.\n",
      "[I 2023-10-15 18:38:34,184] Trial 578 finished with value: 0.6477616822607793 and parameters: {'f0': 4.73, 'f1': 5.0, 'f2': 2.7}. Best is trial 397 with value: 0.6476332058442181.\n",
      "[I 2023-10-15 18:38:34,225] Trial 579 finished with value: 0.6480624623210578 and parameters: {'f0': 4.54, 'f1': 4.47, 'f2': 2.87}. Best is trial 397 with value: 0.6476332058442181.\n",
      "[I 2023-10-15 18:38:34,267] Trial 580 finished with value: 0.6476497511890945 and parameters: {'f0': 4.36, 'f1': 4.8100000000000005, 'f2': 2.66}. Best is trial 397 with value: 0.6476332058442181.\n",
      "[I 2023-10-15 18:38:34,307] Trial 581 finished with value: 0.6482469120338958 and parameters: {'f0': 3.83, 'f1': 4.64, 'f2': 2.52}. Best is trial 397 with value: 0.6476332058442181.\n",
      "[I 2023-10-15 18:38:34,348] Trial 582 finished with value: 0.6476702146722665 and parameters: {'f0': 4.65, 'f1': 4.86, 'f2': 2.7800000000000002}. Best is trial 397 with value: 0.6476332058442181.\n",
      "[I 2023-10-15 18:38:34,388] Trial 583 finished with value: 0.647924013752236 and parameters: {'f0': 4.8100000000000005, 'f1': 4.74, 'f2': 2.9}. Best is trial 397 with value: 0.6476332058442181.\n",
      "[I 2023-10-15 18:38:34,428] Trial 584 finished with value: 0.6477118852093093 and parameters: {'f0': 4.5, 'f1': 4.9, 'f2': 2.61}. Best is trial 397 with value: 0.6476332058442181.\n",
      "[I 2023-10-15 18:38:34,469] Trial 585 finished with value: 0.6478342462435854 and parameters: {'f0': 4.23, 'f1': 4.5600000000000005, 'f2': 2.38}. Best is trial 397 with value: 0.6476332058442181.\n",
      "[I 2023-10-15 18:38:34,510] Trial 586 finished with value: 0.6476462555536929 and parameters: {'f0': 4.42, 'f1': 4.79, 'f2': 2.73}. Best is trial 397 with value: 0.6476332058442181.\n",
      "[I 2023-10-15 18:38:34,549] Trial 587 finished with value: 0.6477457210424304 and parameters: {'f0': 4.68, 'f1': 4.92, 'f2': 2.96}. Best is trial 397 with value: 0.6476332058442181.\n",
      "[I 2023-10-15 18:38:34,590] Trial 588 finished with value: 0.6477524136816386 and parameters: {'f0': 4.57, 'f1': 4.68, 'f2': 2.81}. Best is trial 397 with value: 0.6476332058442181.\n",
      "[I 2023-10-15 18:38:34,632] Trial 589 finished with value: 0.6477817064402152 and parameters: {'f0': 4.3100000000000005, 'f1': 4.8100000000000005, 'f2': 2.49}. Best is trial 397 with value: 0.6476332058442181.\n",
      "[I 2023-10-15 18:38:34,672] Trial 590 finished with value: 0.6673166914969745 and parameters: {'f0': 4.57, 'f1': 2.21, 'f2': 2.66}. Best is trial 397 with value: 0.6476332058442181.\n",
      "[I 2023-10-15 18:38:34,712] Trial 591 finished with value: 0.6479750486484978 and parameters: {'f0': 4.41, 'f1': 4.34, 'f2': 2.72}. Best is trial 397 with value: 0.6476332058442181.\n",
      "[I 2023-10-15 18:38:34,753] Trial 592 finished with value: 0.6481417011757217 and parameters: {'f0': 4.48, 'f1': 5.0, 'f2': 3.0500000000000003}. Best is trial 397 with value: 0.6476332058442181.\n",
      "[I 2023-10-15 18:38:34,794] Trial 593 finished with value: 0.6482374834324702 and parameters: {'f0': 4.84, 'f1': 4.89, 'f2': 2.59}. Best is trial 397 with value: 0.6476332058442181.\n",
      "[I 2023-10-15 18:38:34,836] Trial 594 finished with value: 0.6851657993350216 and parameters: {'f0': 4.69, 'f1': 1.6300000000000001, 'f2': 2.86}. Best is trial 397 with value: 0.6476332058442181.\n",
      "[I 2023-10-15 18:38:34,876] Trial 595 finished with value: 0.6631602122898327 and parameters: {'f0': 4.57, 'f1': 2.45, 'f2': 2.77}. Best is trial 397 with value: 0.6476332058442181.\n",
      "[I 2023-10-15 18:38:34,917] Trial 596 finished with value: 0.6483685799919578 and parameters: {'f0': 4.99, 'f1': 4.75, 'f2': 3.17}. Best is trial 397 with value: 0.6476332058442181.\n",
      "[I 2023-10-15 18:38:34,959] Trial 597 finished with value: 0.6477471302199654 and parameters: {'f0': 4.38, 'f1': 5.0, 'f2': 2.66}. Best is trial 397 with value: 0.6476332058442181.\n",
      "[I 2023-10-15 18:38:35,000] Trial 598 finished with value: 0.818754664860182 and parameters: {'f0': 4.16, 'f1': 0.29, 'f2': 2.95}. Best is trial 397 with value: 0.6476332058442181.\n",
      "[I 2023-10-15 18:38:35,042] Trial 599 finished with value: 0.647908827063897 and parameters: {'f0': 4.5, 'f1': 4.8500000000000005, 'f2': 2.5}. Best is trial 397 with value: 0.6476332058442181.\n",
      "[I 2023-10-15 18:38:35,082] Trial 600 finished with value: 0.6479891907775168 and parameters: {'f0': 4.76, 'f1': 4.64, 'f2': 2.83}. Best is trial 397 with value: 0.6476332058442181.\n",
      "[I 2023-10-15 18:38:35,123] Trial 601 finished with value: 0.6480166479204406 and parameters: {'f0': 4.3, 'f1': 4.18, 'f2': 2.59}. Best is trial 397 with value: 0.6476332058442181.\n",
      "[I 2023-10-15 18:38:35,165] Trial 602 finished with value: 0.6476505869613454 and parameters: {'f0': 4.62, 'f1': 4.9, 'f2': 2.75}. Best is trial 397 with value: 0.6476332058442181.\n",
      "[I 2023-10-15 18:38:35,206] Trial 603 finished with value: 0.6478745817411665 and parameters: {'f0': 4.45, 'f1': 4.75, 'f2': 2.91}. Best is trial 397 with value: 0.6476332058442181.\n",
      "[I 2023-10-15 18:38:35,247] Trial 604 finished with value: 0.6479671632551811 and parameters: {'f0': 4.64, 'f1': 4.5600000000000005, 'f2': 2.68}. Best is trial 397 with value: 0.6476332058442181.\n",
      "[I 2023-10-15 18:38:35,288] Trial 605 finished with value: 0.6477461661505202 and parameters: {'f0': 4.39, 'f1': 4.83, 'f2': 2.81}. Best is trial 397 with value: 0.6476332058442181.\n",
      "[I 2023-10-15 18:38:35,329] Trial 606 finished with value: 0.6508391910977205 and parameters: {'f0': 3.34, 'f1': 4.69, 'f2': 2.43}. Best is trial 397 with value: 0.6476332058442181.\n",
      "[I 2023-10-15 18:38:35,371] Trial 607 finished with value: 1.579918676950893 and parameters: {'f0': 0.16, 'f1': 4.92, 'f2': 2.6}. Best is trial 397 with value: 0.6476332058442181.\n",
      "[I 2023-10-15 18:38:35,413] Trial 608 finished with value: 0.647952060602275 and parameters: {'f0': 4.53, 'f1': 4.8, 'f2': 2.99}. Best is trial 397 with value: 0.6476332058442181.\n",
      "[I 2023-10-15 18:38:35,454] Trial 609 finished with value: 0.6478777074237791 and parameters: {'f0': 4.29, 'f1': 5.0, 'f2': 2.72}. Best is trial 397 with value: 0.6476332058442181.\n",
      "[I 2023-10-15 18:38:35,495] Trial 610 finished with value: 0.6476859233786733 and parameters: {'f0': 4.74, 'f1': 4.92, 'f2': 2.84}. Best is trial 397 with value: 0.6476332058442181.\n",
      "[I 2023-10-15 18:38:35,537] Trial 611 finished with value: 0.647991766222164 and parameters: {'f0': 4.58, 'f1': 4.71, 'f2': 2.52}. Best is trial 397 with value: 0.6476332058442181.\n",
      "[I 2023-10-15 18:38:35,579] Trial 612 finished with value: 0.6476427381708509 and parameters: {'f0': 4.48, 'f1': 4.84, 'f2': 2.67}. Best is trial 397 with value: 0.6476332058442181.\n",
      "[I 2023-10-15 18:38:35,620] Trial 613 finished with value: 0.6483354296149829 and parameters: {'f0': 4.04, 'f1': 4.78, 'f2': 2.7600000000000002}. Best is trial 397 with value: 0.6476332058442181.\n",
      "[I 2023-10-15 18:38:35,662] Trial 614 finished with value: 0.6483938780789906 and parameters: {'f0': 4.21, 'f1': 5.0, 'f2': 2.89}. Best is trial 397 with value: 0.6476332058442181.\n",
      "[I 2023-10-15 18:38:35,704] Trial 615 finished with value: 0.6476689907551106 and parameters: {'f0': 4.38, 'f1': 4.63, 'f2': 2.58}. Best is trial 397 with value: 0.6476332058442181.\n",
      "[I 2023-10-15 18:38:35,746] Trial 616 finished with value: 0.6478907464215033 and parameters: {'f0': 4.67, 'f1': 4.9, 'f2': 3.04}. Best is trial 397 with value: 0.6476332058442181.\n",
      "[I 2023-10-15 18:38:35,787] Trial 617 finished with value: 0.647636931379312 and parameters: {'f0': 4.49, 'f1': 4.84, 'f2': 2.69}. Best is trial 397 with value: 0.6476332058442181.\n",
      "[I 2023-10-15 18:38:35,828] Trial 618 finished with value: 0.6496823170800398 and parameters: {'f0': 4.86, 'f1': 4.9, 'f2': 2.31}. Best is trial 397 with value: 0.6476332058442181.\n",
      "[I 2023-10-15 18:38:35,870] Trial 619 finished with value: 0.6476588817766205 and parameters: {'f0': 4.58, 'f1': 4.84, 'f2': 2.81}. Best is trial 397 with value: 0.6476332058442181.\n",
      "[I 2023-10-15 18:38:35,911] Trial 620 finished with value: 0.6506439805068198 and parameters: {'f0': 4.71, 'f1': 3.7600000000000002, 'f2': 2.67}. Best is trial 397 with value: 0.6476332058442181.\n",
      "[I 2023-10-15 18:38:35,954] Trial 621 finished with value: 0.6660344258350864 and parameters: {'f0': 2.5500000000000003, 'f1': 4.91, 'f2': 2.5}. Best is trial 397 with value: 0.6476332058442181.\n",
      "[I 2023-10-15 18:38:35,996] Trial 622 finished with value: 0.647871936770322 and parameters: {'f0': 4.49, 'f1': 4.7700000000000005, 'f2': 2.93}. Best is trial 397 with value: 0.6476332058442181.\n",
      "[I 2023-10-15 18:38:36,039] Trial 623 finished with value: 0.6476344786535386 and parameters: {'f0': 4.61, 'f1': 5.0, 'f2': 2.7800000000000002}. Best is trial 397 with value: 0.6476332058442181.\n",
      "[I 2023-10-15 18:38:36,081] Trial 624 finished with value: 0.6477431688927136 and parameters: {'f0': 4.83, 'f1': 4.93, 'f2': 2.87}. Best is trial 397 with value: 0.6476332058442181.\n",
      "[I 2023-10-15 18:38:36,123] Trial 625 finished with value: 0.6479471145033068 and parameters: {'f0': 4.69, 'f1': 5.0, 'f2': 3.1}. Best is trial 397 with value: 0.6476332058442181.\n",
      "[I 2023-10-15 18:38:36,163] Trial 626 finished with value: 0.6476355244432354 and parameters: {'f0': 4.63, 'f1': 5.0, 'f2': 2.7800000000000002}. Best is trial 397 with value: 0.6476332058442181.\n",
      "[I 2023-10-15 18:38:36,203] Trial 627 finished with value: 0.6476484704788553 and parameters: {'f0': 4.6000000000000005, 'f1': 4.86, 'f2': 2.77}. Best is trial 397 with value: 0.6476332058442181.\n",
      "[I 2023-10-15 18:38:36,245] Trial 628 finished with value: 0.676540780966398 and parameters: {'f0': 4.76, 'f1': 4.93, 'f2': 1.1}. Best is trial 397 with value: 0.6476332058442181.\n",
      "[I 2023-10-15 18:38:36,288] Trial 629 finished with value: 0.6598446569638647 and parameters: {'f0': 2.9, 'f1': 4.8500000000000005, 'f2': 2.72}. Best is trial 397 with value: 0.6476332058442181.\n",
      "[I 2023-10-15 18:38:36,330] Trial 630 finished with value: 0.6476361204472273 and parameters: {'f0': 4.6000000000000005, 'f1': 5.0, 'f2': 2.81}. Best is trial 397 with value: 0.6476332058442181.\n",
      "[I 2023-10-15 18:38:36,372] Trial 631 finished with value: 0.6476789362536959 and parameters: {'f0': 4.78, 'f1': 5.0, 'f2': 2.93}. Best is trial 397 with value: 0.6476332058442181.\n",
      "[I 2023-10-15 18:38:36,413] Trial 632 finished with value: 0.6478002529185795 and parameters: {'f0': 4.66, 'f1': 4.99, 'f2': 3.0100000000000002}. Best is trial 397 with value: 0.6476332058442181.\n",
      "[I 2023-10-15 18:38:36,455] Trial 633 finished with value: 0.6478151559924243 and parameters: {'f0': 4.91, 'f1': 5.0, 'f2': 2.82}. Best is trial 397 with value: 0.6476332058442181.\n",
      "[I 2023-10-15 18:38:36,496] Trial 634 finished with value: 0.6865061561248444 and parameters: {'f0': 2.19, 'f1': 5.0, 'f2': 2.87}. Best is trial 397 with value: 0.6476332058442181.\n",
      "[I 2023-10-15 18:38:36,539] Trial 635 finished with value: 1.2341200561068102 and parameters: {'f0': 4.6000000000000005, 'f1': 4.84, 'f2': 0.01}. Best is trial 397 with value: 0.6476332058442181.\n",
      "[I 2023-10-15 18:38:36,582] Trial 636 finished with value: 0.6477184144282767 and parameters: {'f0': 4.74, 'f1': 4.9, 'f2': 2.7800000000000002}. Best is trial 397 with value: 0.6476332058442181.\n",
      "[I 2023-10-15 18:38:36,623] Trial 637 finished with value: 0.647829018639904 and parameters: {'f0': 4.58, 'f1': 4.8100000000000005, 'f2': 2.95}. Best is trial 397 with value: 0.6476332058442181.\n",
      "[I 2023-10-15 18:38:36,667] Trial 638 finished with value: 0.6478136348426751 and parameters: {'f0': 4.66, 'f1': 4.92, 'f2': 2.63}. Best is trial 397 with value: 0.6476332058442181.\n",
      "[I 2023-10-15 18:38:36,710] Trial 639 finished with value: 0.6476507702902246 and parameters: {'f0': 4.53, 'f1': 4.8, 'f2': 2.77}. Best is trial 397 with value: 0.6476332058442181.\n",
      "[I 2023-10-15 18:38:36,752] Trial 640 finished with value: 0.6476840597863102 and parameters: {'f0': 4.79, 'f1': 5.0, 'f2': 2.83}. Best is trial 397 with value: 0.6476332058442181.\n",
      "[I 2023-10-15 18:38:36,796] Trial 641 finished with value: 0.6477245010994148 and parameters: {'f0': 4.5200000000000005, 'f1': 4.91, 'f2': 2.61}. Best is trial 397 with value: 0.6476332058442181.\n",
      "[I 2023-10-15 18:38:36,837] Trial 642 finished with value: 0.6477681925526231 and parameters: {'f0': 4.67, 'f1': 4.7700000000000005, 'f2': 2.72}. Best is trial 397 with value: 0.6476332058442181.\n",
      "[I 2023-10-15 18:38:36,880] Trial 643 finished with value: 0.6479945839658354 and parameters: {'f0': 4.45, 'f1': 5.0, 'f2': 2.97}. Best is trial 397 with value: 0.6476332058442181.\n",
      "[I 2023-10-15 18:38:36,923] Trial 644 finished with value: 0.8059011239560154 and parameters: {'f0': 1.07, 'f1': 4.86, 'f2': 2.85}. Best is trial 397 with value: 0.6476332058442181.\n",
      "[I 2023-10-15 18:38:36,966] Trial 645 finished with value: 0.647659483371292 and parameters: {'f0': 4.58, 'f1': 4.9, 'f2': 2.7}. Best is trial 397 with value: 0.6476332058442181.\n",
      "[I 2023-10-15 18:38:37,009] Trial 646 finished with value: 0.6480256026610614 and parameters: {'f0': 4.68, 'f1': 4.7700000000000005, 'f2': 2.57}. Best is trial 397 with value: 0.6476332058442181.\n",
      "[I 2023-10-15 18:38:37,052] Trial 647 finished with value: 0.6482069321908223 and parameters: {'f0': 4.45, 'f1': 5.0, 'f2': 3.0500000000000003}. Best is trial 397 with value: 0.6476332058442181.\n",
      "[I 2023-10-15 18:38:37,095] Trial 648 finished with value: 0.6476486997607759 and parameters: {'f0': 4.57, 'f1': 4.83, 'f2': 2.77}. Best is trial 397 with value: 0.6476332058442181.\n",
      "[I 2023-10-15 18:38:37,137] Trial 649 finished with value: 0.6479312849364667 and parameters: {'f0': 4.38, 'f1': 4.75, 'f2': 2.9}. Best is trial 397 with value: 0.6476332058442181.\n",
      "[I 2023-10-15 18:38:37,182] Trial 650 finished with value: 0.6479337367316524 and parameters: {'f0': 4.79, 'f1': 4.89, 'f2': 2.67}. Best is trial 397 with value: 0.6476332058442181.\n",
      "[I 2023-10-15 18:38:37,226] Trial 651 finished with value: 0.6479411430060125 and parameters: {'f0': 4.49, 'f1': 4.7, 'f2': 2.48}. Best is trial 397 with value: 0.6476332058442181.\n",
      "[I 2023-10-15 18:38:37,270] Trial 652 finished with value: 0.6580161558712292 and parameters: {'f0': 4.63, 'f1': 4.92, 'f2': 4.6000000000000005}. Best is trial 397 with value: 0.6476332058442181.\n",
      "[I 2023-10-15 18:38:37,313] Trial 653 finished with value: 0.6479253800677278 and parameters: {'f0': 4.8500000000000005, 'f1': 4.83, 'f2': 2.77}. Best is trial 397 with value: 0.6476332058442181.\n",
      "[I 2023-10-15 18:38:37,356] Trial 654 finished with value: 0.6477711873584148 and parameters: {'f0': 4.54, 'f1': 4.92, 'f2': 2.59}. Best is trial 397 with value: 0.6476332058442181.\n",
      "[I 2023-10-15 18:38:37,400] Trial 655 finished with value: 0.6476863086263749 and parameters: {'f0': 4.7, 'f1': 5.0, 'f2': 2.94}. Best is trial 397 with value: 0.6476332058442181.\n",
      "[I 2023-10-15 18:38:37,443] Trial 656 finished with value: 0.6477861592798553 and parameters: {'f0': 4.41, 'f1': 4.72, 'f2': 2.84}. Best is trial 397 with value: 0.6476332058442181.\n",
      "[I 2023-10-15 18:38:37,485] Trial 657 finished with value: 0.6476814365863519 and parameters: {'f0': 4.6000000000000005, 'f1': 4.84, 'f2': 2.7}. Best is trial 397 with value: 0.6476332058442181.\n",
      "[I 2023-10-15 18:38:37,528] Trial 658 finished with value: 0.6477224945762566 and parameters: {'f0': 4.46, 'f1': 4.78, 'f2': 2.57}. Best is trial 397 with value: 0.6476332058442181.\n",
      "[I 2023-10-15 18:38:37,572] Trial 659 finished with value: 0.7007735028782663 and parameters: {'f0': 4.3500000000000005, 'f1': 1.2, 'f2': 2.81}. Best is trial 397 with value: 0.6476332058442181.\n",
      "[I 2023-10-15 18:38:37,616] Trial 660 finished with value: 0.6484946981541717 and parameters: {'f0': 4.55, 'f1': 4.66, 'f2': 3.14}. Best is trial 397 with value: 0.6476332058442181.\n",
      "[I 2023-10-15 18:38:37,660] Trial 661 finished with value: 0.6478612687624685 and parameters: {'f0': 4.74, 'f1': 4.92, 'f2': 2.66}. Best is trial 397 with value: 0.6476332058442181.\n",
      "[I 2023-10-15 18:38:37,704] Trial 662 finished with value: 0.6477886209719494 and parameters: {'f0': 4.65, 'f1': 5.0, 'f2': 3.0}. Best is trial 397 with value: 0.6476332058442181.\n",
      "[I 2023-10-15 18:38:37,748] Trial 663 finished with value: 0.64818756620224 and parameters: {'f0': 4.48, 'f1': 4.83, 'f2': 2.4}. Best is trial 397 with value: 0.6476332058442181.\n",
      "[I 2023-10-15 18:38:37,793] Trial 664 finished with value: 0.6610882628550411 and parameters: {'f0': 4.57, 'f1': 4.74, 'f2': 4.82}. Best is trial 397 with value: 0.6476332058442181.\n",
      "[I 2023-10-15 18:38:37,838] Trial 665 finished with value: 0.650268371992078 and parameters: {'f0': 3.68, 'f1': 4.89, 'f2': 2.74}. Best is trial 397 with value: 0.6476332058442181.\n",
      "[I 2023-10-15 18:38:37,882] Trial 666 finished with value: 0.6479514449522202 and parameters: {'f0': 4.91, 'f1': 4.83, 'f2': 2.85}. Best is trial 397 with value: 0.6476332058442181.\n",
      "[I 2023-10-15 18:38:37,925] Trial 667 finished with value: 0.6477200013438917 and parameters: {'f0': 4.39, 'f1': 4.61, 'f2': 2.54}. Best is trial 397 with value: 0.6476332058442181.\n",
      "[I 2023-10-15 18:38:37,969] Trial 668 finished with value: 0.6478758233271813 and parameters: {'f0': 4.75, 'f1': 4.92, 'f2': 2.66}. Best is trial 397 with value: 0.6476332058442181.\n",
      "[I 2023-10-15 18:38:38,013] Trial 669 finished with value: 0.6481596139874861 and parameters: {'f0': 4.3100000000000005, 'f1': 5.0, 'f2': 2.91}. Best is trial 397 with value: 0.6476332058442181.\n",
      "[I 2023-10-15 18:38:38,057] Trial 670 finished with value: 0.6476690117764383 and parameters: {'f0': 4.49, 'f1': 4.74, 'f2': 2.77}. Best is trial 397 with value: 0.6476332058442181.\n",
      "[I 2023-10-15 18:38:38,101] Trial 671 finished with value: 0.6478224747207583 and parameters: {'f0': 4.65, 'f1': 4.83, 'f2': 2.63}. Best is trial 397 with value: 0.6476332058442181.\n",
      "[I 2023-10-15 18:38:38,145] Trial 672 finished with value: 0.647706050171833 and parameters: {'f0': 4.55, 'f1': 4.69, 'f2': 2.73}. Best is trial 397 with value: 0.6476332058442181.\n",
      "[I 2023-10-15 18:38:38,188] Trial 673 finished with value: 0.647853516514997 and parameters: {'f0': 4.42, 'f1': 4.91, 'f2': 2.89}. Best is trial 397 with value: 0.6476332058442181.\n",
      "[I 2023-10-15 18:38:38,233] Trial 674 finished with value: 0.6484447378688458 and parameters: {'f0': 4.66, 'f1': 5.0, 'f2': 2.43}. Best is trial 397 with value: 0.6476332058442181.\n",
      "[I 2023-10-15 18:38:38,277] Trial 675 finished with value: 0.6479198476657677 and parameters: {'f0': 4.8100000000000005, 'f1': 4.8, 'f2': 3.0}. Best is trial 397 with value: 0.6476332058442181.\n",
      "[I 2023-10-15 18:38:38,320] Trial 676 finished with value: 0.6476370024099424 and parameters: {'f0': 4.24, 'f1': 4.57, 'f2': 2.54}. Best is trial 397 with value: 0.6476332058442181.\n",
      "[I 2023-10-15 18:38:38,364] Trial 677 finished with value: 0.6479113336949622 and parameters: {'f0': 4.18, 'f1': 4.49, 'f2': 2.32}. Best is trial 397 with value: 0.6476332058442181.\n",
      "[I 2023-10-15 18:38:38,409] Trial 678 finished with value: 0.6506347055772762 and parameters: {'f0': 4.28, 'f1': 3.56, 'f2': 2.14}. Best is trial 397 with value: 0.6476332058442181.\n",
      "[I 2023-10-15 18:38:38,453] Trial 679 finished with value: 0.6480811623009946 and parameters: {'f0': 4.5200000000000005, 'f1': 4.57, 'f2': 2.47}. Best is trial 397 with value: 0.6476332058442181.\n",
      "[I 2023-10-15 18:38:38,496] Trial 680 finished with value: 0.6477255476930581 and parameters: {'f0': 4.36, 'f1': 4.66, 'f2': 2.5100000000000002}. Best is trial 397 with value: 0.6476332058442181.\n",
      "[I 2023-10-15 18:38:38,540] Trial 681 finished with value: 0.6480253848213978 and parameters: {'f0': 4.59, 'f1': 4.55, 'f2': 2.57}. Best is trial 397 with value: 0.6476332058442181.\n",
      "[I 2023-10-15 18:38:38,585] Trial 682 finished with value: 0.6483614539010316 and parameters: {'f0': 4.68, 'f1': 4.42, 'f2': 2.61}. Best is trial 397 with value: 0.6476332058442181.\n",
      "[I 2023-10-15 18:38:38,629] Trial 683 finished with value: 0.6481848455787418 and parameters: {'f0': 4.47, 'f1': 4.68, 'f2': 2.39}. Best is trial 397 with value: 0.6476332058442181.\n",
      "[I 2023-10-15 18:38:38,673] Trial 684 finished with value: 0.6504841819577502 and parameters: {'f0': 4.99, 'f1': 4.0200000000000005, 'f2': 2.8000000000000003}. Best is trial 397 with value: 0.6476332058442181.\n",
      "[I 2023-10-15 18:38:38,719] Trial 685 finished with value: 0.7157705118522989 and parameters: {'f0': 4.2700000000000005, 'f1': 0.9500000000000001, 'f2': 2.74}. Best is trial 397 with value: 0.6476332058442181.\n",
      "[I 2023-10-15 18:38:38,764] Trial 686 finished with value: 0.649224142129359 and parameters: {'f0': 4.6000000000000005, 'f1': 4.74, 'f2': 2.25}. Best is trial 397 with value: 0.6476332058442181.\n",
      "[I 2023-10-15 18:38:38,808] Trial 687 finished with value: 0.6481695511500174 and parameters: {'f0': 4.72, 'f1': 4.9, 'f2': 2.5300000000000002}. Best is trial 397 with value: 0.6476332058442181.\n",
      "[I 2023-10-15 18:38:38,854] Trial 688 finished with value: 0.6479338181030659 and parameters: {'f0': 4.36, 'f1': 4.76, 'f2': 2.89}. Best is trial 397 with value: 0.6476332058442181.\n",
      "[I 2023-10-15 18:38:38,899] Trial 689 finished with value: 0.6477248988192483 and parameters: {'f0': 4.49, 'f1': 4.61, 'f2': 2.66}. Best is trial 397 with value: 0.6476332058442181.\n",
      "[I 2023-10-15 18:38:38,945] Trial 690 finished with value: 0.6478208805520415 and parameters: {'f0': 4.8500000000000005, 'f1': 4.9, 'f2': 2.81}. Best is trial 397 with value: 0.6476332058442181.\n",
      "[I 2023-10-15 18:38:38,989] Trial 691 finished with value: 0.6478259510514345 and parameters: {'f0': 4.5600000000000005, 'f1': 5.0, 'f2': 2.97}. Best is trial 397 with value: 0.6476332058442181.\n",
      "[I 2023-10-15 18:38:39,035] Trial 692 finished with value: 0.6572010835774795 and parameters: {'f0': 2.7600000000000002, 'f1': 2.73, 'f2': 2.64}. Best is trial 397 with value: 0.6476332058442181.\n",
      "[I 2023-10-15 18:38:39,080] Trial 693 finished with value: 0.6476464302696081 and parameters: {'f0': 4.42, 'f1': 4.8, 'f2': 2.73}. Best is trial 397 with value: 0.6476332058442181.\n",
      "[I 2023-10-15 18:38:39,126] Trial 694 finished with value: 0.6479456728895231 and parameters: {'f0': 4.74, 'f1': 4.91, 'f2': 3.09}. Best is trial 397 with value: 0.6476332058442181.\n",
      "[I 2023-10-15 18:38:39,171] Trial 695 finished with value: 0.6477215585672298 and parameters: {'f0': 4.21, 'f1': 4.64, 'f2': 2.45}. Best is trial 397 with value: 0.6476332058442181.\n",
      "[I 2023-10-15 18:38:39,217] Trial 696 finished with value: 0.6484967258574748 and parameters: {'f0': 4.63, 'f1': 4.82, 'f2': 3.22}. Best is trial 397 with value: 0.6476332058442181.\n",
      "[I 2023-10-15 18:38:39,261] Trial 697 finished with value: 0.6478451229216649 and parameters: {'f0': 4.33, 'f1': 4.74, 'f2': 2.83}. Best is trial 397 with value: 0.6476332058442181.\n",
      "[I 2023-10-15 18:38:39,306] Trial 698 finished with value: 0.6477063365615877 and parameters: {'f0': 4.51, 'f1': 4.91, 'f2': 2.62}. Best is trial 397 with value: 0.6476332058442181.\n",
      "[I 2023-10-15 18:38:39,350] Trial 699 finished with value: 0.6478843878354084 and parameters: {'f0': 4.43, 'f1': 5.0, 'f2': 2.9}. Best is trial 397 with value: 0.6476332058442181.\n",
      "[I 2023-10-15 18:38:39,395] Trial 700 finished with value: 0.6479453045819514 and parameters: {'f0': 4.57, 'f1': 4.72, 'f2': 2.5300000000000002}. Best is trial 397 with value: 0.6476332058442181.\n",
      "[I 2023-10-15 18:38:39,440] Trial 701 finished with value: 0.699716438905144 and parameters: {'f0': 1.8900000000000001, 'f1': 4.83, 'f2': 2.77}. Best is trial 397 with value: 0.6476332058442181.\n",
      "[I 2023-10-15 18:38:39,484] Trial 702 finished with value: 0.6478897872529277 and parameters: {'f0': 4.1, 'f1': 4.5, 'f2': 2.7}. Best is trial 397 with value: 0.6476332058442181.\n",
      "[I 2023-10-15 18:38:39,528] Trial 703 finished with value: 0.7778753889776358 and parameters: {'f0': 4.65, 'f1': 0.48, 'f2': 2.86}. Best is trial 397 with value: 0.6476332058442181.\n",
      "[I 2023-10-15 18:38:39,573] Trial 704 finished with value: 0.6481559448431435 and parameters: {'f0': 4.7700000000000005, 'f1': 4.87, 'f2': 2.57}. Best is trial 397 with value: 0.6476332058442181.\n",
      "[I 2023-10-15 18:38:39,617] Trial 705 finished with value: 0.6481628767401372 and parameters: {'f0': 4.47, 'f1': 4.63, 'f2': 3.0}. Best is trial 397 with value: 0.6476332058442181.\n",
      "[I 2023-10-15 18:38:39,661] Trial 706 finished with value: 0.647711293197126 and parameters: {'f0': 4.38, 'f1': 4.92, 'f2': 2.74}. Best is trial 397 with value: 0.6476332058442181.\n",
      "[I 2023-10-15 18:38:39,707] Trial 707 finished with value: 0.6477138670200828 and parameters: {'f0': 4.53, 'f1': 4.79, 'f2': 2.62}. Best is trial 397 with value: 0.6476332058442181.\n",
      "[I 2023-10-15 18:38:39,752] Trial 708 finished with value: 0.6480150698077463 and parameters: {'f0': 4.25, 'f1': 4.92, 'f2': 2.81}. Best is trial 397 with value: 0.6476332058442181.\n",
      "[I 2023-10-15 18:38:39,797] Trial 709 finished with value: 0.6478846311417552 and parameters: {'f0': 4.62, 'f1': 4.71, 'f2': 2.94}. Best is trial 397 with value: 0.6476332058442181.\n",
      "[I 2023-10-15 18:38:39,841] Trial 710 finished with value: 0.6477461943855335 and parameters: {'f0': 4.68, 'f1': 4.84, 'f2': 2.71}. Best is trial 397 with value: 0.6476332058442181.\n",
      "[I 2023-10-15 18:38:39,887] Trial 711 finished with value: 0.9846451020608333 and parameters: {'f0': 0.55, 'f1': 4.93, 'f2': 2.47}. Best is trial 397 with value: 0.6476332058442181.\n",
      "[I 2023-10-15 18:38:39,933] Trial 712 finished with value: 0.650851962663438 and parameters: {'f0': 4.3500000000000005, 'f1': 4.79, 'f2': 3.5100000000000002}. Best is trial 397 with value: 0.6476332058442181.\n",
      "[I 2023-10-15 18:38:39,980] Trial 713 finished with value: 0.6562663952932439 and parameters: {'f0': 3.22, 'f1': 5.0, 'f2': 2.84}. Best is trial 397 with value: 0.6476332058442181.\n",
      "[I 2023-10-15 18:38:40,025] Trial 714 finished with value: 0.6493952599437578 and parameters: {'f0': 4.88, 'f1': 5.0, 'f2': 2.36}. Best is trial 397 with value: 0.6476332058442181.\n",
      "[I 2023-10-15 18:38:40,071] Trial 715 finished with value: 0.6477439211307725 and parameters: {'f0': 4.48, 'f1': 4.57, 'f2': 2.67}. Best is trial 397 with value: 0.6476332058442181.\n",
      "[I 2023-10-15 18:38:40,116] Trial 716 finished with value: 0.6481478224444911 and parameters: {'f0': 4.71, 'f1': 4.69, 'f2': 2.57}. Best is trial 397 with value: 0.6476332058442181.\n",
      "[I 2023-10-15 18:38:40,163] Trial 717 finished with value: 0.647640539464614 and parameters: {'f0': 4.55, 'f1': 4.84, 'f2': 2.7600000000000002}. Best is trial 397 with value: 0.6476332058442181.\n",
      "[I 2023-10-15 18:38:40,209] Trial 718 finished with value: 0.6479013145056515 and parameters: {'f0': 4.4, 'f1': 4.7700000000000005, 'f2': 2.9}. Best is trial 397 with value: 0.6476332058442181.\n",
      "[I 2023-10-15 18:38:40,256] Trial 719 finished with value: 0.6480407232502093 and parameters: {'f0': 4.6000000000000005, 'f1': 4.91, 'f2': 3.08}. Best is trial 397 with value: 0.6476332058442181.\n",
      "[I 2023-10-15 18:38:40,303] Trial 720 finished with value: 0.6476829774536247 and parameters: {'f0': 4.48, 'f1': 4.66, 'f2': 2.67}. Best is trial 397 with value: 0.6476332058442181.\n",
      "[I 2023-10-15 18:38:40,350] Trial 721 finished with value: 0.6478897666398098 and parameters: {'f0': 4.26, 'f1': 4.8500000000000005, 'f2': 2.7800000000000002}. Best is trial 397 with value: 0.6476332058442181.\n",
      "[I 2023-10-15 18:38:40,395] Trial 722 finished with value: 0.6481992208712442 and parameters: {'f0': 4.74, 'f1': 5.0, 'f2': 2.5300000000000002}. Best is trial 397 with value: 0.6476332058442181.\n",
      "[I 2023-10-15 18:38:40,442] Trial 723 finished with value: 0.6477568735203562 and parameters: {'f0': 4.54, 'f1': 4.75, 'f2': 2.87}. Best is trial 397 with value: 0.6476332058442181.\n",
      "[I 2023-10-15 18:38:40,488] Trial 724 finished with value: 0.6482122999673351 and parameters: {'f0': 4.36, 'f1': 4.9, 'f2': 2.99}. Best is trial 397 with value: 0.6476332058442181.\n",
      "[I 2023-10-15 18:38:40,533] Trial 725 finished with value: 0.648043903395775 and parameters: {'f0': 4.79, 'f1': 4.82, 'f2': 2.64}. Best is trial 397 with value: 0.6476332058442181.\n",
      "[I 2023-10-15 18:38:40,579] Trial 726 finished with value: 0.6476851728885514 and parameters: {'f0': 4.46, 'f1': 5.0, 'f2': 2.74}. Best is trial 397 with value: 0.6476332058442181.\n",
      "[I 2023-10-15 18:38:40,625] Trial 727 finished with value: 0.6482763209741836 and parameters: {'f0': 4.59, 'f1': 4.57, 'f2': 2.46}. Best is trial 397 with value: 0.6476332058442181.\n",
      "[I 2023-10-15 18:38:40,672] Trial 728 finished with value: 0.6478137166365787 and parameters: {'f0': 4.69, 'f1': 4.71, 'f2': 2.82}. Best is trial 397 with value: 0.6476332058442181.\n",
      "[I 2023-10-15 18:38:40,718] Trial 729 finished with value: 0.6477194887840984 and parameters: {'f0': 4.34, 'f1': 4.88, 'f2': 2.58}. Best is trial 397 with value: 0.6476332058442181.\n",
      "[I 2023-10-15 18:38:40,765] Trial 730 finished with value: 0.6476335359018833 and parameters: {'f0': 4.45, 'f1': 4.78, 'f2': 2.7}. Best is trial 397 with value: 0.6476332058442181.\n",
      "[I 2023-10-15 18:38:40,811] Trial 731 finished with value: 0.6476916519650763 and parameters: {'f0': 4.63, 'f1': 4.92, 'f2': 2.9}. Best is trial 397 with value: 0.6476332058442181.\n",
      "[I 2023-10-15 18:38:40,857] Trial 732 finished with value: 0.6476416412466381 and parameters: {'f0': 4.5200000000000005, 'f1': 4.82, 'f2': 2.7600000000000002}. Best is trial 397 with value: 0.6476332058442181.\n",
      "[I 2023-10-15 18:38:40,902] Trial 733 finished with value: 0.6486503082251658 and parameters: {'f0': 4.22, 'f1': 5.0, 'f2': 2.98}. Best is trial 397 with value: 0.6476332058442181.\n",
      "[I 2023-10-15 18:38:40,948] Trial 734 finished with value: 0.6486776937903063 and parameters: {'f0': 3.96, 'f1': 4.9, 'f2': 2.72}. Best is trial 397 with value: 0.6476332058442181.\n",
      "[I 2023-10-15 18:38:40,995] Trial 735 finished with value: 0.6478919532282115 and parameters: {'f0': 4.82, 'f1': 4.7700000000000005, 'f2': 2.87}. Best is trial 397 with value: 0.6476332058442181.\n",
      "[I 2023-10-15 18:38:41,042] Trial 736 finished with value: 0.647774872771635 and parameters: {'f0': 4.63, 'f1': 4.8500000000000005, 'f2': 2.64}. Best is trial 397 with value: 0.6476332058442181.\n",
      "[I 2023-10-15 18:38:41,088] Trial 737 finished with value: 0.647731581625899 and parameters: {'f0': 4.42, 'f1': 4.66, 'f2': 2.79}. Best is trial 397 with value: 0.6476332058442181.\n",
      "[I 2023-10-15 18:38:41,134] Trial 738 finished with value: 0.6480849634888206 and parameters: {'f0': 4.53, 'f1': 4.91, 'f2': 3.06}. Best is trial 397 with value: 0.6476332058442181.\n",
      "[I 2023-10-15 18:38:41,181] Trial 739 finished with value: 0.6476903141621518 and parameters: {'f0': 4.3100000000000005, 'f1': 4.78, 'f2': 2.5500000000000003}. Best is trial 397 with value: 0.6476332058442181.\n",
      "[I 2023-10-15 18:38:41,227] Trial 740 finished with value: 0.6482019445703506 and parameters: {'f0': 4.1, 'f1': 4.92, 'f2': 2.71}. Best is trial 397 with value: 0.6476332058442181.\n",
      "[I 2023-10-15 18:38:41,275] Trial 741 finished with value: 0.6480470357548794 and parameters: {'f0': 4.73, 'f1': 4.61, 'f2': 2.92}. Best is trial 397 with value: 0.6476332058442181.\n",
      "[I 2023-10-15 18:38:41,322] Trial 742 finished with value: 0.6477239660511134 and parameters: {'f0': 4.45, 'f1': 5.0, 'f2': 2.8000000000000003}. Best is trial 397 with value: 0.6476332058442181.\n",
      "[I 2023-10-15 18:38:41,368] Trial 743 finished with value: 0.6477899279929138 and parameters: {'f0': 4.61, 'f1': 4.75, 'f2': 2.64}. Best is trial 397 with value: 0.6476332058442181.\n",
      "[I 2023-10-15 18:38:41,416] Trial 744 finished with value: 0.6479422317629494 and parameters: {'f0': 4.9, 'f1': 4.83, 'f2': 2.84}. Best is trial 397 with value: 0.6476332058442181.\n",
      "[I 2023-10-15 18:38:41,463] Trial 745 finished with value: 0.6481295060461505 and parameters: {'f0': 4.54, 'f1': 4.91, 'f2': 2.45}. Best is trial 397 with value: 0.6476332058442181.\n",
      "[I 2023-10-15 18:38:41,510] Trial 746 finished with value: 0.6481540641671772 and parameters: {'f0': 4.67, 'f1': 4.46, 'f2': 2.72}. Best is trial 397 with value: 0.6476332058442181.\n",
      "[I 2023-10-15 18:38:41,557] Trial 747 finished with value: 0.6480421758256907 and parameters: {'f0': 4.41, 'f1': 4.69, 'f2': 2.95}. Best is trial 397 with value: 0.6476332058442181.\n",
      "[I 2023-10-15 18:38:41,606] Trial 748 finished with value: 0.6477042523599241 and parameters: {'f0': 4.33, 'f1': 4.84, 'f2': 2.57}. Best is trial 397 with value: 0.6476332058442181.\n",
      "[I 2023-10-15 18:38:41,652] Trial 749 finished with value: 0.6476632418356587 and parameters: {'f0': 4.57, 'f1': 4.93, 'f2': 2.69}. Best is trial 397 with value: 0.6476332058442181.\n",
      "[I 2023-10-15 18:38:41,700] Trial 750 finished with value: 0.6476840597863102 and parameters: {'f0': 4.79, 'f1': 5.0, 'f2': 2.83}. Best is trial 397 with value: 0.6476332058442181.\n",
      "[I 2023-10-15 18:38:41,748] Trial 751 finished with value: 0.6477070643133588 and parameters: {'f0': 4.49, 'f1': 4.7700000000000005, 'f2': 2.6}. Best is trial 397 with value: 0.6476332058442181.\n",
      "[I 2023-10-15 18:38:41,795] Trial 752 finished with value: 0.6488681899315296 and parameters: {'f0': 4.69, 'f1': 4.65, 'f2': 2.37}. Best is trial 397 with value: 0.6476332058442181.\n",
      "[I 2023-10-15 18:38:41,844] Trial 753 finished with value: 0.6494157601936957 and parameters: {'f0': 4.24, 'f1': 4.8500000000000005, 'f2': 3.19}. Best is trial 397 with value: 0.6476332058442181.\n",
      "[I 2023-10-15 18:38:41,892] Trial 754 finished with value: 0.6476723651883994 and parameters: {'f0': 4.45, 'f1': 4.74, 'f2': 2.77}. Best is trial 397 with value: 0.6476332058442181.\n",
      "[I 2023-10-15 18:38:41,940] Trial 755 finished with value: 0.6794667628026667 and parameters: {'f0': 4.61, 'f1': 1.81, 'f2': 3.04}. Best is trial 397 with value: 0.6476332058442181.\n",
      "[I 2023-10-15 18:38:41,987] Trial 756 finished with value: 0.6479596214840115 and parameters: {'f0': 4.41, 'f1': 5.0, 'f2': 2.92}. Best is trial 397 with value: 0.6476332058442181.\n",
      "[I 2023-10-15 18:38:42,035] Trial 757 finished with value: 0.64793545294684 and parameters: {'f0': 4.58, 'f1': 4.84, 'f2': 2.5300000000000002}. Best is trial 397 with value: 0.6476332058442181.\n",
      "[I 2023-10-15 18:38:42,083] Trial 758 finished with value: 0.6478027995768978 and parameters: {'f0': 4.72, 'f1': 4.91, 'f2': 2.68}. Best is trial 397 with value: 0.6476332058442181.\n",
      "[I 2023-10-15 18:38:42,131] Trial 759 finished with value: 0.6479184961559485 and parameters: {'f0': 4.33, 'f1': 4.51, 'f2': 2.82}. Best is trial 397 with value: 0.6476332058442181.\n",
      "[I 2023-10-15 18:38:42,179] Trial 760 finished with value: 0.6476714942725319 and parameters: {'f0': 4.51, 'f1': 4.71, 'f2': 2.73}. Best is trial 397 with value: 0.6476332058442181.\n",
      "[I 2023-10-15 18:38:42,227] Trial 761 finished with value: 0.665266606455195 and parameters: {'f0': 4.83, 'f1': 4.83, 'f2': 1.3900000000000001}. Best is trial 397 with value: 0.6476332058442181.\n",
      "[I 2023-10-15 18:38:42,274] Trial 762 finished with value: 0.6479672597648115 and parameters: {'f0': 4.66, 'f1': 4.61, 'f2': 2.9}. Best is trial 397 with value: 0.6476332058442181.\n",
      "[I 2023-10-15 18:38:42,322] Trial 763 finished with value: 0.7605092541327171 and parameters: {'f0': 1.27, 'f1': 4.91, 'f2': 2.62}. Best is trial 397 with value: 0.6476332058442181.\n",
      "[I 2023-10-15 18:38:42,369] Trial 764 finished with value: 0.6480819043601882 and parameters: {'f0': 4.16, 'f1': 5.0, 'f2': 2.5}. Best is trial 397 with value: 0.6476332058442181.\n",
      "[I 2023-10-15 18:38:42,417] Trial 765 finished with value: 0.6483007544360978 and parameters: {'f0': 4.5, 'f1': 4.2700000000000005, 'f2': 2.8000000000000003}. Best is trial 397 with value: 0.6476332058442181.\n",
      "[I 2023-10-15 18:38:42,464] Trial 766 finished with value: 0.6476361181989597 and parameters: {'f0': 4.38, 'f1': 4.7700000000000005, 'f2': 2.67}. Best is trial 397 with value: 0.6476332058442181.\n",
      "[I 2023-10-15 18:38:42,513] Trial 767 finished with value: 0.647635816242896 and parameters: {'f0': 4.2700000000000005, 'f1': 4.57, 'f2': 2.57}. Best is trial 397 with value: 0.6476332058442181.\n",
      "[I 2023-10-15 18:38:42,561] Trial 768 finished with value: 0.6477824040257928 and parameters: {'f0': 4.07, 'f1': 4.6000000000000005, 'f2': 2.38}. Best is trial 397 with value: 0.6476332058442181.\n",
      "[I 2023-10-15 18:38:42,611] Trial 769 finished with value: 0.647773950308722 and parameters: {'f0': 4.28, 'f1': 4.38, 'f2': 2.48}. Best is trial 397 with value: 0.6476332058442181.\n",
      "[I 2023-10-15 18:38:42,658] Trial 770 finished with value: 0.6663327501093523 and parameters: {'f0': 4.11, 'f1': 2.02, 'f2': 2.27}. Best is trial 397 with value: 0.6476332058442181.\n",
      "[I 2023-10-15 18:38:42,705] Trial 771 finished with value: 0.6477112710769419 and parameters: {'f0': 4.2, 'f1': 4.45, 'f2': 2.43}. Best is trial 397 with value: 0.6476332058442181.\n",
      "[I 2023-10-15 18:38:42,752] Trial 772 finished with value: 0.6476378499588542 and parameters: {'f0': 4.24, 'f1': 4.5200000000000005, 'f2': 2.56}. Best is trial 397 with value: 0.6476332058442181.\n",
      "[I 2023-10-15 18:38:42,801] Trial 773 finished with value: 0.6476659655957431 and parameters: {'f0': 4.01, 'f1': 4.23, 'f2': 2.37}. Best is trial 397 with value: 0.6476332058442181.\n",
      "[I 2023-10-15 18:38:42,849] Trial 774 finished with value: 0.6480834305033775 and parameters: {'f0': 4.12, 'f1': 4.32, 'f2': 2.23}. Best is trial 397 with value: 0.6476332058442181.\n",
      "[I 2023-10-15 18:38:42,898] Trial 775 finished with value: 0.647829567227563 and parameters: {'f0': 3.92, 'f1': 4.47, 'f2': 2.52}. Best is trial 397 with value: 0.6476332058442181.\n",
      "[I 2023-10-15 18:38:42,946] Trial 776 finished with value: 0.6476907693751518 and parameters: {'f0': 4.19, 'f1': 4.45, 'f2': 2.44}. Best is trial 397 with value: 0.6476332058442181.\n",
      "[I 2023-10-15 18:38:42,994] Trial 777 finished with value: 0.6476392894674038 and parameters: {'f0': 4.21, 'f1': 4.5, 'f2': 2.57}. Best is trial 397 with value: 0.6476332058442181.\n",
      "[I 2023-10-15 18:38:43,042] Trial 778 finished with value: 0.6480215533004706 and parameters: {'f0': 4.25, 'f1': 4.54, 'f2': 2.32}. Best is trial 397 with value: 0.6476332058442181.\n",
      "[I 2023-10-15 18:38:43,092] Trial 779 finished with value: 0.6476334186930912 and parameters: {'f0': 4.24, 'f1': 4.57, 'f2': 2.58}. Best is trial 397 with value: 0.6476332058442181.\n",
      "[I 2023-10-15 18:38:43,142] Trial 780 finished with value: 0.6906238726245709 and parameters: {'f0': 4.0600000000000005, 'f1': 4.59, 'f2': 0.76}. Best is trial 397 with value: 0.6476332058442181.\n",
      "[I 2023-10-15 18:38:43,191] Trial 781 finished with value: 0.6533479642274052 and parameters: {'f0': 4.15, 'f1': 2.95, 'f2': 2.44}. Best is trial 397 with value: 0.6476332058442181.\n",
      "[I 2023-10-15 18:38:43,241] Trial 782 finished with value: 0.6478904720204718 and parameters: {'f0': 3.88, 'f1': 4.34, 'f2': 2.5500000000000003}. Best is trial 397 with value: 0.6476332058442181.\n",
      "[I 2023-10-15 18:38:43,290] Trial 783 finished with value: 0.6476353124716199 and parameters: {'f0': 4.12, 'f1': 4.41, 'f2': 2.5}. Best is trial 397 with value: 0.6476332058442181.\n",
      "[I 2023-10-15 18:38:43,339] Trial 784 finished with value: 0.6477033103806242 and parameters: {'f0': 4.09, 'f1': 4.37, 'f2': 2.37}. Best is trial 397 with value: 0.6476332058442181.\n",
      "[I 2023-10-15 18:38:43,388] Trial 785 finished with value: 0.6476620634544674 and parameters: {'f0': 3.95, 'f1': 4.32, 'f2': 2.34}. Best is trial 397 with value: 0.6476332058442181.\n",
      "[I 2023-10-15 18:38:43,437] Trial 786 finished with value: 0.6476449657093352 and parameters: {'f0': 4.03, 'f1': 4.43, 'f2': 2.46}. Best is trial 397 with value: 0.6476332058442181.\n",
      "[I 2023-10-15 18:38:43,486] Trial 787 finished with value: 0.6482072364927636 and parameters: {'f0': 4.15, 'f1': 4.49, 'f2': 2.22}. Best is trial 397 with value: 0.6476332058442181.\n",
      "[I 2023-10-15 18:38:43,534] Trial 788 finished with value: 0.6478120075555508 and parameters: {'f0': 4.15, 'f1': 4.17, 'f2': 2.5}. Best is trial 397 with value: 0.6476332058442181.\n",
      "[I 2023-10-15 18:38:43,584] Trial 789 finished with value: 0.647781926332341 and parameters: {'f0': 4.24, 'f1': 4.41, 'f2': 2.42}. Best is trial 397 with value: 0.6476332058442181.\n",
      "[I 2023-10-15 18:38:43,633] Trial 790 finished with value: 0.648015505676636 and parameters: {'f0': 4.25, 'f1': 4.37, 'f2': 2.33}. Best is trial 397 with value: 0.6476332058442181.\n",
      "[I 2023-10-15 18:38:43,682] Trial 791 finished with value: 0.6476409468267478 and parameters: {'f0': 4.24, 'f1': 4.55, 'f2': 2.5300000000000002}. Best is trial 397 with value: 0.6476332058442181.\n",
      "[I 2023-10-15 18:38:43,732] Trial 792 finished with value: 0.6476502458917281 and parameters: {'f0': 4.15, 'f1': 4.5, 'f2': 2.57}. Best is trial 397 with value: 0.6476332058442181.\n",
      "[I 2023-10-15 18:38:43,782] Trial 793 finished with value: 0.6477413028832728 and parameters: {'f0': 4.01, 'f1': 4.57, 'f2': 2.48}. Best is trial 397 with value: 0.6476332058442181.\n",
      "[I 2023-10-15 18:38:43,832] Trial 794 finished with value: 0.647713362831499 and parameters: {'f0': 4.3, 'f1': 4.44, 'f2': 2.63}. Best is trial 397 with value: 0.6476332058442181.\n",
      "[I 2023-10-15 18:38:43,882] Trial 795 finished with value: 0.6476465904941907 and parameters: {'f0': 4.3, 'f1': 4.5600000000000005, 'f2': 2.62}. Best is trial 397 with value: 0.6476332058442181.\n",
      "[I 2023-10-15 18:38:43,931] Trial 796 finished with value: 0.6479879936848141 and parameters: {'f0': 4.11, 'f1': 4.5200000000000005, 'f2': 2.27}. Best is trial 397 with value: 0.6476332058442181.\n",
      "[I 2023-10-15 18:38:43,980] Trial 797 finished with value: 0.6478766774130588 and parameters: {'f0': 4.3100000000000005, 'f1': 4.28, 'f2': 2.54}. Best is trial 397 with value: 0.6476332058442181.\n",
      "[I 2023-10-15 18:38:44,030] Trial 798 finished with value: 0.6476453733036662 and parameters: {'f0': 4.23, 'f1': 4.6000000000000005, 'f2': 2.61}. Best is trial 397 with value: 0.6476332058442181.\n",
      "[I 2023-10-15 18:38:44,078] Trial 799 finished with value: 0.6479358947757526 and parameters: {'f0': 4.33, 'f1': 4.43, 'f2': 2.41}. Best is trial 397 with value: 0.6476332058442181.\n",
      "[I 2023-10-15 18:38:44,128] Trial 800 finished with value: 0.6525947756413942 and parameters: {'f0': 3.79, 'f1': 4.55, 'f2': 1.6400000000000001}. Best is trial 397 with value: 0.6476332058442181.\n",
      "[I 2023-10-15 18:38:44,179] Trial 801 finished with value: 0.6477829176339692 and parameters: {'f0': 4.03, 'f1': 4.64, 'f2': 2.49}. Best is trial 397 with value: 0.6476332058442181.\n",
      "[I 2023-10-15 18:38:44,228] Trial 802 finished with value: 0.6517689399655094 and parameters: {'f0': 4.19, 'f1': 3.23, 'f2': 2.65}. Best is trial 397 with value: 0.6476332058442181.\n",
      "[I 2023-10-15 18:38:44,278] Trial 803 finished with value: 0.6477886356053066 and parameters: {'f0': 4.34, 'f1': 4.38, 'f2': 2.59}. Best is trial 397 with value: 0.6476332058442181.\n",
      "[I 2023-10-15 18:38:44,328] Trial 804 finished with value: 0.6482538330433699 and parameters: {'f0': 4.33, 'f1': 4.11, 'f2': 2.66}. Best is trial 397 with value: 0.6476332058442181.\n",
      "[I 2023-10-15 18:38:44,379] Trial 805 finished with value: 0.6476459531162084 and parameters: {'f0': 4.2, 'f1': 4.6000000000000005, 'f2': 2.52}. Best is trial 397 with value: 0.6476332058442181.\n",
      "[I 2023-10-15 18:38:44,429] Trial 806 finished with value: 0.6477184983500527 and parameters: {'f0': 4.39, 'f1': 4.51, 'f2': 2.65}. Best is trial 397 with value: 0.6476332058442181.\n",
      "[I 2023-10-15 18:38:44,480] Trial 807 finished with value: 0.6478435982200057 and parameters: {'f0': 4.36, 'f1': 4.5600000000000005, 'f2': 2.45}. Best is trial 397 with value: 0.6476332058442181.\n",
      "[I 2023-10-15 18:38:44,531] Trial 808 finished with value: 0.6478839023971056 and parameters: {'f0': 4.11, 'f1': 4.64, 'f2': 2.69}. Best is trial 397 with value: 0.6476332058442181.\n",
      "[I 2023-10-15 18:38:44,579] Trial 809 finished with value: 0.6485549109356951 and parameters: {'f0': 4.21, 'f1': 4.65, 'f2': 2.19}. Best is trial 397 with value: 0.6476332058442181.\n",
      "[I 2023-10-15 18:38:44,630] Trial 810 finished with value: 0.6618505474743694 and parameters: {'f0': 4.28, 'f1': 2.36, 'f2': 2.54}. Best is trial 397 with value: 0.6476332058442181.\n",
      "[I 2023-10-15 18:38:44,679] Trial 811 finished with value: 0.6476430998002256 and parameters: {'f0': 4.4, 'f1': 4.69, 'f2': 2.69}. Best is trial 397 with value: 0.6476332058442181.\n",
      "[I 2023-10-15 18:38:44,727] Trial 812 finished with value: 0.6480614976621988 and parameters: {'f0': 4.36, 'f1': 4.69, 'f2': 2.37}. Best is trial 397 with value: 0.6476332058442181.\n",
      "[I 2023-10-15 18:38:44,777] Trial 813 finished with value: 0.6477221561755195 and parameters: {'f0': 4.41, 'f1': 4.63, 'f2': 2.5500000000000003}. Best is trial 397 with value: 0.6476332058442181.\n",
      "[I 2023-10-15 18:38:44,827] Trial 814 finished with value: 0.8021902532264553 and parameters: {'f0': 1.02, 'f1': 4.51, 'f2': 2.7}. Best is trial 397 with value: 0.6476332058442181.\n",
      "[I 2023-10-15 18:38:44,876] Trial 815 finished with value: 0.6477977112587353 and parameters: {'f0': 4.0, 'f1': 4.41, 'f2': 2.59}. Best is trial 397 with value: 0.6476332058442181.\n",
      "[I 2023-10-15 18:38:44,925] Trial 816 finished with value: 0.6480293515150891 and parameters: {'f0': 4.2700000000000005, 'f1': 4.26, 'f2': 2.73}. Best is trial 397 with value: 0.6476332058442181.\n",
      "[I 2023-10-15 18:38:44,975] Trial 817 finished with value: 0.658826835827876 and parameters: {'f0': 4.38, 'f1': 2.62, 'f2': 2.62}. Best is trial 397 with value: 0.6476332058442181.\n",
      "[I 2023-10-15 18:38:45,026] Trial 818 finished with value: 0.6478116810750043 and parameters: {'f0': 4.12, 'f1': 4.69, 'f2': 2.41}. Best is trial 397 with value: 0.6476332058442181.\n",
      "[I 2023-10-15 18:38:45,076] Trial 819 finished with value: 0.6476752774244535 and parameters: {'f0': 4.44, 'f1': 4.69, 'f2': 2.75}. Best is trial 397 with value: 0.6476332058442181.\n",
      "[I 2023-10-15 18:38:45,126] Trial 820 finished with value: 0.735789160446641 and parameters: {'f0': 4.2700000000000005, 'f1': 4.7, 'f2': 0.44}. Best is trial 397 with value: 0.6476332058442181.\n",
      "[I 2023-10-15 18:38:45,177] Trial 821 finished with value: 0.6478839342782494 and parameters: {'f0': 4.45, 'f1': 4.5200000000000005, 'f2': 2.82}. Best is trial 397 with value: 0.6476332058442181.\n",
      "[I 2023-10-15 18:38:45,228] Trial 822 finished with value: 0.7302090986517229 and parameters: {'f0': 2.02, 'f1': 4.74, 'f2': 4.3100000000000005}. Best is trial 397 with value: 0.6476332058442181.\n",
      "[I 2023-10-15 18:38:45,279] Trial 823 finished with value: 0.716789977048354 and parameters: {'f0': 1.54, 'f1': 4.61, 'f2': 2.47}. Best is trial 397 with value: 0.6476332058442181.\n",
      "[I 2023-10-15 18:38:45,330] Trial 824 finished with value: 0.6676567482681917 and parameters: {'f0': 2.33, 'f1': 3.94, 'f2': 2.65}. Best is trial 397 with value: 0.6476332058442181.\n",
      "[I 2023-10-15 18:38:45,381] Trial 825 finished with value: 0.684783286333818 and parameters: {'f0': 4.3, 'f1': 1.5, 'f2': 2.59}. Best is trial 397 with value: 0.6476332058442181.\n",
      "[I 2023-10-15 18:38:45,433] Trial 826 finished with value: 0.6499579248777776 and parameters: {'f0': 4.46, 'f1': 4.75, 'f2': 2.09}. Best is trial 397 with value: 0.6476332058442181.\n",
      "[I 2023-10-15 18:38:45,483] Trial 827 finished with value: 0.6478823178811125 and parameters: {'f0': 4.2, 'f1': 4.44, 'f2': 2.74}. Best is trial 397 with value: 0.6476332058442181.\n",
      "[I 2023-10-15 18:38:45,534] Trial 828 finished with value: 0.6478355574606284 and parameters: {'f0': 4.37, 'f1': 4.75, 'f2': 2.85}. Best is trial 397 with value: 0.6476332058442181.\n",
      "[I 2023-10-15 18:38:45,584] Trial 829 finished with value: 0.647761360416981 and parameters: {'f0': 4.5200000000000005, 'f1': 4.59, 'f2': 2.7}. Best is trial 397 with value: 0.6476332058442181.\n",
      "[I 2023-10-15 18:38:45,634] Trial 830 finished with value: 0.6477516607238131 and parameters: {'f0': 4.44, 'f1': 4.7700000000000005, 'f2': 2.54}. Best is trial 397 with value: 0.6476332058442181.\n",
      "[I 2023-10-15 18:38:45,686] Trial 831 finished with value: 0.6486990078423838 and parameters: {'f0': 4.55, 'f1': 4.62, 'f2': 2.32}. Best is trial 397 with value: 0.6476332058442181.\n",
      "[I 2023-10-15 18:38:45,738] Trial 832 finished with value: 0.6486265627656492 and parameters: {'f0': 4.15, 'f1': 4.78, 'f2': 2.95}. Best is trial 397 with value: 0.6476332058442181.\n",
      "[I 2023-10-15 18:38:45,789] Trial 833 finished with value: 0.6478111696969975 and parameters: {'f0': 4.33, 'f1': 4.69, 'f2': 2.81}. Best is trial 397 with value: 0.6476332058442181.\n",
      "[I 2023-10-15 18:38:45,841] Trial 834 finished with value: 0.6477906065882126 and parameters: {'f0': 4.62, 'f1': 4.8100000000000005, 'f2': 2.63}. Best is trial 397 with value: 0.6476332058442181.\n",
      "[I 2023-10-15 18:38:45,891] Trial 835 finished with value: 0.647886672400901 and parameters: {'f0': 4.47, 'f1': 4.45, 'f2': 2.74}. Best is trial 397 with value: 0.6476332058442181.\n",
      "[I 2023-10-15 18:38:45,943] Trial 836 finished with value: 0.6476550223778436 and parameters: {'f0': 4.26, 'f1': 4.54, 'f2': 2.52}. Best is trial 397 with value: 0.6476332058442181.\n",
      "[I 2023-10-15 18:38:45,993] Trial 837 finished with value: 0.6479556519747923 and parameters: {'f0': 4.74, 'f1': 4.67, 'f2': 2.91}. Best is trial 397 with value: 0.6476332058442181.\n",
      "[I 2023-10-15 18:38:46,044] Trial 838 finished with value: 0.6476403501519891 and parameters: {'f0': 4.4, 'f1': 4.82, 'f2': 2.67}. Best is trial 397 with value: 0.6476332058442181.\n",
      "[I 2023-10-15 18:38:46,095] Trial 839 finished with value: 0.6489255623075076 and parameters: {'f0': 4.5600000000000005, 'f1': 4.34, 'f2': 3.1}. Best is trial 397 with value: 0.6476332058442181.\n",
      "[I 2023-10-15 18:38:46,147] Trial 840 finished with value: 0.6491947115272096 and parameters: {'f0': 3.89, 'f1': 4.83, 'f2': 2.81}. Best is trial 397 with value: 0.6476332058442181.\n",
      "[I 2023-10-15 18:38:46,198] Trial 841 finished with value: 0.655079180373035 and parameters: {'f0': 4.93, 'f1': 4.76, 'f2': 1.86}. Best is trial 397 with value: 0.6476332058442181.\n",
      "[I 2023-10-15 18:38:46,250] Trial 842 finished with value: 0.6498348016891379 and parameters: {'f0': 3.54, 'f1': 4.64, 'f2': 2.58}. Best is trial 397 with value: 0.6476332058442181.\n",
      "[I 2023-10-15 18:38:46,303] Trial 843 finished with value: 0.6483009149937056 and parameters: {'f0': 4.66, 'f1': 4.88, 'f2': 2.46}. Best is trial 397 with value: 0.6476332058442181.\n",
      "[I 2023-10-15 18:38:46,355] Trial 844 finished with value: 0.6480780466277063 and parameters: {'f0': 4.48, 'f1': 4.72, 'f2': 3.0}. Best is trial 397 with value: 0.6476332058442181.\n",
      "[I 2023-10-15 18:38:46,407] Trial 845 finished with value: 0.6483250942616933 and parameters: {'f0': 4.0600000000000005, 'f1': 4.89, 'f2': 2.73}. Best is trial 397 with value: 0.6476332058442181.\n",
      "[I 2023-10-15 18:38:46,458] Trial 846 finished with value: 0.6478353019857424 and parameters: {'f0': 4.34, 'f1': 4.8, 'f2': 2.83}. Best is trial 397 with value: 0.6476332058442181.\n",
      "[I 2023-10-15 18:38:46,511] Trial 847 finished with value: 0.6508425676620792 and parameters: {'f0': 3.41, 'f1': 4.53, 'f2': 2.64}. Best is trial 397 with value: 0.6476332058442181.\n",
      "[I 2023-10-15 18:38:46,562] Trial 848 finished with value: 0.648398818788714 and parameters: {'f0': 4.58, 'f1': 4.93, 'f2': 2.4}. Best is trial 397 with value: 0.6476332058442181.\n",
      "[I 2023-10-15 18:38:46,614] Trial 849 finished with value: 0.6478115913996392 and parameters: {'f0': 4.2, 'f1': 4.69, 'f2': 2.72}. Best is trial 397 with value: 0.6476332058442181.\n",
      "[I 2023-10-15 18:38:46,664] Trial 850 finished with value: 0.6476587920470724 and parameters: {'f0': 4.76, 'f1': 5.0, 'f2': 2.88}. Best is trial 397 with value: 0.6476332058442181.\n",
      "[I 2023-10-15 18:38:46,716] Trial 851 finished with value: 0.6476985280687266 and parameters: {'f0': 4.4, 'f1': 4.82, 'f2': 2.57}. Best is trial 397 with value: 0.6476332058442181.\n",
      "[I 2023-10-15 18:38:46,768] Trial 852 finished with value: 0.6477751535430714 and parameters: {'f0': 4.53, 'f1': 4.61, 'f2': 2.7800000000000002}. Best is trial 397 with value: 0.6476332058442181.\n",
      "[I 2023-10-15 18:38:46,821] Trial 853 finished with value: 0.6477625755550787 and parameters: {'f0': 4.66, 'f1': 4.92, 'f2': 2.66}. Best is trial 397 with value: 0.6476332058442181.\n",
      "[I 2023-10-15 18:38:46,872] Trial 854 finished with value: 0.6477330335791185 and parameters: {'f0': 4.29, 'f1': 4.76, 'f2': 2.5}. Best is trial 397 with value: 0.6476332058442181.\n",
      "[I 2023-10-15 18:38:46,926] Trial 855 finished with value: 0.6479855075063411 and parameters: {'f0': 4.45, 'f1': 4.84, 'f2': 2.97}. Best is trial 397 with value: 0.6476332058442181.\n",
      "[I 2023-10-15 18:38:46,978] Trial 856 finished with value: 0.6496431116203162 and parameters: {'f0': 4.8100000000000005, 'f1': 4.91, 'f2': 2.29}. Best is trial 397 with value: 0.6476332058442181.\n",
      "[I 2023-10-15 18:38:47,030] Trial 857 finished with value: 0.6478128248820921 and parameters: {'f0': 4.55, 'f1': 4.66, 'f2': 2.86}. Best is trial 397 with value: 0.6476332058442181.\n",
      "[I 2023-10-15 18:38:47,080] Trial 858 finished with value: 0.6480463480927858 and parameters: {'f0': 4.66, 'f1': 4.51, 'f2': 2.73}. Best is trial 397 with value: 0.6476332058442181.\n",
      "[I 2023-10-15 18:38:47,131] Trial 859 finished with value: 0.6476484262059117 and parameters: {'f0': 4.3, 'f1': 4.74, 'f2': 2.61}. Best is trial 397 with value: 0.6476332058442181.\n",
      "[I 2023-10-15 18:38:47,183] Trial 860 finished with value: 0.6479707586567792 and parameters: {'f0': 4.38, 'f1': 4.84, 'f2': 2.43}. Best is trial 397 with value: 0.6476332058442181.\n",
      "[I 2023-10-15 18:38:47,235] Trial 861 finished with value: 0.6477678765533428 and parameters: {'f0': 4.49, 'f1': 4.92, 'f2': 2.89}. Best is trial 397 with value: 0.6476332058442181.\n",
      "[I 2023-10-15 18:38:47,286] Trial 862 finished with value: 0.6479911423232798 and parameters: {'f0': 4.17, 'f1': 4.43, 'f2': 2.77}. Best is trial 397 with value: 0.6476332058442181.\n",
      "[I 2023-10-15 18:38:47,337] Trial 863 finished with value: 0.6481347528123913 and parameters: {'f0': 4.62, 'f1': 4.59, 'f2': 2.5300000000000002}. Best is trial 397 with value: 0.6476332058442181.\n",
      "[I 2023-10-15 18:38:47,390] Trial 864 finished with value: 0.6477108724697034 and parameters: {'f0': 4.43, 'f1': 5.0, 'f2': 2.67}. Best is trial 397 with value: 0.6476332058442181.\n",
      "[I 2023-10-15 18:38:47,442] Trial 865 finished with value: 0.6479757237600139 and parameters: {'f0': 4.74, 'f1': 4.7700000000000005, 'f2': 3.0300000000000002}. Best is trial 397 with value: 0.6476332058442181.\n",
      "[I 2023-10-15 18:38:47,495] Trial 866 finished with value: 0.6605852374352034 and parameters: {'f0': 2.95, 'f1': 5.0, 'f2': 2.8000000000000003}. Best is trial 397 with value: 0.6476332058442181.\n",
      "[I 2023-10-15 18:38:47,546] Trial 867 finished with value: 0.64777477403808 and parameters: {'f0': 4.57, 'f1': 4.84, 'f2': 2.6}. Best is trial 397 with value: 0.6476332058442181.\n",
      "[I 2023-10-15 18:38:47,597] Trial 868 finished with value: 0.6476945577279292 and parameters: {'f0': 4.26, 'f1': 4.71, 'f2': 2.68}. Best is trial 397 with value: 0.6476332058442181.\n",
      "[I 2023-10-15 18:38:47,649] Trial 869 finished with value: 0.7048294765204003 and parameters: {'f0': 1.77, 'f1': 4.34, 'f2': 2.87}. Best is trial 397 with value: 0.6476332058442181.\n",
      "[I 2023-10-15 18:38:47,701] Trial 870 finished with value: 0.6480174454391864 and parameters: {'f0': 4.09, 'f1': 4.89, 'f2': 2.49}. Best is trial 397 with value: 0.6476332058442181.\n",
      "[I 2023-10-15 18:38:47,753] Trial 871 finished with value: 0.6486602433487876 and parameters: {'f0': 5.0, 'f1': 4.6000000000000005, 'f2': 2.75}. Best is trial 397 with value: 0.6476332058442181.\n",
      "[I 2023-10-15 18:38:47,806] Trial 872 finished with value: 0.6479796286565657 and parameters: {'f0': 4.49, 'f1': 4.78, 'f2': 2.98}. Best is trial 397 with value: 0.6476332058442181.\n",
      "[I 2023-10-15 18:38:47,860] Trial 873 finished with value: 0.6477195218057851 and parameters: {'f0': 4.37, 'f1': 4.89, 'f2': 2.58}. Best is trial 397 with value: 0.6476332058442181.\n",
      "[I 2023-10-15 18:38:47,912] Trial 874 finished with value: 0.6494707318221038 and parameters: {'f0': 4.86, 'f1': 4.66, 'f2': 2.37}. Best is trial 397 with value: 0.6476332058442181.\n",
      "[I 2023-10-15 18:38:47,965] Trial 875 finished with value: 0.6477786630620666 and parameters: {'f0': 4.68, 'f1': 4.82, 'f2': 2.69}. Best is trial 397 with value: 0.6476332058442181.\n",
      "[I 2023-10-15 18:38:48,017] Trial 876 finished with value: 0.6476599211848472 and parameters: {'f0': 4.53, 'f1': 4.93, 'f2': 2.82}. Best is trial 397 with value: 0.6476332058442181.\n",
      "[I 2023-10-15 18:38:48,069] Trial 877 finished with value: 0.6480631822175412 and parameters: {'f0': 4.33, 'f1': 5.0, 'f2': 2.89}. Best is trial 397 with value: 0.6476332058442181.\n",
      "[I 2023-10-15 18:38:48,121] Trial 878 finished with value: 0.6481016864093823 and parameters: {'f0': 4.62, 'f1': 4.5, 'f2': 2.6}. Best is trial 397 with value: 0.6476332058442181.\n",
      "[I 2023-10-15 18:38:48,173] Trial 879 finished with value: 0.6483745586744415 and parameters: {'f0': 4.0, 'f1': 4.72, 'f2': 2.75}. Best is trial 397 with value: 0.6476332058442181.\n",
      "[I 2023-10-15 18:38:48,226] Trial 880 finished with value: 0.6526440860597096 and parameters: {'f0': 4.21, 'f1': 3.08, 'f2': 2.5}. Best is trial 397 with value: 0.6476332058442181.\n",
      "[I 2023-10-15 18:38:48,279] Trial 881 finished with value: 0.6476339823156684 and parameters: {'f0': 4.45, 'f1': 4.8100000000000005, 'f2': 2.68}. Best is trial 397 with value: 0.6476332058442181.\n",
      "[I 2023-10-15 18:38:48,331] Trial 882 finished with value: 0.6493222118297539 and parameters: {'f0': 4.4, 'f1': 3.8200000000000003, 'f2': 2.43}. Best is trial 397 with value: 0.6476332058442181.\n",
      "[I 2023-10-15 18:38:48,382] Trial 883 finished with value: 0.6477073690674833 and parameters: {'f0': 4.18, 'f1': 4.66, 'f2': 2.63}. Best is trial 397 with value: 0.6476332058442181.\n",
      "[I 2023-10-15 18:38:48,434] Trial 884 finished with value: 0.6476453835758081 and parameters: {'f0': 4.3, 'f1': 4.59, 'f2': 2.56}. Best is trial 397 with value: 0.6476332058442181.\n",
      "[I 2023-10-15 18:38:48,487] Trial 885 finished with value: 0.6476381624669194 and parameters: {'f0': 4.46, 'f1': 4.76, 'f2': 2.68}. Best is trial 397 with value: 0.6476332058442181.\n",
      "[I 2023-10-15 18:38:48,540] Trial 886 finished with value: 0.8160870249690161 and parameters: {'f0': 4.37, 'f1': 4.8, 'f2': 0.2}. Best is trial 397 with value: 0.6476332058442181.\n",
      "[I 2023-10-15 18:38:48,592] Trial 887 finished with value: 0.6476942667204626 and parameters: {'f0': 4.26, 'f1': 4.47, 'f2': 2.49}. Best is trial 397 with value: 0.6476332058442181.\n",
      "[I 2023-10-15 18:38:48,644] Trial 888 finished with value: 0.6485194876439253 and parameters: {'f0': 4.45, 'f1': 4.68, 'f2': 2.3000000000000003}. Best is trial 397 with value: 0.6476332058442181.\n",
      "[I 2023-10-15 18:38:48,696] Trial 889 finished with value: 0.6476498535728188 and parameters: {'f0': 4.51, 'f1': 4.86, 'f2': 2.79}. Best is trial 397 with value: 0.6476332058442181.\n",
      "[I 2023-10-15 18:38:48,748] Trial 890 finished with value: 0.6476490545590199 and parameters: {'f0': 4.3500000000000005, 'f1': 4.74, 'f2': 2.69}. Best is trial 397 with value: 0.6476332058442181.\n",
      "[I 2023-10-15 18:38:48,801] Trial 891 finished with value: 0.6509504811114891 and parameters: {'f0': 4.09, 'f1': 4.58, 'f2': 3.3200000000000003}. Best is trial 397 with value: 0.6476332058442181.\n",
      "[I 2023-10-15 18:38:48,854] Trial 892 finished with value: 0.6477851493504059 and parameters: {'f0': 4.5600000000000005, 'f1': 4.91, 'f2': 2.59}. Best is trial 397 with value: 0.6476332058442181.\n",
      "[I 2023-10-15 18:38:48,908] Trial 893 finished with value: 0.6485070705301111 and parameters: {'f0': 4.41, 'f1': 4.83, 'f2': 3.11}. Best is trial 397 with value: 0.6476332058442181.\n",
      "[I 2023-10-15 18:38:48,960] Trial 894 finished with value: 0.6479717144896612 and parameters: {'f0': 4.26, 'f1': 4.69, 'f2': 2.84}. Best is trial 397 with value: 0.6476332058442181.\n",
      "[I 2023-10-15 18:38:49,013] Trial 895 finished with value: 0.6690570676202101 and parameters: {'f0': 2.65, 'f1': 4.91, 'f2': 2.93}. Best is trial 397 with value: 0.6476332058442181.\n",
      "[I 2023-10-15 18:38:49,065] Trial 896 finished with value: 0.6483605536136979 and parameters: {'f0': 4.51, 'f1': 4.21, 'f2': 2.7}. Best is trial 397 with value: 0.6476332058442181.\n",
      "[I 2023-10-15 18:38:49,118] Trial 897 finished with value: 0.6484954396366092 and parameters: {'f0': 4.7, 'f1': 4.79, 'f2': 2.44}. Best is trial 397 with value: 0.6476332058442181.\n",
      "[I 2023-10-15 18:38:49,171] Trial 898 finished with value: 0.6478214213660027 and parameters: {'f0': 4.42, 'f1': 5.0, 'f2': 2.56}. Best is trial 397 with value: 0.6476332058442181.\n",
      "[I 2023-10-15 18:38:49,223] Trial 899 finished with value: 0.6497649778457167 and parameters: {'f0': 4.61, 'f1': 4.65, 'f2': 2.18}. Best is trial 397 with value: 0.6476332058442181.\n",
      "[I 2023-10-15 18:38:49,277] Trial 900 finished with value: 0.6638556705860111 and parameters: {'f0': 4.18, 'f1': 2.27, 'f2': 2.79}. Best is trial 397 with value: 0.6476332058442181.\n",
      "[I 2023-10-15 18:38:49,329] Trial 901 finished with value: 0.6476795064744432 and parameters: {'f0': 4.34, 'f1': 4.53, 'f2': 2.65}. Best is trial 397 with value: 0.6476332058442181.\n",
      "[I 2023-10-15 18:38:49,381] Trial 902 finished with value: 0.6670312787954454 and parameters: {'f0': 2.5, 'f1': 4.4, 'f2': 2.74}. Best is trial 397 with value: 0.6476332058442181.\n",
      "[I 2023-10-15 18:38:49,434] Trial 903 finished with value: 0.6479508431807273 and parameters: {'f0': 4.5, 'f1': 4.91, 'f2': 2.99}. Best is trial 397 with value: 0.6476332058442181.\n",
      "[I 2023-10-15 18:38:49,487] Trial 904 finished with value: 0.6489976704116596 and parameters: {'f0': 4.7700000000000005, 'f1': 4.7700000000000005, 'f2': 2.38}. Best is trial 397 with value: 0.6476332058442181.\n",
      "[I 2023-10-15 18:38:49,540] Trial 905 finished with value: 0.6477022849330475 and parameters: {'f0': 4.58, 'f1': 4.82, 'f2': 2.86}. Best is trial 397 with value: 0.6476332058442181.\n",
      "[I 2023-10-15 18:38:49,593] Trial 906 finished with value: 0.6479177155356639 and parameters: {'f0': 4.3, 'f1': 5.0, 'f2': 2.52}. Best is trial 397 with value: 0.6476332058442181.\n",
      "[I 2023-10-15 18:38:49,646] Trial 907 finished with value: 0.6476382010082478 and parameters: {'f0': 4.41, 'f1': 4.7, 'f2': 2.67}. Best is trial 397 with value: 0.6476332058442181.\n",
      "[I 2023-10-15 18:38:49,698] Trial 908 finished with value: 0.6477073088727461 and parameters: {'f0': 4.69, 'f1': 4.91, 'f2': 2.92}. Best is trial 397 with value: 0.6476332058442181.\n",
      "[I 2023-10-15 18:38:49,751] Trial 909 finished with value: 0.6477674863364058 and parameters: {'f0': 4.47, 'f1': 4.5600000000000005, 'f2': 2.61}. Best is trial 397 with value: 0.6476332058442181.\n",
      "[I 2023-10-15 18:38:49,804] Trial 910 finished with value: 0.6476556225776602 and parameters: {'f0': 4.61, 'f1': 4.8500000000000005, 'f2': 2.77}. Best is trial 397 with value: 0.6476332058442181.\n",
      "[I 2023-10-15 18:38:49,857] Trial 911 finished with value: 0.6480419957109778 and parameters: {'f0': 3.96, 'f1': 4.75, 'f2': 2.49}. Best is trial 397 with value: 0.6476332058442181.\n",
      "[I 2023-10-15 18:38:49,911] Trial 912 finished with value: 0.6478625459478727 and parameters: {'f0': 4.25, 'f1': 4.91, 'f2': 2.72}. Best is trial 397 with value: 0.6476332058442181.\n",
      "[I 2023-10-15 18:38:49,965] Trial 913 finished with value: 0.648054721322786 and parameters: {'f0': 4.16, 'f1': 5.0, 'f2': 2.61}. Best is trial 397 with value: 0.6476332058442181.\n",
      "[I 2023-10-15 18:38:50,018] Trial 914 finished with value: 0.6477842151999218 and parameters: {'f0': 4.54, 'f1': 4.64, 'f2': 2.82}. Best is trial 397 with value: 0.6476332058442181.\n",
      "[I 2023-10-15 18:38:50,070] Trial 915 finished with value: 0.6479405785235142 and parameters: {'f0': 4.37, 'f1': 4.83, 'f2': 2.9}. Best is trial 397 with value: 0.6476332058442181.\n",
      "[I 2023-10-15 18:38:50,123] Trial 916 finished with value: 0.6476432477230116 and parameters: {'f0': 4.46, 'f1': 4.73, 'f2': 2.69}. Best is trial 397 with value: 0.6476332058442181.\n",
      "[I 2023-10-15 18:38:50,178] Trial 917 finished with value: 0.6488108072306601 and parameters: {'f0': 4.82, 'f1': 4.48, 'f2': 2.5500000000000003}. Best is trial 397 with value: 0.6476332058442181.\n",
      "[I 2023-10-15 18:38:50,232] Trial 918 finished with value: 0.6479253105290422 and parameters: {'f0': 4.67, 'f1': 4.91, 'f2': 3.06}. Best is trial 397 with value: 0.6476332058442181.\n",
      "[I 2023-10-15 18:38:50,286] Trial 919 finished with value: 0.6484418073893875 and parameters: {'f0': 4.55, 'f1': 4.83, 'f2': 2.37}. Best is trial 397 with value: 0.6476332058442181.\n",
      "[I 2023-10-15 18:38:50,339] Trial 920 finished with value: 0.6480988540623196 and parameters: {'f0': 4.33, 'f1': 4.29, 'f2': 2.7800000000000002}. Best is trial 397 with value: 0.6476332058442181.\n",
      "[I 2023-10-15 18:38:50,392] Trial 921 finished with value: 0.6477942184250884 and parameters: {'f0': 4.08, 'f1': 4.6000000000000005, 'f2': 2.62}. Best is trial 397 with value: 0.6476332058442181.\n",
      "[I 2023-10-15 18:38:50,446] Trial 922 finished with value: 0.6479663535233225 and parameters: {'f0': 4.44, 'f1': 4.72, 'f2': 2.94}. Best is trial 397 with value: 0.6476332058442181.\n",
      "[I 2023-10-15 18:38:50,500] Trial 923 finished with value: 0.6481980023164059 and parameters: {'f0': 4.61, 'f1': 5.0, 'f2': 2.47}. Best is trial 397 with value: 0.6476332058442181.\n",
      "[I 2023-10-15 18:38:50,554] Trial 924 finished with value: 0.6477433955659037 and parameters: {'f0': 4.74, 'f1': 4.84, 'f2': 2.81}. Best is trial 397 with value: 0.6476332058442181.\n",
      "[I 2023-10-15 18:38:50,608] Trial 925 finished with value: 0.6477820894403336 and parameters: {'f0': 4.29, 'f1': 4.9, 'f2': 2.71}. Best is trial 397 with value: 0.6476332058442181.\n",
      "[I 2023-10-15 18:38:50,661] Trial 926 finished with value: 0.6477262825617086 and parameters: {'f0': 4.48, 'f1': 4.75, 'f2': 2.58}. Best is trial 397 with value: 0.6476332058442181.\n",
      "[I 2023-10-15 18:38:50,714] Trial 927 finished with value: 0.6481278985458566 and parameters: {'f0': 4.39, 'f1': 4.39, 'f2': 2.86}. Best is trial 397 with value: 0.6476332058442181.\n",
      "[I 2023-10-15 18:38:50,769] Trial 928 finished with value: 0.647717099185721 and parameters: {'f0': 4.22, 'f1': 4.64, 'f2': 2.68}. Best is trial 397 with value: 0.6476332058442181.\n",
      "[I 2023-10-15 18:38:50,824] Trial 929 finished with value: 0.71804859103164 and parameters: {'f0': 4.62, 'f1': 0.98, 'f2': 2.7800000000000002}. Best is trial 397 with value: 0.6476332058442181.\n",
      "[I 2023-10-15 18:38:50,879] Trial 930 finished with value: 0.651143237645906 and parameters: {'f0': 3.75, 'f1': 4.91, 'f2': 2.98}. Best is trial 397 with value: 0.6476332058442181.\n",
      "[I 2023-10-15 18:38:50,932] Trial 931 finished with value: 0.6756154478887958 and parameters: {'f0': 2.17, 'f1': 4.53, 'f2': 2.5}. Best is trial 397 with value: 0.6476332058442181.\n",
      "[I 2023-10-15 18:38:50,986] Trial 932 finished with value: 0.647686735406705 and parameters: {'f0': 4.55, 'f1': 4.8, 'f2': 2.66}. Best is trial 397 with value: 0.6476332058442181.\n",
      "[I 2023-10-15 18:38:51,040] Trial 933 finished with value: 0.6481730530260517 and parameters: {'f0': 4.69, 'f1': 4.92, 'f2': 3.17}. Best is trial 397 with value: 0.6476332058442181.\n",
      "[I 2023-10-15 18:38:51,095] Trial 934 finished with value: 0.6536205586631351 and parameters: {'f0': 4.89, 'f1': 3.44, 'f2': 2.87}. Best is trial 397 with value: 0.6476332058442181.\n",
      "[I 2023-10-15 18:38:51,149] Trial 935 finished with value: 0.6483187420943086 and parameters: {'f0': 4.38, 'f1': 4.67, 'f2': 2.31}. Best is trial 397 with value: 0.6476332058442181.\n",
      "[I 2023-10-15 18:38:51,203] Trial 936 finished with value: 0.6618295536289927 and parameters: {'f0': 4.5200000000000005, 'f1': 2.48, 'f2': 2.58}. Best is trial 397 with value: 0.6476332058442181.\n",
      "[I 2023-10-15 18:38:51,257] Trial 937 finished with value: 0.6477436507252424 and parameters: {'f0': 4.78, 'f1': 5.0, 'f2': 2.75}. Best is trial 397 with value: 0.6476332058442181.\n",
      "[I 2023-10-15 18:38:51,310] Trial 938 finished with value: 0.6478775279878656 and parameters: {'f0': 4.2700000000000005, 'f1': 4.8, 'f2': 2.43}. Best is trial 397 with value: 0.6476332058442181.\n",
      "[I 2023-10-15 18:38:51,364] Trial 939 finished with value: 0.6477720476199246 and parameters: {'f0': 4.16, 'f1': 4.72, 'f2': 2.64}. Best is trial 397 with value: 0.6476332058442181.\n",
      "[I 2023-10-15 18:38:51,419] Trial 940 finished with value: 0.7366322558429739 and parameters: {'f0': 4.47, 'f1': 0.75, 'f2': 2.7600000000000002}. Best is trial 397 with value: 0.6476332058442181.\n",
      "[I 2023-10-15 18:38:51,473] Trial 941 finished with value: 0.6477655911793911 and parameters: {'f0': 4.66, 'f1': 4.8500000000000005, 'f2': 2.94}. Best is trial 397 with value: 0.6476332058442181.\n",
      "[I 2023-10-15 18:38:51,528] Trial 942 finished with value: 0.647672718048227 and parameters: {'f0': 4.3500000000000005, 'f1': 4.59, 'f2': 2.56}. Best is trial 397 with value: 0.6476332058442181.\n",
      "[I 2023-10-15 18:38:51,582] Trial 943 finished with value: 0.6476450263417903 and parameters: {'f0': 4.59, 'f1': 5.0, 'f2': 2.83}. Best is trial 397 with value: 0.6476332058442181.\n",
      "[I 2023-10-15 18:38:51,636] Trial 944 finished with value: 0.6502095710955327 and parameters: {'f0': 4.44, 'f1': 3.65, 'f2': 2.7}. Best is trial 397 with value: 0.6476332058442181.\n",
      "[I 2023-10-15 18:38:51,691] Trial 945 finished with value: 1.287011743762514 and parameters: {'f0': 0.3, 'f1': 4.84, 'f2': 3.06}. Best is trial 397 with value: 0.6476332058442181.\n",
      "[I 2023-10-15 18:38:51,746] Trial 946 finished with value: 0.7641629162380382 and parameters: {'f0': 4.49, 'f1': 0.53, 'f2': 2.5}. Best is trial 397 with value: 0.6476332058442181.\n",
      "[I 2023-10-15 18:38:51,801] Trial 947 finished with value: 0.6479537626772569 and parameters: {'f0': 4.71, 'f1': 4.74, 'f2': 2.64}. Best is trial 397 with value: 0.6476332058442181.\n",
      "[I 2023-10-15 18:38:51,855] Trial 948 finished with value: 0.6480332156637604 and parameters: {'f0': 4.29, 'f1': 4.92, 'f2': 2.86}. Best is trial 397 with value: 0.6476332058442181.\n",
      "[I 2023-10-15 18:38:51,911] Trial 949 finished with value: 0.6480136308567551 and parameters: {'f0': 4.09, 'f1': 4.45, 'f2': 2.74}. Best is trial 397 with value: 0.6476332058442181.\n",
      "[I 2023-10-15 18:38:51,965] Trial 950 finished with value: 0.6482795378867792 and parameters: {'f0': 4.59, 'f1': 4.66, 'f2': 2.44}. Best is trial 397 with value: 0.6476332058442181.\n",
      "[I 2023-10-15 18:38:52,019] Trial 951 finished with value: 0.647708442330608 and parameters: {'f0': 4.41, 'f1': 4.91, 'f2': 2.6}. Best is trial 397 with value: 0.6476332058442181.\n",
      "[I 2023-10-15 18:38:52,073] Trial 952 finished with value: 0.6479368137904657 and parameters: {'f0': 4.21, 'f1': 4.8, 'f2': 2.77}. Best is trial 397 with value: 0.6476332058442181.\n",
      "[I 2023-10-15 18:38:52,126] Trial 953 finished with value: 0.6478097456881068 and parameters: {'f0': 4.53, 'f1': 5.0, 'f2': 2.94}. Best is trial 397 with value: 0.6476332058442181.\n",
      "[I 2023-10-15 18:38:52,181] Trial 954 finished with value: 0.647683429704074 and parameters: {'f0': 4.3500000000000005, 'f1': 4.57, 'f2': 2.69}. Best is trial 397 with value: 0.6476332058442181.\n",
      "[I 2023-10-15 18:38:52,235] Trial 955 finished with value: 0.6483603885646837 and parameters: {'f0': 4.7700000000000005, 'f1': 4.75, 'f2': 2.5300000000000002}. Best is trial 397 with value: 0.6476332058442181.\n",
      "[I 2023-10-15 18:38:52,290] Trial 956 finished with value: 0.6586668119951679 and parameters: {'f0': 4.62, 'f1': 2.8000000000000003, 'f2': 2.87}. Best is trial 397 with value: 0.6476332058442181.\n",
      "[I 2023-10-15 18:38:52,344] Trial 957 finished with value: 0.6483252435355349 and parameters: {'f0': 4.51, 'f1': 4.8500000000000005, 'f2': 2.38}. Best is trial 397 with value: 0.6476332058442181.\n",
      "[I 2023-10-15 18:38:52,400] Trial 958 finished with value: 3.460462642808357 and parameters: {'f0': 0.01, 'f1': 4.91, 'f2': 2.7800000000000002}. Best is trial 397 with value: 0.6476332058442181.\n",
      "[I 2023-10-15 18:38:52,456] Trial 959 finished with value: 0.8250448265753529 and parameters: {'f0': 0.93, 'f1': 4.68, 'f2': 2.62}. Best is trial 397 with value: 0.6476332058442181.\n",
      "[I 2023-10-15 18:38:52,510] Trial 960 finished with value: 0.6476432317175532 and parameters: {'f0': 4.39, 'f1': 4.8100000000000005, 'f2': 2.69}. Best is trial 397 with value: 0.6476332058442181.\n",
      "[I 2023-10-15 18:38:52,566] Trial 961 finished with value: 0.6506064497579991 and parameters: {'f0': 4.87, 'f1': 4.55, 'f2': 2.23}. Best is trial 397 with value: 0.6476332058442181.\n",
      "[I 2023-10-15 18:38:52,620] Trial 962 finished with value: 0.6477186372623922 and parameters: {'f0': 4.67, 'f1': 5.0, 'f2': 2.96}. Best is trial 397 with value: 0.6476332058442181.\n",
      "[I 2023-10-15 18:38:52,675] Trial 963 finished with value: 0.6476938502825099 and parameters: {'f0': 4.29, 'f1': 4.75, 'f2': 2.5300000000000002}. Best is trial 397 with value: 0.6476332058442181.\n",
      "[I 2023-10-15 18:38:52,731] Trial 964 finished with value: 0.6477271246015591 and parameters: {'f0': 4.46, 'f1': 4.91, 'f2': 2.84}. Best is trial 397 with value: 0.6476332058442181.\n",
      "[I 2023-10-15 18:38:52,786] Trial 965 finished with value: 0.6482729921761382 and parameters: {'f0': 3.99, 'f1': 4.64, 'f2': 2.73}. Best is trial 397 with value: 0.6476332058442181.\n",
      "[I 2023-10-15 18:38:52,842] Trial 966 finished with value: 0.6488761674780327 and parameters: {'f0': 4.17, 'f1': 4.84, 'f2': 3.02}. Best is trial 397 with value: 0.6476332058442181.\n",
      "[I 2023-10-15 18:38:52,897] Trial 967 finished with value: 0.6480737638699829 and parameters: {'f0': 4.58, 'f1': 4.45, 'f2': 2.61}. Best is trial 397 with value: 0.6476332058442181.\n",
      "[I 2023-10-15 18:38:52,954] Trial 968 finished with value: 0.647710531496282 and parameters: {'f0': 4.75, 'f1': 4.91, 'f2': 2.8000000000000003}. Best is trial 397 with value: 0.6476332058442181.\n",
      "[I 2023-10-15 18:38:53,009] Trial 969 finished with value: 0.6536294091755567 and parameters: {'f0': 3.12, 'f1': 4.73, 'f2': 2.49}. Best is trial 397 with value: 0.6476332058442181.\n",
      "[I 2023-10-15 18:38:53,065] Trial 970 finished with value: 0.6540306733496972 and parameters: {'f0': 4.43, 'f1': 4.8100000000000005, 'f2': 1.75}. Best is trial 397 with value: 0.6476332058442181.\n",
      "[I 2023-10-15 18:38:53,119] Trial 971 finished with value: 0.6477262512180314 and parameters: {'f0': 4.54, 'f1': 5.0, 'f2': 2.89}. Best is trial 397 with value: 0.6476332058442181.\n",
      "[I 2023-10-15 18:38:53,177] Trial 972 finished with value: 0.6491950842042192 and parameters: {'f0': 3.61, 'f1': 4.09, 'f2': 2.68}. Best is trial 397 with value: 0.6476332058442181.\n",
      "[I 2023-10-15 18:38:53,233] Trial 973 finished with value: 0.6480399062668997 and parameters: {'f0': 4.65, 'f1': 4.64, 'f2': 2.58}. Best is trial 397 with value: 0.6476332058442181.\n",
      "[I 2023-10-15 18:38:53,291] Trial 974 finished with value: 0.6481229839364129 and parameters: {'f0': 4.3500000000000005, 'f1': 4.37, 'f2': 2.37}. Best is trial 397 with value: 0.6476332058442181.\n",
      "[I 2023-10-15 18:38:53,346] Trial 975 finished with value: 0.6478515723792642 and parameters: {'f0': 4.22, 'f1': 4.51, 'f2': 2.75}. Best is trial 397 with value: 0.6476332058442181.\n",
      "[I 2023-10-15 18:38:53,402] Trial 976 finished with value: 0.6476570722073429 and parameters: {'f0': 4.5200000000000005, 'f1': 4.9, 'f2': 2.81}. Best is trial 397 with value: 0.6476332058442181.\n",
      "[I 2023-10-15 18:38:53,458] Trial 977 finished with value: 0.6476349420089268 and parameters: {'f0': 4.41, 'f1': 4.76, 'f2': 2.65}. Best is trial 397 with value: 0.6476332058442181.\n",
      "[I 2023-10-15 18:38:53,514] Trial 978 finished with value: 0.6478412373056972 and parameters: {'f0': 4.47, 'f1': 4.79, 'f2': 2.91}. Best is trial 397 with value: 0.6476332058442181.\n",
      "[I 2023-10-15 18:38:53,570] Trial 979 finished with value: 0.6476890216716134 and parameters: {'f0': 4.61, 'f1': 4.84, 'f2': 2.7}. Best is trial 397 with value: 0.6476332058442181.\n",
      "[I 2023-10-15 18:38:53,626] Trial 980 finished with value: 0.648004113207831 and parameters: {'f0': 4.71, 'f1': 4.73, 'f2': 3.02}. Best is trial 397 with value: 0.6476332058442181.\n",
      "[I 2023-10-15 18:38:53,681] Trial 981 finished with value: 0.6477757192081166 and parameters: {'f0': 4.42, 'f1': 4.93, 'f2': 2.84}. Best is trial 397 with value: 0.6476332058442181.\n",
      "[I 2023-10-15 18:38:53,738] Trial 982 finished with value: 0.6476602351350954 and parameters: {'f0': 4.53, 'f1': 4.84, 'f2': 2.67}. Best is trial 397 with value: 0.6476332058442181.\n",
      "[I 2023-10-15 18:38:53,794] Trial 983 finished with value: 0.6477738153161489 and parameters: {'f0': 4.83, 'f1': 5.0, 'f2': 2.77}. Best is trial 397 with value: 0.6476332058442181.\n",
      "[I 2023-10-15 18:38:53,850] Trial 984 finished with value: 0.6477397639450112 and parameters: {'f0': 4.55, 'f1': 4.73, 'f2': 2.63}. Best is trial 397 with value: 0.6476332058442181.\n",
      "[I 2023-10-15 18:38:53,907] Trial 985 finished with value: 0.6476833973826769 and parameters: {'f0': 4.65, 'f1': 4.91, 'f2': 2.89}. Best is trial 397 with value: 0.6476332058442181.\n",
      "[I 2023-10-15 18:38:53,964] Trial 986 finished with value: 0.6521713957244315 and parameters: {'f0': 4.39, 'f1': 4.76, 'f2': 3.72}. Best is trial 397 with value: 0.6476332058442181.\n",
      "[I 2023-10-15 18:38:54,019] Trial 987 finished with value: 0.6476853757599447 and parameters: {'f0': 4.45, 'f1': 4.8500000000000005, 'f2': 2.8000000000000003}. Best is trial 397 with value: 0.6476332058442181.\n",
      "[I 2023-10-15 18:38:54,074] Trial 988 finished with value: 0.6477434418311004 and parameters: {'f0': 4.6000000000000005, 'f1': 4.7, 'f2': 2.72}. Best is trial 397 with value: 0.6476332058442181.\n",
      "[I 2023-10-15 18:38:54,131] Trial 989 finished with value: 0.6488653688201995 and parameters: {'f0': 4.34, 'f1': 4.92, 'f2': 3.15}. Best is trial 397 with value: 0.6476332058442181.\n",
      "[I 2023-10-15 18:38:54,187] Trial 990 finished with value: 0.6544014241092647 and parameters: {'f0': 4.73, 'f1': 3.2800000000000002, 'f2': 2.96}. Best is trial 397 with value: 0.6476332058442181.\n",
      "[I 2023-10-15 18:38:54,243] Trial 991 finished with value: 0.6477267883589574 and parameters: {'f0': 4.49, 'f1': 5.0, 'f2': 2.63}. Best is trial 397 with value: 0.6476332058442181.\n",
      "[I 2023-10-15 18:38:54,298] Trial 992 finished with value: 0.6476750499401833 and parameters: {'f0': 4.6000000000000005, 'f1': 4.8100000000000005, 'f2': 2.73}. Best is trial 397 with value: 0.6476332058442181.\n",
      "[I 2023-10-15 18:38:54,354] Trial 993 finished with value: 0.6541544003962517 and parameters: {'f0': 3.2800000000000002, 'f1': 4.65, 'f2': 2.85}. Best is trial 397 with value: 0.6476332058442181.\n",
      "[I 2023-10-15 18:38:54,410] Trial 994 finished with value: 0.6477923058313909 and parameters: {'f0': 4.39, 'f1': 4.84, 'f2': 2.5100000000000002}. Best is trial 397 with value: 0.6476332058442181.\n",
      "[I 2023-10-15 18:38:54,466] Trial 995 finished with value: 0.647693731976032 and parameters: {'f0': 4.5, 'f1': 4.92, 'f2': 2.63}. Best is trial 397 with value: 0.6476332058442181.\n",
      "[I 2023-10-15 18:38:54,523] Trial 996 finished with value: 0.6477900493505974 and parameters: {'f0': 4.7, 'f1': 4.75, 'f2': 2.77}. Best is trial 397 with value: 0.6476332058442181.\n",
      "[I 2023-10-15 18:38:54,581] Trial 997 finished with value: 0.7872467405121438 and parameters: {'f0': 4.3100000000000005, 'f1': 0.42, 'f2': 3.0500000000000003}. Best is trial 397 with value: 0.6476332058442181.\n",
      "[I 2023-10-15 18:38:54,636] Trial 998 finished with value: 0.6478390938398273 and parameters: {'f0': 4.5600000000000005, 'f1': 4.84, 'f2': 2.56}. Best is trial 397 with value: 0.6476332058442181.\n",
      "[I 2023-10-15 18:38:54,694] Trial 999 finished with value: 0.6480671104676661 and parameters: {'f0': 4.78, 'f1': 4.63, 'f2': 2.92}. Best is trial 397 with value: 0.6476332058442181.\n"
     ]
    },
    {
     "name": "stdout",
     "output_type": "stream",
     "text": [
      "Best parameters: {'f0': 4.51, 'f1': 4.86, 'f2': 2.72}\n"
     ]
    }
   ],
   "source": [
    "import optuna\n",
    "from functools import partial\n",
    "\n",
    "def objective(trial, y_true, y_pred):\n",
    "    y_pred = y_pred.copy()\n",
    "    f0 = trial.suggest_float('f0', 0., 5., step=0.01)\n",
    "    f1 = trial.suggest_float('f1', 0., 5., step=0.01)\n",
    "    f2 = trial.suggest_float('f2', 0., 5., step=0.01)\n",
    "    \n",
    "    y_pred[:, 0] *= f0\n",
    "    y_pred[:, 1] *= f1\n",
    "    y_pred[:, 2] *= f2\n",
    "    \n",
    "    score = Metric(label=3).get_score(y_true, y_pred)\n",
    "    return score\n",
    "\n",
    "study = optuna.create_study(direction='minimize')\n",
    "\n",
    "objective_partial = partial(objective, y_true=gts_, y_pred=preds_)\n",
    "study.optimize(objective_partial, n_trials=1000)\n",
    "\n",
    "best_params = study.best_params\n",
    "print(f'Best parameters: {best_params}')"
   ]
  },
  {
   "cell_type": "code",
   "execution_count": 309,
   "id": "fa9e1838-413c-451c-8cff-846ef979c088",
   "metadata": {
    "tags": []
   },
   "outputs": [
    {
     "data": {
      "text/plain": [
       "array([4.386, 3.448, 2.336])"
      ]
     },
     "execution_count": 309,
     "metadata": {},
     "output_type": "execute_result"
    }
   ],
   "source": [
    "(np.array([4.9, 2.87, 1.93]) + np.array([3.38, 4.66, 2.75]) + np.array([4.51, 1.9, 2.2]) + np.array([4.63, 2.95, 2.08]) + np.array([4.51, 4.86, 2.72])) / 5"
   ]
  },
  {
   "cell_type": "code",
   "execution_count": 308,
   "id": "709013d4",
   "metadata": {
    "tags": []
   },
   "outputs": [],
   "source": [
    "# metric.get_score(gts, preds[:])"
   ]
  },
  {
   "cell_type": "code",
   "execution_count": 214,
   "id": "49654f8c",
   "metadata": {
    "tags": []
   },
   "outputs": [
    {
     "data": {
      "text/plain": [
       "0.8433931484502447"
      ]
     },
     "execution_count": 214,
     "metadata": {},
     "output_type": "execute_result"
    }
   ],
   "source": [
    "f1_score(gts_.argmax(1), preds_.argmax(1), average=\"micro\")"
   ]
  },
  {
   "cell_type": "code",
   "execution_count": 215,
   "id": "536f67ab",
   "metadata": {
    "tags": []
   },
   "outputs": [
    {
     "data": {
      "text/plain": [
       "0.530956883417785"
      ]
     },
     "execution_count": 215,
     "metadata": {},
     "output_type": "execute_result"
    }
   ],
   "source": [
    "f1_score(gts_.argmax(1), preds_.argmax(1), average=\"macro\")"
   ]
  },
  {
   "cell_type": "code",
   "execution_count": 216,
   "id": "803acb61",
   "metadata": {
    "tags": []
   },
   "outputs": [],
   "source": [
    "from sklearn.metrics import classification_report, roc_auc_score, roc_curve"
   ]
  },
  {
   "cell_type": "code",
   "execution_count": 217,
   "id": "2c1a5aa6",
   "metadata": {
    "tags": []
   },
   "outputs": [
    {
     "data": {
      "text/plain": [
       "(613, 3)"
      ]
     },
     "execution_count": 217,
     "metadata": {},
     "output_type": "execute_result"
    }
   ],
   "source": [
    "gts_.shape"
   ]
  },
  {
   "cell_type": "code",
   "execution_count": 218,
   "id": "ad6dfd23",
   "metadata": {
    "tags": []
   },
   "outputs": [
    {
     "name": "stdout",
     "output_type": "stream",
     "text": [
      "0.7816091954022988\n",
      "0.7232957595276436\n",
      "0.9127842484747642\n"
     ]
    }
   ],
   "source": [
    "print(roc_auc_score(gts_[:, 0], preds_[:, 0]))\n",
    "print(roc_auc_score(gts_[:, 1], preds_[:, 1]))\n",
    "print(roc_auc_score(gts_[:, 2], preds_[:, 2]))"
   ]
  },
  {
   "cell_type": "code",
   "execution_count": 219,
   "id": "475818a4",
   "metadata": {
    "tags": []
   },
   "outputs": [],
   "source": [
    "def plot_roc_curve(y_true, y_score):\n",
    "    plt.figure(figsize=(10, 8))\n",
    "    classes = y_true.shape[-1]\n",
    "    for i in range(classes):\n",
    "        fpr, tpr, _ = roc_curve(y_true[:, i], y_score[:, i])\n",
    "        roc_auc = roc_auc_score(y_true[:, i], y_score[:, i])\n",
    "        plt.plot(fpr, tpr, label=f'{i} (AUC = {roc_auc:.2f})')\n",
    "    \n",
    "    plt.plot([0, 1], [0, 1], 'k--')\n",
    "    plt.xlim([0.0, 1.0])\n",
    "    plt.ylim([0.0, 1.05])\n",
    "    plt.xlabel('False Positive Rate')\n",
    "    plt.ylabel('True Positive Rate')\n",
    "    plt.title('Receiver Operating Characteristic (ROC) Curve')\n",
    "    plt.legend(loc=\"lower right\")\n",
    "    plt.show()"
   ]
  },
  {
   "cell_type": "code",
   "execution_count": 220,
   "id": "eb71938b",
   "metadata": {
    "tags": []
   },
   "outputs": [
    {
     "data": {
      "image/png": "[encoded data removed]",
      "text/plain": [
       "<Figure size 1000x800 with 1 Axes>"
      ]
     },
     "metadata": {},
     "output_type": "display_data"
    }
   ],
   "source": [
    "plot_roc_curve(gts_, preds_)"
   ]
  },
  {
   "cell_type": "code",
   "execution_count": 221,
   "id": "8f74723d",
   "metadata": {
    "tags": []
   },
   "outputs": [
    {
     "name": "stdout",
     "output_type": "stream",
     "text": [
      "              precision    recall  f1-score   support\n",
      "\n",
      "           0       0.94      0.90      0.92       555\n",
      "           1       0.20      0.28      0.23        46\n",
      "           2       0.40      0.50      0.44        12\n",
      "\n",
      "    accuracy                           0.84       613\n",
      "   macro avg       0.51      0.56      0.53       613\n",
      "weighted avg       0.87      0.84      0.86       613\n",
      "\n"
     ]
    }
   ],
   "source": [
    "print(classification_report(gts_.argmax(1), preds_.argmax(1)))"
   ]
  },
  {
   "cell_type": "code",
   "execution_count": null,
   "id": "8d2d8b06",
   "metadata": {},
   "outputs": [],
   "source": []
  }
 ],
 "metadata": {
  "kernelspec": {
   "display_name": "Python 3 (ipykernel)",
   "language": "python",
   "name": "python3"
  },
  "language_info": {
   "codemirror_mode": {
    "name": "ipython",
    "version": 3
   },
   "file_extension": ".py",
   "mimetype": "text/x-python",
   "name": "python",
   "nbconvert_exporter": "python",
   "pygments_lexer": "ipython3",
   "version": "3.9.17"
  }
 },
 "nbformat": 4,
 "nbformat_minor": 5
}
